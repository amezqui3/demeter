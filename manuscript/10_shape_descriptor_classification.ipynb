{
 "cells": [
  {
   "cell_type": "markdown",
   "metadata": {},
   "source": [
    "# Shape descriptor analysis (Part 1)\n",
    "\n",
    "We finally have some numbers to work with.\n",
    "- **Traditional shape descriptors**: 11 numbers, like grain length, width, height, etc\n",
    "- **Topological shape descriptors**: Variable number: from the Euler Characteristic Transform\n",
    "\n",
    "How good are these descriptors? Can we characterize the shape of different founders based solely on their grain morphology? We can train a Support Vector Machine (SVM) with an 80/20 train/test breakdown and test the classification accuracy. The SVM can be trained with either\n",
    "- Purely traditional descriptors\n",
    "- Purely topological descriptors\n",
    "- A combination of both descriptors\n",
    "\n",
    "Take into account that the ECT produces extremely large vectors. To avoid pathological behavior, we must reduce their dimension as a first step."
   ]
  },
  {
   "cell_type": "code",
   "execution_count": 1,
   "metadata": {},
   "outputs": [],
   "source": [
    "suppressPackageStartupMessages(library(e1071))\n",
    "suppressPackageStartupMessages(library(kernlab))"
   ]
  },
  {
   "cell_type": "markdown",
   "metadata": {},
   "source": [
    "## Read and wrangle the data\n",
    "\n",
    "- Read the CSV that contains both the traditional and topological descriptors\n",
    "- For the topological descriptors, we select the file corresponding to the number of directions `d` and thresholds `TT`\n",
    "- Get the name of founders and shorten some of their names (it will make plots less clustered later)\n",
    "- Distinguish the columns referring to traditional or topological information"
   ]
  },
  {
   "cell_type": "code",
   "execution_count": 2,
   "metadata": {},
   "outputs": [
    {
     "name": "stdout",
     "output_type": "stream",
     "text": [
      " [1] \"Algerian\"        \"Alpha\"           \"Arequipa\"        \"Atlas\"          \n",
      " [5] \"CA Mariout\"      \"Club Mariout\"    \"Everest\"         \"Flynn\"          \n",
      " [9] \"Glabron\"         \"Golden Pheasant\" \"Good Delta\"      \"Han River\"      \n",
      "[13] \"Hannchen\"        \"Horn\"            \"Lion\"            \"Lyallpur\"       \n",
      "[17] \"Maison Carree\"   \"Manchuria\"       \"Meloy\"           \"Minia\"          \n",
      "[21] \"Multan\"          \"Oderbrucker\"     \"Orel\"            \"Palmella Blue\"  \n",
      "[25] \"Sandrel\"         \"Trebi\"           \"White Smyrna\"    \"WI Winter\"      \n"
     ]
    },
    {
     "data": {
      "text/html": [
       "<style>\n",
       ".list-inline {list-style: none; margin:0; padding: 0}\n",
       ".list-inline>li {display: inline-block}\n",
       ".list-inline>li:not(:last-child)::after {content: \"\\00b7\"; padding: 0 .5ex}\n",
       "</style>\n",
       "<ol class=list-inline><li>3121</li><li>1284</li></ol>\n"
      ],
      "text/latex": [
       "\\begin{enumerate*}\n",
       "\\item 3121\n",
       "\\item 1284\n",
       "\\end{enumerate*}\n"
      ],
      "text/markdown": [
       "1. 3121\n",
       "2. 1284\n",
       "\n",
       "\n"
      ],
      "text/plain": [
       "[1] 3121 1284"
      ]
     },
     "metadata": {},
     "output_type": "display_data"
    },
    {
     "name": "stdout",
     "output_type": "stream",
     "text": [
      " [1] \"Length\"          \"Width\"           \"Height\"          \"HeightMax\"      \n",
      " [5] \"Shell\"           \"Area\"            \"Vol\"             \"ConvexArea\"     \n",
      " [9] \"ConvexVol\"       \"ConvexAreaRatio\" \"ConvexVolRatio\" \n",
      " [1] \"X7\"  \"X15\" \"X23\" \"X31\" \"X39\" \"X47\" \"X55\" \"X63\" \"X71\" \"X79\"\n"
     ]
    }
   ],
   "source": [
    "setwd('/home/ejam/documents/barley_stacks/preproc/norm_ect/results')\n",
    "norm <- 'Normalized Size'\n",
    "d <- 158\n",
    "TT <- 8\n",
    "founders <- read.csv(paste('combined_d',d,'_T',TT,'.csv',sep=''))\n",
    "\n",
    "#founders_names_original <- levels(unique(founders$Founder))\n",
    "founders_names_original <- sort(unique(founders$Founder))\n",
    "founders_names <- founders_names_original\n",
    "founders_names[5] <- 'CA Mariout'\n",
    "founders_names[11] <- 'Good Delta'\n",
    "founders_names[17] <- 'Maison Carree'\n",
    "founders_names[24] <- 'Palmella Blue'\n",
    "founders_names[28] <- 'WI Winter'\n",
    "print(founders_names)\n",
    "\n",
    "founders$Founder <- factor(founders$Founder, level=founders_names_original)\n",
    "\n",
    "dim(founders)\n",
    "\n",
    "trad_traits <- colnames(founders)[10:20]\n",
    "print(trad_traits)\n",
    "topo_traits <- colnames(founders)[21:ncol(founders)]\n",
    "print(topo_traits[1:10])"
   ]
  },
  {
   "cell_type": "markdown",
   "metadata": {},
   "source": [
    "## Dimension reduction\n",
    "\n",
    "- The ECT produces very high dimensional vectors. When considering 74 directions and 64 thresholds each, we obtain a $74\\times64=4736$-dimensional vector for _each_ seed.\n",
    "- Dimension reduction is performed with kernel PCA, using a Laplacian kernel"
   ]
  },
  {
   "cell_type": "code",
   "execution_count": null,
   "metadata": {},
   "outputs": [],
   "source": [
    "dims <- 24\n",
    "kernel <- 'laplacedot'\n",
    "kpar <- list(sigma=1)\n",
    "kpc <- kernlab::kpca(~.,data=founders[,topo_traits], kernel=kernel, features=dims, kpar=kpar)"
   ]
  },
  {
   "cell_type": "code",
   "execution_count": null,
   "metadata": {},
   "outputs": [],
   "source": [
    "info_type <- 'Combined'\n",
    "mixed <- cbind(founders[,trad_traits], kpc@rotated)\n",
    "scaled_data <- base::scale(mixed, center=TRUE, scale=TRUE)\n",
    "dim(scaled_data)\n",
    "\n",
    "filename <- paste('kpca',tolower(gsub(' ', '_', norm)), \n",
    "                  tolower(info_type), d, TT, kernel, dims, 'founders.csv', sep='_')\n",
    "print(filename)\n",
    "utils::write.csv(scaled_data, filename, row.names=FALSE, col.names=TRUE)"
   ]
  },
  {
   "cell_type": "markdown",
   "metadata": {},
   "source": [
    "---"
   ]
  },
  {
   "cell_type": "code",
   "execution_count": 18,
   "metadata": {},
   "outputs": [
    {
     "name": "stdout",
     "output_type": "stream",
     "text": [
      "[1] 3121   35\n"
     ]
    }
   ],
   "source": [
    "d <- 158\n",
    "TT <- 8\n",
    "dims <- 24\n",
    "kernel <- 'laplacedot'\n",
    "info_type <- 'Combined'\n",
    "filename <- paste('kpca',tolower(gsub(' ', '_', norm)),tolower(info_type), d, TT, kernel, dims, 'founders.csv', sep='_')\n",
    "\n",
    "kpcresults <- read.csv(filename)\n",
    "print(dim(kpcresults))\n",
    "kpc <- kpcresults[, 12:35]"
   ]
  },
  {
   "cell_type": "code",
   "execution_count": 17,
   "metadata": {},
   "outputs": [
    {
     "name": "stdout",
     "output_type": "stream",
     "text": [
      "[1] \"svm_results_normalized_size_topological_101_64_laplacedot_2_founders.rds\"\n",
      "[1] \"svm_results_normalized_size_topological_101_64_laplacedot_3_founders.rds\"\n",
      "[1] \"svm_results_normalized_size_topological_101_64_laplacedot_6_founders.rds\"\n",
      "[1] \"svm_results_normalized_size_topological_101_64_laplacedot_12_founders.rds\"\n",
      "[1] \"svm_results_normalized_size_topological_101_64_laplacedot_24_founders.rds\"\n"
     ]
    }
   ],
   "source": [
    "info_type <- 'Topological'\n",
    "\n",
    "for(dims in c(2,3,6,12,24)){\n",
    "    scaled_data <- kpc[,1:dims]\n",
    "\n",
    "    sample_runs <- 100\n",
    "    percent_train <- 0.75\n",
    "    results <- base::array(0, dim=c(length(founders_names), length(founders_names), sample_runs))\n",
    "\n",
    "    for(j in 1:sample_runs){\n",
    "        train_ids <- c()\n",
    "        for(i in 1:length(founders_names_original)){\n",
    "            seed_ids <- which(founders$Founder == founders_names_original[i])\n",
    "            seed_train <- sample(seed_ids, size = floor(length(seed_ids)*percent_train), \n",
    "                                 replace=FALSE)\n",
    "            train_ids <- c(train_ids, seed_train)\n",
    "        }\n",
    "        test_ids <- setdiff(1:nrow(founders), train_ids)\n",
    "        train_labs <- founders$Founder[train_ids]\n",
    "        test_labs <- founders$Founder[test_ids]\n",
    "\n",
    "        model <- e1071::svm(scaled_data[train_ids,], train_labs, type='C-classification',\n",
    "                            kernel='radial', coef0=10, degree=2, gamma=20, cost=100, scale=FALSE)\n",
    "        pred <- stats::predict(model, scaled_data[test_ids,])\n",
    "        results[,,j] <- matrix(as.numeric(table(pred, test_labs)),\n",
    "                                length(founders_names), length(founders_names))\n",
    "    }\n",
    "\n",
    "    filename <- paste('svm_results',tolower(gsub(' ', '_', norm)), \n",
    "                      tolower(info_type), d, TT, kernel, dims, 'founders.rds', sep='_')\n",
    "    print(filename)\n",
    "    base::saveRDS(results, filename)\n",
    "}"
   ]
  },
  {
   "cell_type": "markdown",
   "metadata": {},
   "source": [
    "## Combine the descriptors\n",
    "\n",
    "- Create a matrix with 23 descriptors per seed: 11 traditional and 12 topological\n",
    "- Center and scale the descriptors so we don't have to repeat this step whenever computing SVMs"
   ]
  },
  {
   "cell_type": "code",
   "execution_count": null,
   "metadata": {},
   "outputs": [],
   "source": [
    "info_type <- 'Combined'\n",
    "\n",
    "for(dims in c(2,3)){\n",
    "#for(dims in c(3,6,24)){\n",
    "scaled_data <- results\n",
    "dim(scaled_data)\n",
    "scaled_data[1:5, ]\n",
    "\n",
    "sample_runs <- 100\n",
    "percent_train <- 0.8\n",
    "results <- base::array(0, dim=c(length(founders_names), length(founders_names), sample_runs))\n",
    "\n",
    "for(j in 1:sample_runs){\n",
    "    train_ids <- c()\n",
    "    for(i in 1:length(founders_names_original)){\n",
    "        seed_ids <- which(founders$Founder == founders_names_original[i])\n",
    "        seed_train <- sample(seed_ids, size = floor(length(seed_ids)*percent_train), \n",
    "                             replace=FALSE)\n",
    "        train_ids <- c(train_ids, seed_train)\n",
    "    }\n",
    "    test_ids <- setdiff(1:nrow(founders), train_ids)\n",
    "    train_labs <- founders$Founder[train_ids]\n",
    "    test_labs <- founders$Founder[test_ids]\n",
    "\n",
    "    model <- e1071::svm(scaled_data[train_ids,], train_labs, type='C-classification',\n",
    "                        kernel='polynomial', coef0=5, degree=3, gamma=0.01, cost=50, scale=FALSE)\n",
    "    pred <- stats::predict(model, scaled_data[test_ids,])\n",
    "    results[,,j] <- matrix(as.numeric(table(pred, test_labs)),\n",
    "                            length(founders_names), length(founders_names))\n",
    "}\n",
    "\n",
    "filename <- paste('svm_results',tolower(gsub(' ', '_', norm)), \n",
    "                  tolower(info_type), d, TT, kernel, dims, 'founders.rds', sep='_')\n",
    "print(filename)\n",
    "base::saveRDS(results, filename)\n",
    "    \n",
    "}"
   ]
  },
  {
   "cell_type": "markdown",
   "metadata": {},
   "source": [
    "## Classify with an SVM\n",
    "\n",
    "- Do a 80/20 split for training/testing\n",
    "- That is, select randomly 80% of the sample for each of the 28 grain varieties\n",
    "- The rest will be used later to test to make sure we're not overfitting the training."
   ]
  },
  {
   "cell_type": "code",
   "execution_count": 22,
   "metadata": {},
   "outputs": [
    {
     "data": {
      "text/html": [
       "<style>\n",
       ".list-inline {list-style: none; margin:0; padding: 0}\n",
       ".list-inline>li {display: inline-block}\n",
       ".list-inline>li:not(:last-child)::after {content: \"\\00b7\"; padding: 0 .5ex}\n",
       "</style>\n",
       "<ol class=list-inline><li>3121</li><li>13</li></ol>\n"
      ],
      "text/latex": [
       "\\begin{enumerate*}\n",
       "\\item 3121\n",
       "\\item 13\n",
       "\\end{enumerate*}\n"
      ],
      "text/markdown": [
       "1. 3121\n",
       "2. 13\n",
       "\n",
       "\n"
      ],
      "text/plain": [
       "[1] 3121   13"
      ]
     },
     "metadata": {},
     "output_type": "display_data"
    },
    {
     "data": {
      "text/html": [
       "<table>\n",
       "<caption>A data.frame: 5 × 13</caption>\n",
       "<thead>\n",
       "\t<tr><th></th><th scope=col>Length</th><th scope=col>Width</th><th scope=col>Height</th><th scope=col>HeightMax</th><th scope=col>Shell</th><th scope=col>Area</th><th scope=col>Vol</th><th scope=col>ConvexArea</th><th scope=col>ConvexVol</th><th scope=col>ConvexAreaRatio</th><th scope=col>ConvexVolRatio</th><th scope=col>X1</th><th scope=col>X2</th></tr>\n",
       "\t<tr><th></th><th scope=col>&lt;dbl&gt;</th><th scope=col>&lt;dbl&gt;</th><th scope=col>&lt;dbl&gt;</th><th scope=col>&lt;dbl&gt;</th><th scope=col>&lt;dbl&gt;</th><th scope=col>&lt;dbl&gt;</th><th scope=col>&lt;dbl&gt;</th><th scope=col>&lt;dbl&gt;</th><th scope=col>&lt;dbl&gt;</th><th scope=col>&lt;dbl&gt;</th><th scope=col>&lt;dbl&gt;</th><th scope=col>&lt;dbl&gt;</th><th scope=col>&lt;dbl&gt;</th></tr>\n",
       "</thead>\n",
       "<tbody>\n",
       "\t<tr><th scope=row>1</th><td> 0.33277264</td><td> 2.0880757</td><td>1.3426304</td><td>1.5325907</td><td> 1.25191221</td><td> 1.0868236</td><td>1.3225306</td><td> 1.16746191</td><td>1.3774174</td><td>-0.5391536</td><td>-1.2877597</td><td> -0.4186627</td><td> -0.722997</td></tr>\n",
       "\t<tr><th scope=row>2</th><td>-0.11654863</td><td>-0.3338037</td><td>0.5324128</td><td>0.5326279</td><td>-0.06973813</td><td> 0.1377740</td><td>0.1152911</td><td> 0.07223388</td><td>0.1178263</td><td> 0.7196770</td><td>-0.1955997</td><td> 46.7744101</td><td> 26.142881</td></tr>\n",
       "\t<tr><th scope=row>3</th><td>-0.55052796</td><td> 0.4842395</td><td>0.7308134</td><td>1.2625320</td><td>-0.03514948</td><td>-0.1004895</td><td>0.1157133</td><td>-0.02297631</td><td>0.1316591</td><td>-0.8063126</td><td>-0.4401854</td><td>-27.8574441</td><td> 43.189711</td></tr>\n",
       "\t<tr><th scope=row>4</th><td> 0.04206057</td><td> 0.6770330</td><td>1.3325318</td><td>1.4306697</td><td> 0.74400526</td><td> 0.4371050</td><td>0.7837276</td><td> 0.62186402</td><td>0.7962748</td><td>-1.6617855</td><td>-0.5701468</td><td>  2.4496341</td><td>-19.386259</td></tr>\n",
       "\t<tr><th scope=row>5</th><td> 0.23999612</td><td> 1.9765720</td><td>1.6997866</td><td>2.0690106</td><td> 1.06895648</td><td> 1.1699155</td><td>1.3054713</td><td> 1.09432589</td><td>1.3407883</td><td> 0.8421753</td><td>-1.0108854</td><td> -0.4801125</td><td>  2.048908</td></tr>\n",
       "</tbody>\n",
       "</table>\n"
      ],
      "text/latex": [
       "A data.frame: 5 × 13\n",
       "\\begin{tabular}{r|lllllllllllll}\n",
       "  & Length & Width & Height & HeightMax & Shell & Area & Vol & ConvexArea & ConvexVol & ConvexAreaRatio & ConvexVolRatio & X1 & X2\\\\\n",
       "  & <dbl> & <dbl> & <dbl> & <dbl> & <dbl> & <dbl> & <dbl> & <dbl> & <dbl> & <dbl> & <dbl> & <dbl> & <dbl>\\\\\n",
       "\\hline\n",
       "\t1 &  0.33277264 &  2.0880757 & 1.3426304 & 1.5325907 &  1.25191221 &  1.0868236 & 1.3225306 &  1.16746191 & 1.3774174 & -0.5391536 & -1.2877597 &  -0.4186627 &  -0.722997\\\\\n",
       "\t2 & -0.11654863 & -0.3338037 & 0.5324128 & 0.5326279 & -0.06973813 &  0.1377740 & 0.1152911 &  0.07223388 & 0.1178263 &  0.7196770 & -0.1955997 &  46.7744101 &  26.142881\\\\\n",
       "\t3 & -0.55052796 &  0.4842395 & 0.7308134 & 1.2625320 & -0.03514948 & -0.1004895 & 0.1157133 & -0.02297631 & 0.1316591 & -0.8063126 & -0.4401854 & -27.8574441 &  43.189711\\\\\n",
       "\t4 &  0.04206057 &  0.6770330 & 1.3325318 & 1.4306697 &  0.74400526 &  0.4371050 & 0.7837276 &  0.62186402 & 0.7962748 & -1.6617855 & -0.5701468 &   2.4496341 & -19.386259\\\\\n",
       "\t5 &  0.23999612 &  1.9765720 & 1.6997866 & 2.0690106 &  1.06895648 &  1.1699155 & 1.3054713 &  1.09432589 & 1.3407883 &  0.8421753 & -1.0108854 &  -0.4801125 &   2.048908\\\\\n",
       "\\end{tabular}\n"
      ],
      "text/markdown": [
       "\n",
       "A data.frame: 5 × 13\n",
       "\n",
       "| <!--/--> | Length &lt;dbl&gt; | Width &lt;dbl&gt; | Height &lt;dbl&gt; | HeightMax &lt;dbl&gt; | Shell &lt;dbl&gt; | Area &lt;dbl&gt; | Vol &lt;dbl&gt; | ConvexArea &lt;dbl&gt; | ConvexVol &lt;dbl&gt; | ConvexAreaRatio &lt;dbl&gt; | ConvexVolRatio &lt;dbl&gt; | X1 &lt;dbl&gt; | X2 &lt;dbl&gt; |\n",
       "|---|---|---|---|---|---|---|---|---|---|---|---|---|---|\n",
       "| 1 |  0.33277264 |  2.0880757 | 1.3426304 | 1.5325907 |  1.25191221 |  1.0868236 | 1.3225306 |  1.16746191 | 1.3774174 | -0.5391536 | -1.2877597 |  -0.4186627 |  -0.722997 |\n",
       "| 2 | -0.11654863 | -0.3338037 | 0.5324128 | 0.5326279 | -0.06973813 |  0.1377740 | 0.1152911 |  0.07223388 | 0.1178263 |  0.7196770 | -0.1955997 |  46.7744101 |  26.142881 |\n",
       "| 3 | -0.55052796 |  0.4842395 | 0.7308134 | 1.2625320 | -0.03514948 | -0.1004895 | 0.1157133 | -0.02297631 | 0.1316591 | -0.8063126 | -0.4401854 | -27.8574441 |  43.189711 |\n",
       "| 4 |  0.04206057 |  0.6770330 | 1.3325318 | 1.4306697 |  0.74400526 |  0.4371050 | 0.7837276 |  0.62186402 | 0.7962748 | -1.6617855 | -0.5701468 |   2.4496341 | -19.386259 |\n",
       "| 5 |  0.23999612 |  1.9765720 | 1.6997866 | 2.0690106 |  1.06895648 |  1.1699155 | 1.3054713 |  1.09432589 | 1.3407883 |  0.8421753 | -1.0108854 |  -0.4801125 |   2.048908 |\n",
       "\n"
      ],
      "text/plain": [
       "  Length      Width      Height    HeightMax Shell       Area       Vol      \n",
       "1  0.33277264  2.0880757 1.3426304 1.5325907  1.25191221  1.0868236 1.3225306\n",
       "2 -0.11654863 -0.3338037 0.5324128 0.5326279 -0.06973813  0.1377740 0.1152911\n",
       "3 -0.55052796  0.4842395 0.7308134 1.2625320 -0.03514948 -0.1004895 0.1157133\n",
       "4  0.04206057  0.6770330 1.3325318 1.4306697  0.74400526  0.4371050 0.7837276\n",
       "5  0.23999612  1.9765720 1.6997866 2.0690106  1.06895648  1.1699155 1.3054713\n",
       "  ConvexArea  ConvexVol ConvexAreaRatio ConvexVolRatio X1          X2        \n",
       "1  1.16746191 1.3774174 -0.5391536      -1.2877597      -0.4186627  -0.722997\n",
       "2  0.07223388 0.1178263  0.7196770      -0.1955997      46.7744101  26.142881\n",
       "3 -0.02297631 0.1316591 -0.8063126      -0.4401854     -27.8574441  43.189711\n",
       "4  0.62186402 0.7962748 -1.6617855      -0.5701468       2.4496341 -19.386259\n",
       "5  1.09432589 1.3407883  0.8421753      -1.0108854      -0.4801125   2.048908"
      ]
     },
     "metadata": {},
     "output_type": "display_data"
    }
   ],
   "source": [
    "dims <- 2\n",
    "scaled_data <- kpcresults[,1:(11+dims)]\n",
    "dim(scaled_data)\n",
    "scaled_data[1:5, ]"
   ]
  },
  {
   "cell_type": "code",
   "execution_count": 52,
   "metadata": {},
   "outputs": [],
   "source": [
    "percent_train <- 0.8\n",
    "train_ids <- c()\n",
    "for(i in 1:length(founders_names_original)){\n",
    "    seed_ids <- which(founders$Founder == founders_names_original[i])\n",
    "    seed_train <- sample(seed_ids, size = floor(length(seed_ids)*percent_train), \n",
    "                         replace=FALSE)\n",
    "    train_ids <- c(train_ids, seed_train)\n",
    "}\n",
    "test_ids <- setdiff(1:nrow(founders), train_ids)\n",
    "train_labs <- founders$Founder[train_ids]\n",
    "test_labs <- founders$Founder[test_ids]"
   ]
  },
  {
   "cell_type": "markdown",
   "metadata": {},
   "source": [
    "- SVM can be sensitive to small parameter changes. \n",
    "- The best combination of parameters was based on a purely empirical approach"
   ]
  },
  {
   "cell_type": "code",
   "execution_count": 53,
   "metadata": {},
   "outputs": [
    {
     "name": "stdout",
     "output_type": "stream",
     "text": [
      "[1] \"Classification accuracy: 76.8 %\"\n"
     ]
    }
   ],
   "source": [
    "model <- e1071::svm(scaled_data[train_ids,], train_labs, type='C-classification',\n",
    "                    kernel='polynomial', coef0=25, degree=2, gamma=0.05, cost=100, scale=FALSE)\n",
    "pred <- stats::predict(model, scaled_data[test_ids,])\n",
    "clasification <- matrix(as.numeric(table(pred, test_labs)),\n",
    "                        length(founders_names), length(founders_names))\n",
    "accuracy <- sum(diag(clasification))/sum(clasification)\n",
    "\n",
    "print(paste('Classification accuracy:', 100*signif(accuracy,3), '%'))"
   ]
  },
  {
   "cell_type": "code",
   "execution_count": 54,
   "metadata": {},
   "outputs": [
    {
     "name": "stdout",
     "output_type": "stream",
     "text": [
      "[1] \"Classification accuracy: 77.6 %\"\n"
     ]
    }
   ],
   "source": [
    "model <- e1071::svm(scaled_data[train_ids,], train_labs, type='C-classification',\n",
    "                    kernel='polynomial', coef0=10, degree=3, gamma=0.01, cost=150, scale=FALSE)\n",
    "pred <- stats::predict(model, scaled_data[test_ids,])\n",
    "clasification <- matrix(as.numeric(table(pred, test_labs)),\n",
    "                        length(founders_names), length(founders_names))\n",
    "accuracy <- sum(diag(clasification))/sum(clasification)\n",
    "\n",
    "print(paste('Classification accuracy:', 100*signif(accuracy,3), '%'))"
   ]
  },
  {
   "cell_type": "code",
   "execution_count": 37,
   "metadata": {},
   "outputs": [
    {
     "name": "stdout",
     "output_type": "stream",
     "text": [
      "[1] \"Classification accuracy: 71.6 %\"\n"
     ]
    }
   ],
   "source": [
    "model <- e1071::svm(scaled_data[train_ids,], train_labs, type='C-classification',\n",
    "                    kernel='radial', coef0=5, degree=3, gamma=0.025, cost=50, scale=FALSE)\n",
    "pred <- stats::predict(model, scaled_data[test_ids,])\n",
    "clasification <- matrix(as.numeric(table(pred, test_labs)),\n",
    "                        length(founders_names), length(founders_names))\n",
    "accuracy <- sum(diag(clasification))/sum(clasification)\n",
    "\n",
    "print(paste('Classification accuracy:', 100*signif(accuracy,3), '%'))"
   ]
  },
  {
   "cell_type": "markdown",
   "metadata": {},
   "source": [
    "- Save the resulting 3D array as an RDS file"
   ]
  },
  {
   "cell_type": "code",
   "execution_count": null,
   "metadata": {},
   "outputs": [],
   "source": [
    "info_type <- 'Topological'\n",
    "scaled_data <- base::scale(kpc@rotated, center=TRUE, scale=TRUE)\n",
    "dim(scaled_data)"
   ]
  },
  {
   "cell_type": "code",
   "execution_count": null,
   "metadata": {},
   "outputs": [],
   "source": [
    "percent_train <- 0.8\n",
    "train_ids <- c()\n",
    "for(i in 1:length(founders_names_original)){\n",
    "    seed_ids <- which(founders$Founder == founders_names_original[i])\n",
    "    seed_train <- sample(seed_ids, size = floor(length(seed_ids)*percent_train), \n",
    "                         replace=FALSE)\n",
    "    train_ids <- c(train_ids, seed_train)\n",
    "}\n",
    "test_ids <- setdiff(1:nrow(founders), train_ids)\n",
    "train_labs <- founders$Founder[train_ids]\n",
    "test_labs <- founders$Founder[test_ids]"
   ]
  },
  {
   "cell_type": "code",
   "execution_count": null,
   "metadata": {},
   "outputs": [],
   "source": [
    "model <- e1071::svm(scaled_data[train_ids,], train_labs, type='C-classification',\n",
    "                    kernel='polynomial', coef0=10, degree=2, gamma=5, cost=100, scale=FALSE)\n",
    "pred <- stats::predict(model, scaled_data[test_ids,])\n",
    "clasification <- matrix(as.numeric(table(pred, test_labs)),\n",
    "                        length(founders_names), length(founders_names))\n",
    "accuracy <- sum(diag(clasification))/sum(clasification)\n",
    "\n",
    "print(paste('Classification accuracy:', 100*signif(accuracy,3), '%'))"
   ]
  },
  {
   "cell_type": "code",
   "execution_count": null,
   "metadata": {},
   "outputs": [],
   "source": [
    "model <- e1071::svm(scaled_data[train_ids,], train_labs, type='C-classification',\n",
    "                    kernel='radial', coef0=10, degree=2, gamma=5, cost=100, scale=FALSE)\n",
    "pred <- stats::predict(model, scaled_data[test_ids,])\n",
    "clasification <- matrix(as.numeric(table(pred, test_labs)),\n",
    "                        length(founders_names), length(founders_names))\n",
    "accuracy <- sum(diag(clasification))/sum(clasification)\n",
    "\n",
    "print(paste('Classification accuracy:', 100*signif(accuracy,3), '%'))"
   ]
  },
  {
   "cell_type": "code",
   "execution_count": null,
   "metadata": {},
   "outputs": [],
   "source": [
    "info_type <- 'Topological'\n",
    "scaled_data <- base::scale(kpc@rotated, center=TRUE, scale=TRUE)\n",
    "\n",
    "sample_runs <- 100\n",
    "percent_train <- 0.8\n",
    "results <- base::array(0, dim=c(length(founders_names), length(founders_names), sample_runs))\n",
    "\n",
    "for(j in 1:sample_runs){\n",
    "    train_ids <- c()\n",
    "    for(i in 1:length(founders_names_original)){\n",
    "        seed_ids <- which(founders$Founder == founders_names_original[i])\n",
    "        seed_train <- sample(seed_ids, size = floor(length(seed_ids)*percent_train), \n",
    "                             replace=FALSE)\n",
    "        train_ids <- c(train_ids, seed_train)\n",
    "    }\n",
    "    test_ids <- setdiff(1:nrow(founders), train_ids)\n",
    "    train_labs <- founders$Founder[train_ids]\n",
    "    test_labs <- founders$Founder[test_ids]\n",
    "\n",
    "    model <- e1071::svm(scaled_data[train_ids,], train_labs, type='C-classification',\n",
    "                        kernel='radial', coef0=10, degree=2, gamma=5, cost=100, scale=FALSE)\n",
    "    pred <- stats::predict(model, scaled_data[test_ids,])\n",
    "    results[,,j] <- matrix(as.numeric(table(pred, test_labs)),\n",
    "                            length(founders_names), length(founders_names))\n",
    "}\n",
    "filename <- paste('svm_results',tolower(gsub(' ', '_', norm)), \n",
    "                  tolower(info_type), d, TT, kernel, dims, 'founders.rds', sep='_')\n",
    "base::saveRDS(results, filename)"
   ]
  },
  {
   "cell_type": "code",
   "execution_count": null,
   "metadata": {},
   "outputs": [],
   "source": [
    "pca <- stats::prcomp(t(founders[,trad_traits]), scale=TRUE)"
   ]
  },
  {
   "cell_type": "code",
   "execution_count": null,
   "metadata": {},
   "outputs": [],
   "source": [
    "pca$sdev"
   ]
  },
  {
   "cell_type": "code",
   "execution_count": null,
   "metadata": {},
   "outputs": [],
   "source": [
    "plot(pca$rotation[,1:3])"
   ]
  },
  {
   "cell_type": "markdown",
   "metadata": {},
   "source": [
    "## Using only traditional measures\n",
    "\n",
    "- Repeat the same procedure as before, except this time we use only the traditional descriptors\n",
    "- **We are not affected by the KPCA step, and these results are independent of the parameters selected for the ECT**"
   ]
  },
  {
   "cell_type": "code",
   "execution_count": null,
   "metadata": {},
   "outputs": [],
   "source": [
    "info_type <- 'Traditional'\n",
    "scaled_data <- base::scale(founders[,trad_traits], center=TRUE, scale=TRUE)\n",
    "dim(scaled_data)"
   ]
  },
  {
   "cell_type": "code",
   "execution_count": null,
   "metadata": {},
   "outputs": [],
   "source": [
    "info_type <- 'Traditional'\n",
    "scaled_data <- base::scale(pca$rotation[,1:9], center=TRUE, scale=TRUE)\n",
    "dim(scaled_data)"
   ]
  },
  {
   "cell_type": "code",
   "execution_count": null,
   "metadata": {},
   "outputs": [],
   "source": [
    "mixed <- cbind(pca$rotation[,1:3], kpc@rotated)\n",
    "scaled_data <- base::scale(mixed, center=TRUE, scale=TRUE)"
   ]
  },
  {
   "cell_type": "code",
   "execution_count": null,
   "metadata": {},
   "outputs": [],
   "source": [
    "percent_train <- 0.8\n",
    "train_ids <- c()\n",
    "for(i in 1:length(founders_names_original)){\n",
    "    seed_ids <- which(founders$Founder == founders_names_original[i])\n",
    "    seed_train <- sample(seed_ids, size = floor(length(seed_ids)*percent_train), \n",
    "                         replace=FALSE)\n",
    "    train_ids <- c(train_ids, seed_train)\n",
    "}\n",
    "test_ids <- setdiff(1:nrow(founders), train_ids)\n",
    "train_labs <- founders$Founder[train_ids]\n",
    "test_labs <- founders$Founder[test_ids]"
   ]
  },
  {
   "cell_type": "code",
   "execution_count": null,
   "metadata": {},
   "outputs": [],
   "source": [
    "model <- e1071::svm(scaled_data[train_ids,], train_labs, type='C-classification',\n",
    "                    kernel='polynomial', coef0=5, degree=3, gamma=0.01, cost=50, scale=FALSE)\n",
    "pred <- stats::predict(model, scaled_data[test_ids,])\n",
    "clasification <- matrix(as.numeric(table(pred, test_labs)),\n",
    "                        length(founders_names), length(founders_names))\n",
    "accuracy <- sum(diag(clasification))/sum(clasification)\n",
    "\n",
    "print(paste('Classification accuracy:', 100*signif(accuracy,3), '%'))"
   ]
  },
  {
   "cell_type": "code",
   "execution_count": null,
   "metadata": {},
   "outputs": [],
   "source": [
    "model <- e1071::svm(scaled_data[train_ids,], train_labs, type='C-classification',\n",
    "                    kernel='radial', coef0=10, degree=2, gamma=0.1, cost=10, scale=FALSE)\n",
    "pred <- stats::predict(model, scaled_data[test_ids,])\n",
    "clasification <- matrix(as.numeric(table(pred, test_labs)),\n",
    "                        length(founders_names), length(founders_names))\n",
    "accuracy <- sum(diag(clasification))/sum(clasification)\n",
    "\n",
    "print(paste('Classification accuracy:', 100*signif(accuracy,3), '%'))"
   ]
  },
  {
   "cell_type": "code",
   "execution_count": null,
   "metadata": {},
   "outputs": [],
   "source": [
    "model <- e1071::svm(scaled_data[train_ids,], train_labs, type='C-classification',\n",
    "                    kernel='linear', coef0=10, degree=2, gamma=0.1, cost=10, scale=FALSE)\n",
    "pred <- stats::predict(model, scaled_data[test_ids,])\n",
    "clasification <- matrix(as.numeric(table(pred, test_labs)),\n",
    "                        length(founders_names), length(founders_names))\n",
    "accuracy <- sum(diag(clasification))/sum(clasification)\n",
    "\n",
    "print(paste('Classification accuracy:', 100*signif(accuracy,3), '%'))"
   ]
  },
  {
   "cell_type": "code",
   "execution_count": null,
   "metadata": {},
   "outputs": [],
   "source": [
    "sample_runs <- 100\n",
    "percent_train <- 0.8\n",
    "results <- base::array(0, dim=c(length(founders_names), length(founders_names), sample_runs))\n",
    "\n",
    "for(j in 1:sample_runs){\n",
    "    train_ids <- c()\n",
    "    for(i in 1:length(founders_names_original)){\n",
    "        seed_ids <- which(founders$Founder == founders_names_original[i])\n",
    "        seed_train <- sample(seed_ids, size = floor(length(seed_ids)*percent_train), \n",
    "                             replace=FALSE)\n",
    "        train_ids <- c(train_ids, seed_train)\n",
    "    }\n",
    "    test_ids <- setdiff(1:nrow(founders), train_ids)\n",
    "    train_labs <- founders$Founder[train_ids]\n",
    "    test_labs <- founders$Founder[test_ids]\n",
    "\n",
    "    model <- e1071::svm(scaled_data[train_ids,], train_labs, type='C-classification',\n",
    "                        kernel='polynomial', coef0=10, degree=2, gamma=0.1, cost=10, scale=FALSE)\n",
    "    pred <- stats::predict(model, scaled_data[test_ids,])\n",
    "    results[,,j] <- matrix(as.numeric(table(pred, test_labs)),\n",
    "                            length(founders_names), length(founders_names))\n",
    "}"
   ]
  },
  {
   "cell_type": "code",
   "execution_count": null,
   "metadata": {},
   "outputs": [],
   "source": [
    "filename <- paste('svm_results',tolower(gsub(' ', '_', norm)), \n",
    "                  tolower(info_type), d, TT, kernel, dims, 'founders.rds', sep='_')\n",
    "base::saveRDS(results, filename)"
   ]
  }
 ],
 "metadata": {
  "kernelspec": {
   "display_name": "R",
   "language": "R",
   "name": "ir"
  },
  "language_info": {
   "codemirror_mode": "r",
   "file_extension": ".r",
   "mimetype": "text/x-r-source",
   "name": "R",
   "pygments_lexer": "r",
   "version": "4.1.1"
  }
 },
 "nbformat": 4,
 "nbformat_minor": 4
}
