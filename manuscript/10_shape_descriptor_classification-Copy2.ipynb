{
 "cells": [
  {
   "cell_type": "markdown",
   "metadata": {},
   "source": [
    "# Shape descriptor analysis (Part 1)\n",
    "\n",
    "We finally have some numbers to work with.\n",
    "- **Traditional shape descriptors**: 11 numbers, like grain length, width, height, etc\n",
    "- **Topological shape descriptors**: Variable number: from the Euler Characteristic Transform\n",
    "\n",
    "How good are these descriptors? Can we characterize the shape of different founders based solely on their grain morphology? We can train a Support Vector Machine (SVM) with an 80/20 train/test breakdown and test the classification accuracy. The SVM can be trained with either\n",
    "- Purely traditional descriptors\n",
    "- Purely topological descriptors\n",
    "- A combination of both descriptors\n",
    "\n",
    "Take into account that the ECT produces extremely large vectors. To avoid pathological behavior, we must reduce their dimension as a first step."
   ]
  },
  {
   "cell_type": "code",
   "execution_count": 1,
   "metadata": {},
   "outputs": [],
   "source": [
    "suppressPackageStartupMessages(library(e1071))\n",
    "suppressPackageStartupMessages(library(kernlab))"
   ]
  },
  {
   "cell_type": "markdown",
   "metadata": {},
   "source": [
    "## Read and wrangle the data\n",
    "\n",
    "- Read the CSV that contains both the traditional and topological descriptors\n",
    "- For the topological descriptors, we select the file corresponding to the number of directions `d` and thresholds `TT`\n",
    "- Get the name of founders and shorten some of their names (it will make plots less clustered later)\n",
    "- Distinguish the columns referring to traditional or topological information"
   ]
  },
  {
   "cell_type": "code",
   "execution_count": 2,
   "metadata": {},
   "outputs": [
    {
     "name": "stdout",
     "output_type": "stream",
     "text": [
      " [1] \"Algerian\"        \"Alpha\"           \"Arequipa\"        \"Atlas\"          \n",
      " [5] \"CA Mariout\"      \"Club Mariout\"    \"Everest\"         \"Flynn\"          \n",
      " [9] \"Glabron\"         \"Golden Pheasant\" \"Good Delta\"      \"Han River\"      \n",
      "[13] \"Hannchen\"        \"Horn\"            \"Lion\"            \"Lyallpur\"       \n",
      "[17] \"Maison Carree\"   \"Manchuria\"       \"Meloy\"           \"Minia\"          \n",
      "[21] \"Multan\"          \"Oderbrucker\"     \"Orel\"            \"Palmella Blue\"  \n",
      "[25] \"Sandrel\"         \"Trebi\"           \"White Smyrna\"    \"WI Winter\"      \n"
     ]
    },
    {
     "data": {
      "text/html": [
       "<style>\n",
       ".list-inline {list-style: none; margin:0; padding: 0}\n",
       ".list-inline>li {display: inline-block}\n",
       ".list-inline>li:not(:last-child)::after {content: \"\\00b7\"; padding: 0 .5ex}\n",
       "</style>\n",
       "<ol class=list-inline><li>3121</li><li>940</li></ol>\n"
      ],
      "text/latex": [
       "\\begin{enumerate*}\n",
       "\\item 3121\n",
       "\\item 940\n",
       "\\end{enumerate*}\n"
      ],
      "text/markdown": [
       "1. 3121\n",
       "2. 940\n",
       "\n",
       "\n"
      ],
      "text/plain": [
       "[1] 3121  940"
      ]
     },
     "metadata": {},
     "output_type": "display_data"
    },
    {
     "name": "stdout",
     "output_type": "stream",
     "text": [
      " [1] \"Length\"          \"Width\"           \"Height\"          \"HeightMax\"      \n",
      " [5] \"Shell\"           \"Area\"            \"Vol\"             \"ConvexArea\"     \n",
      " [9] \"ConvexVol\"       \"ConvexAreaRatio\" \"ConvexVolRatio\" \n",
      " [1] \"X15\"  \"X31\"  \"X47\"  \"X63\"  \"X79\"  \"X95\"  \"X111\" \"X127\" \"X143\" \"X159\"\n"
     ]
    }
   ],
   "source": [
    "setwd('/home/ejam/documents/barley_stacks/preproc/norm_ect/results')\n",
    "norm <- 'Normalized Size'\n",
    "d <- 230\n",
    "TT <- 4\n",
    "founders <- read.csv(paste('combined_d',d,'_T',TT,'.csv',sep=''))\n",
    "\n",
    "#founders_names_original <- levels(unique(founders$Founder))\n",
    "founders_names_original <- sort(unique(founders$Founder))\n",
    "founders_names <- founders_names_original\n",
    "founders_names[5] <- 'CA Mariout'\n",
    "founders_names[11] <- 'Good Delta'\n",
    "founders_names[17] <- 'Maison Carree'\n",
    "founders_names[24] <- 'Palmella Blue'\n",
    "founders_names[28] <- 'WI Winter'\n",
    "print(founders_names)\n",
    "\n",
    "founders$Founder <- factor(founders$Founder, level=founders_names_original)\n",
    "\n",
    "dim(founders)\n",
    "\n",
    "trad_traits <- colnames(founders)[10:20]\n",
    "print(trad_traits)\n",
    "topo_traits <- colnames(founders)[21:ncol(founders)]\n",
    "print(topo_traits[1:10])"
   ]
  },
  {
   "cell_type": "markdown",
   "metadata": {},
   "source": [
    "## Dimension reduction\n",
    "\n",
    "- The ECT produces very high dimensional vectors. When considering 74 directions and 64 thresholds each, we obtain a $74\\times64=4736$-dimensional vector for _each_ seed.\n",
    "- Dimension reduction is performed with kernel PCA, using a Laplacian kernel"
   ]
  },
  {
   "cell_type": "code",
   "execution_count": null,
   "metadata": {},
   "outputs": [],
   "source": [
    "dims <- 24\n",
    "kernel <- 'laplacedot'\n",
    "kpar <- list(sigma=1)\n",
    "kpc <- kernlab::kpca(~.,data=founders[,topo_traits], kernel=kernel, features=dims, kpar=kpar)"
   ]
  },
  {
   "cell_type": "code",
   "execution_count": null,
   "metadata": {},
   "outputs": [],
   "source": [
    "info_type <- 'Combined'\n",
    "mixed <- cbind(founders[,trad_traits], kpc@rotated)\n",
    "scaled_data <- base::scale(mixed, center=TRUE, scale=TRUE)\n",
    "dim(scaled_data)\n",
    "\n",
    "filename <- paste('kpca',tolower(gsub(' ', '_', norm)), \n",
    "                  tolower(info_type), d, TT, kernel, dims, 'founders.csv', sep='_')\n",
    "print(filename)\n",
    "utils::write.csv(scaled_data, filename, row.names=FALSE, col.names=TRUE)"
   ]
  },
  {
   "cell_type": "markdown",
   "metadata": {},
   "source": [
    "---"
   ]
  },
  {
   "cell_type": "code",
   "execution_count": 12,
   "metadata": {
    "scrolled": true
   },
   "outputs": [
    {
     "name": "stdout",
     "output_type": "stream",
     "text": [
      "[1] 3121   35\n"
     ]
    }
   ],
   "source": [
    "d <- 101\n",
    "TT <- 32\n",
    "dims <- 24\n",
    "kernel <- 'laplacedot'\n",
    "info_type <- 'Combined'\n",
    "filename <- paste('kpca',tolower(gsub(' ', '_', norm)),tolower(info_type), d, TT, kernel, dims, 'founders.csv', sep='_')\n",
    "\n",
    "kpcresults <- read.csv(filename)\n",
    "print(dim(kpcresults))\n",
    "kpc <- kpcresults[, 12:35]"
   ]
  },
  {
   "cell_type": "code",
   "execution_count": 13,
   "metadata": {},
   "outputs": [
    {
     "name": "stdout",
     "output_type": "stream",
     "text": [
      "[1] \"svm_results_normalized_size_topological_101_32_laplacedot_2_founders.rds\"\n",
      "[1] \"svm_results_normalized_size_topological_101_32_laplacedot_3_founders.rds\"\n",
      "[1] \"svm_results_normalized_size_topological_101_32_laplacedot_6_founders.rds\"\n",
      "[1] \"svm_results_normalized_size_topological_101_32_laplacedot_12_founders.rds\"\n",
      "[1] \"svm_results_normalized_size_topological_101_32_laplacedot_24_founders.rds\"\n"
     ]
    }
   ],
   "source": [
    "info_type <- 'Topological'\n",
    "\n",
    "for(dims in c(2,3,6,12,24)){\n",
    "    scaled_data <- kpc[,1:dims]\n",
    "\n",
    "    sample_runs <- 100\n",
    "    percent_train <- 0.75\n",
    "    results <- base::array(0, dim=c(length(founders_names), length(founders_names), sample_runs))\n",
    "\n",
    "    for(j in 1:sample_runs){\n",
    "        train_ids <- c()\n",
    "        for(i in 1:length(founders_names_original)){\n",
    "            seed_ids <- which(founders$Founder == founders_names_original[i])\n",
    "            seed_train <- sample(seed_ids, size = floor(length(seed_ids)*percent_train), \n",
    "                                 replace=FALSE)\n",
    "            train_ids <- c(train_ids, seed_train)\n",
    "        }\n",
    "        test_ids <- setdiff(1:nrow(founders), train_ids)\n",
    "        train_labs <- founders$Founder[train_ids]\n",
    "        test_labs <- founders$Founder[test_ids]\n",
    "\n",
    "        model <- e1071::svm(scaled_data[train_ids,], train_labs, type='C-classification',\n",
    "                            kernel='radial', coef0=10, degree=2, gamma=20, cost=100, scale=FALSE)\n",
    "        pred <- stats::predict(model, scaled_data[test_ids,])\n",
    "        results[,,j] <- matrix(as.numeric(table(pred, test_labs)),\n",
    "                                length(founders_names), length(founders_names))\n",
    "    }\n",
    "\n",
    "    filename <- paste('svm_results',tolower(gsub(' ', '_', norm)), \n",
    "                      tolower(info_type), d, TT, kernel, dims, 'founders.rds', sep='_')\n",
    "    print(filename)\n",
    "    base::saveRDS(results, filename)\n",
    "}"
   ]
  },
  {
   "cell_type": "markdown",
   "metadata": {},
   "source": [
    "## Combine the descriptors\n",
    "\n",
    "- Create a matrix with 23 descriptors per seed: 11 traditional and 12 topological\n",
    "- Center and scale the descriptors so we don't have to repeat this step whenever computing SVMs"
   ]
  },
  {
   "cell_type": "code",
   "execution_count": null,
   "metadata": {},
   "outputs": [],
   "source": [
    "info_type <- 'Combined'\n",
    "\n",
    "for(dims in c(2,3)){\n",
    "#for(dims in c(3,6,24)){\n",
    "scaled_data <- results\n",
    "dim(scaled_data)\n",
    "scaled_data[1:5, ]\n",
    "\n",
    "sample_runs <- 100\n",
    "percent_train <- 0.8\n",
    "results <- base::array(0, dim=c(length(founders_names), length(founders_names), sample_runs))\n",
    "\n",
    "for(j in 1:sample_runs){\n",
    "    train_ids <- c()\n",
    "    for(i in 1:length(founders_names_original)){\n",
    "        seed_ids <- which(founders$Founder == founders_names_original[i])\n",
    "        seed_train <- sample(seed_ids, size = floor(length(seed_ids)*percent_train), \n",
    "                             replace=FALSE)\n",
    "        train_ids <- c(train_ids, seed_train)\n",
    "    }\n",
    "    test_ids <- setdiff(1:nrow(founders), train_ids)\n",
    "    train_labs <- founders$Founder[train_ids]\n",
    "    test_labs <- founders$Founder[test_ids]\n",
    "\n",
    "    model <- e1071::svm(scaled_data[train_ids,], train_labs, type='C-classification',\n",
    "                        kernel='polynomial', coef0=5, degree=3, gamma=0.01, cost=50, scale=FALSE)\n",
    "    pred <- stats::predict(model, scaled_data[test_ids,])\n",
    "    results[,,j] <- matrix(as.numeric(table(pred, test_labs)),\n",
    "                            length(founders_names), length(founders_names))\n",
    "}\n",
    "\n",
    "filename <- paste('svm_results',tolower(gsub(' ', '_', norm)), \n",
    "                  tolower(info_type), d, TT, kernel, dims, 'founders.rds', sep='_')\n",
    "print(filename)\n",
    "base::saveRDS(results, filename)\n",
    "    \n",
    "}"
   ]
  },
  {
   "cell_type": "markdown",
   "metadata": {},
   "source": [
    "- Save the resulting 3D array as an RDS file"
   ]
  },
  {
   "cell_type": "code",
   "execution_count": null,
   "metadata": {},
   "outputs": [],
   "source": [
    "model <- e1071::svm(scaled_data[train_ids,], train_labs, type='C-classification',\n",
    "                    kernel='polynomial', coef0=5, degree=3, gamma=0.01, cost=50, scale=FALSE)\n",
    "pred <- stats::predict(model, scaled_data[test_ids,])\n",
    "clasification <- matrix(as.numeric(table(pred, test_labs)),\n",
    "                        length(founders_names), length(founders_names))\n",
    "accuracy <- sum(diag(clasification))/sum(clasification)\n",
    "\n",
    "print(paste('Classification accuracy:', 100*signif(accuracy,3), '%'))"
   ]
  },
  {
   "cell_type": "markdown",
   "metadata": {},
   "source": [
    "## Only Topological + KPCA information\n",
    "\n",
    "- Now use only the topological descriptors"
   ]
  },
  {
   "cell_type": "code",
   "execution_count": null,
   "metadata": {},
   "outputs": [],
   "source": [
    "?kernlab::kpca"
   ]
  }
 ],
 "metadata": {
  "kernelspec": {
   "display_name": "R",
   "language": "R",
   "name": "ir"
  },
  "language_info": {
   "codemirror_mode": "r",
   "file_extension": ".r",
   "mimetype": "text/x-r-source",
   "name": "R",
   "pygments_lexer": "r",
   "version": "4.1.0"
  }
 },
 "nbformat": 4,
 "nbformat_minor": 4
}
