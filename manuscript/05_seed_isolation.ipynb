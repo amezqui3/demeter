{
 "cells": [
  {
   "cell_type": "markdown",
   "metadata": {},
   "source": [
    "# Isolate the seeds\n",
    "\n",
    "We will go one step further with our image processing pipeline: we will extract all the individual seeds (or at least most of them) from the barley spikes. \n",
    "\n",
    "<img src=\"https://www.egr.msu.edu/~amezqui3/barley/figs/seeds_batch3a.png\" width=400>\n",
    "\n",
    "Just like in the clean-the-spike stage, this image processing pipeline uses only basic mathematical morphology operations and the parameters are ad-hoc for the data at hand."
   ]
  },
  {
   "cell_type": "code",
   "execution_count": 1,
   "metadata": {},
   "outputs": [],
   "source": [
    "import tifffile as tf\n",
    "import scipy.ndimage as ndimage\n",
    "import numpy as np\n",
    "import os\n",
    "import glob\n",
    "from matplotlib import pyplot as plt\n",
    "%matplotlib inline\n",
    "import importlib\n",
    "import pandas as pd"
   ]
  },
  {
   "cell_type": "markdown",
   "metadata": {},
   "source": [
    "# All the image preprocessing functions are found in `barley_brew`\n",
    "\n",
    "- The `barley_brew` module is simply a repository of _ad hoc_ image processing functions to clean X-ray CT scans\n",
    "- The module is not meant to be directly used outside the barley project, but rather provide some inspiration of what can be done to address basic X-ray CT cleaning woes.\n",
    "- Hence, this notebook attempts to flesh out the functions in the module so other readers might be inspired to try similar tricks on their own."
   ]
  },
  {
   "cell_type": "code",
   "execution_count": 2,
   "metadata": {},
   "outputs": [],
   "source": [
    "import demeter.barley_brew as brew\n",
    "import demeter.misc as misc"
   ]
  },
  {
   "cell_type": "markdown",
   "metadata": {},
   "source": [
    "## Load the barley spike\n",
    "\n",
    "Indicate the path `src` to the individual spikes\n",
    "\n",
    "- The end goal is to build a loop that goes through all the spikes of the same scan\n",
    "- For tutorial purposes, we'll stick to just one spike.\n",
    "\n",
    "\n",
    "- We can deduce the color of the spike based on its filename, as done in the previous notebook"
   ]
  },
  {
   "cell_type": "code",
   "execution_count": 23,
   "metadata": {},
   "outputs": [
    {
     "name": "stdout",
     "output_type": "stream",
     "text": [
      "Scan Id:\t S070\n",
      "Filename:\t S070_l0_Blue_x77_y24_z1.tif\n",
      "Color of the spike:\t Blue\n"
     ]
    }
   ],
   "source": [
    "src = '../temp_output/S070/'\n",
    "seeddst = src\n",
    "figdst = src\n",
    "\n",
    "barley_files = sorted(glob.glob(src + '*.tif'))\n",
    "scanId = os.path.normpath(src).split(os.path.sep)[-1]\n",
    "\n",
    "i = 0\n",
    "fname = os.path.basename(barley_files[i])\n",
    "color = (os.path.splitext(fname)[0]).split('_')[2]\n",
    "\n",
    "print('Scan Id:\\t', scanId)\n",
    "print('Filename:\\t', fname)\n",
    "print('Color of the spike:\\t', color)"
   ]
  },
  {
   "cell_type": "markdown",
   "metadata": {},
   "source": [
    "Create a folder to store the individual seeds of this particular spike. "
   ]
  },
  {
   "cell_type": "code",
   "execution_count": 24,
   "metadata": {
    "scrolled": true
   },
   "outputs": [
    {
     "name": "stdout",
     "output_type": "stream",
     "text": [
      "directory l0_Blue_seeds created\n"
     ]
    }
   ],
   "source": [
    "bname = os.path.splitext(fname)[0]\n",
    "bname = '_'.join(bname.split('_')[1:3])\n",
    "dst = src + bname + '_seeds/'\n",
    "if not os.path.isdir(dst):\n",
    "    os.makedirs(dst)\n",
    "    print('directory', bname + '_seeds created')"
   ]
  },
  {
   "cell_type": "markdown",
   "metadata": {},
   "source": [
    "## First pass on seed extraction: `preliminary_extract`\n",
    "\n",
    "- As suggested when normalizing densities, seeds are the most dense parts of the scans\n",
    "- As we did with the spikes, we'll do an aggressive thresholding, erosions, and dilations to vanish most of the stem\n",
    "- Then look for the different connected components, where each of them should ideally be an individual grain."
   ]
  },
  {
   "cell_type": "code",
   "execution_count": 25,
   "metadata": {},
   "outputs": [],
   "source": [
    "# These are ad-hoc parameters to perform the thresholding and mathematical morphology operations\n",
    "cutoff = 1e-2\n",
    "threshold = 190\n",
    "med_tol = 0.25\n",
    "padding = 7\n",
    "dil = 4\n",
    "thr = 120\n",
    "op = 7\n",
    "ero = 1\n",
    "sigma = 3\n",
    "iter_tol = 3\n",
    "write_file=True"
   ]
  },
  {
   "cell_type": "markdown",
   "metadata": {},
   "source": [
    "Load the barley spike"
   ]
  },
  {
   "cell_type": "code",
   "execution_count": 26,
   "metadata": {},
   "outputs": [],
   "source": [
    "img = tf.imread(src+fname)\n",
    "orig_img = img[:, 96,:].copy()\n",
    "sname = os.path.splitext(fname)[0]\n",
    "sname = '_'.join(sname.split('_')[0:3])\n",
    "img[img < threshold] = 0\n",
    "thr_img = img[:,96,:].copy()"
   ]
  },
  {
   "cell_type": "markdown",
   "metadata": {},
   "source": [
    "As in the previous notebook to separate spikes, we seek to separate the different connected components and save them as individual TIFF files in the `dst` directory.\n",
    "- Only consider those components that represent at least 1% of the total nonzero voxels\n",
    "    - That way we can discard noisy specks\n",
    "- The connected components are labeled 0,1,...,N, sorted according to the number of nonzero voxels in each component\n",
    "\n",
    "These operations are performed with `open_decompose`.\n",
    "\n",
    "- `locs`: Array `N x 3` with the (x,y,z) coordinates of the lower,left,bottom corner of the box containing the component with respect to coordinates of the initial panicle scan.\n",
    "- `sizes`: Array `N x 3` with the width, height, depth dimensions of the box containing the components\n",
    "- `hist`: Array of length `N`. Number of nonzero voxels in each component"
   ]
  },
  {
   "cell_type": "code",
   "execution_count": 28,
   "metadata": {},
   "outputs": [],
   "source": [
    "locs, sizes, hist = brew.open_decompose(dst, img, write_tif=True, opening=op)"
   ]
  },
  {
   "cell_type": "markdown",
   "metadata": {},
   "source": [
    "- Some connected components actually contain more than one seed. \n",
    "- On the other hand, some connected components might contain a fragmented seed or a piece of stem.\n",
    "\n",
    "\n",
    "We look at the number of nonzero voxels in each connected component. In this example, observe that:\n",
    "\n",
    "- The median size of a connected component is around 50,000 non-zero voxels.\n",
    "- The first three connected have almost thrice the median, and it's likely that each contain three grains\n",
    "- The next five components have twice the median, and it's likely that each contain two grains\n",
    "\n",
    "We compute the differences of nonzero voxels between consecutive components. In this example,\n",
    "\n",
    "- The biggest changes are reported between the third and fourth components\n",
    "- And between the eight and ninth components"
   ]
  },
  {
   "cell_type": "code",
   "execution_count": 29,
   "metadata": {
    "scrolled": false
   },
   "outputs": [
    {
     "data": {
      "image/png": "[encoded data removed]",
      "text/plain": [
       "<Figure size 1296x432 with 2 Axes>"
      ]
     },
     "metadata": {
      "needs_background": "light"
     },
     "output_type": "display_data"
    }
   ],
   "source": [
    "diff = np.abs(np.ediff1d(hist))\n",
    "fig, axes = plt.subplots(1, 2, figsize=(18, 6))\n",
    "med = np.median(hist)\n",
    "med_cut = med_tol*med\n",
    "\n",
    "axes[0].axhline(med, c='m', lw=3, label='median')\n",
    "axes[0].axhline(med+med_cut, c='m', lw=3, ls=':', label='median + {:.0f}%'.format(100*med_tol))\n",
    "axes[0].axhline(med-med_cut, c='m', lw=3, ls=':')\n",
    "\n",
    "axes[0].plot(hist, color='blue', marker='o', lw=0, ms=9)\n",
    "axes[0].set_xlabel('seed', fontsize=18)\n",
    "axes[0].set_ylabel('volume', fontsize=18)\n",
    "axes[0].legend(fontsize=15)\n",
    "\n",
    "axes[1].axhline(med_cut, c='m', lw=3, ls=':', label='{:.0f}% median'.format(100*med_tol))\n",
    "axes[1].plot(diff, color='red', marker='o', lw=0, ms=9)\n",
    "axes[1].set_xlabel('seed', fontsize=18)\n",
    "axes[1].set_ylabel('| change in size |', fontsize=18)\n",
    "axes[1].legend(fontsize=15)\n",
    "fig.suptitle(sname, fontsize=24);\n",
    "\n",
    "#fig.savefig(figdst + sname + '_preliminary.jpg', dpi=100, format='jpg', pil_kwargs={'optimize':True})"
   ]
  },
  {
   "cell_type": "markdown",
   "metadata": {},
   "source": [
    "- If a connected component, in terms of nonzero voxels, is too different from the median **and** the change in size is larger than a fixed percentage of the median, then we must look into it further to break up or discard.\n",
    "- We set that no single seed is has more or less than 30% voxels than the median.\n",
    "- In this case, we have to analyze further the first 8 components.\n",
    "- On the other hand, there are no small components to discard\n",
    "    - Although their size is below the median tolerance, the change in size is **not** large enough."
   ]
  },
  {
   "cell_type": "code",
   "execution_count": 30,
   "metadata": {},
   "outputs": [
    {
     "name": "stdout",
     "output_type": "stream",
     "text": [
      "Try to break up the first\t 0 \tcomponents\n",
      "Keep the first\t\t\t 60 \tcomponents, and discard the rest\n"
     ]
    }
   ],
   "source": [
    "to_split = []\n",
    "to_ignore = []\n",
    "\n",
    "for i in range(len(diff)):\n",
    "    if diff[i] > med_cut  and hist[i] - med > med_cut :\n",
    "        to_split.append(i+1)\n",
    "    if diff[i] > med_cut  and med - hist[i+1] > med_cut :\n",
    "        to_ignore.append(i+1)\n",
    "\n",
    "if len(to_split) == 0:\n",
    "    start_seed = 0\n",
    "else:\n",
    "    start_seed = to_split[-1]\n",
    "\n",
    "if len(to_ignore) == 0:\n",
    "    end_seed = len(locs)\n",
    "else:\n",
    "    end_seed = to_ignore[0]\n",
    "    \n",
    "print('Try to break up the first\\t', start_seed, '\\tcomponents')\n",
    "print('Keep the first\\t\\t\\t', end_seed, '\\tcomponents, and discard the rest')"
   ]
  },
  {
   "cell_type": "code",
   "execution_count": 31,
   "metadata": {},
   "outputs": [
    {
     "data": {
      "text/plain": [
       "'../temp_output/S070/l0_Blue_seeds/l0_Blue'"
      ]
     },
     "execution_count": 31,
     "metadata": {},
     "output_type": "execute_result"
    }
   ],
   "source": [
    "dst + bname"
   ]
  },
  {
   "cell_type": "markdown",
   "metadata": {},
   "source": [
    "## Second pass on seed extraction: `extract_refinement`\n",
    "\n",
    "- We attempt to break up the large connected components that most likely contain more than one seed.\n",
    "- We repeat the same basic steps of thresholding and opening the image, with the idea to eventually remove all voxels linking both seeds.\n",
    "- Each time we go with a more aggressive set of parameters\n",
    "- We stop until we get reasonable-sized components or if we iterate number of `iter_tols` times.\n",
    "\n",
    "\n",
    "In this example, look first at `l0_Red_comp_0.tif`, which the plots above show that it is composed of actually three different seeds.\n",
    "\n",
    "- We load `l0_Red_comp_0.tif`\n",
    "- Threshold out everything with less that `195` in density\n",
    "- Perform an opening considering a `7x7` kernel\n",
    "- The final result is still a single connected component of volume 141,213\n",
    "- Repeat again, this time with a `8x8` kernel to open\n",
    "- We still end up with a single connected component.\n",
    "- Repeat again, this time with a threshold of `197`.\n",
    "- And so on, and so forth, up to `5` times.\n",
    "\n",
    "After `5` iterations of increasingly aggressive thresholding and opening, we conclude with two connected components. \n",
    "\n",
    "- One of them is still pretty large (91,125 nonzero voxels) but the other one is of a reasonable size (40,749), well within the median tolerance range.\n",
    "- We save this refined scan as `l0_Red_comp_0_0.tif`"
   ]
  },
  {
   "cell_type": "code",
   "execution_count": 32,
   "metadata": {},
   "outputs": [
    {
     "data": {
      "text/plain": [
       "'x72_y65_z851'"
      ]
     },
     "execution_count": 32,
     "metadata": {},
     "output_type": "execute_result"
    }
   ],
   "source": [
    "l_name = glob.glob(dst + 'comp_{:02d}_*.tif'.format(i))[0]\n",
    "basename = os.path.splitext(os.path.split(l_name)[1])[0]\n",
    "'_'.join(basename.split('_')[2:])"
   ]
  },
  {
   "cell_type": "code",
   "execution_count": 33,
   "metadata": {},
   "outputs": [],
   "source": [
    "locs0, sizes0, to_ignore = brew.extract_refinement(dst, bname, med, med_cut, start_seed, end_seed,\n",
    "                                       threshold=threshold, op=op, iter_tol=5, w=write_file)"
   ]
  },
  {
   "cell_type": "markdown",
   "metadata": {},
   "source": [
    "From `extract_refinement`:\n",
    "\n",
    "- `locs0`: (x,y,z) coordinates of the lower,left,front corner of the box containing the connected component with respect to the coordinates of the initial scan of cluster of seeds.\n",
    "- `sizes0`: (width, height, depth) of the box containing the refined, individual seed\n",
    "- `to_ignore`: list of components were we failed to split them into reasonably-sized components."
   ]
  },
  {
   "cell_type": "markdown",
   "metadata": {},
   "source": [
    "## Rename the seed templates\n",
    "\n",
    "- If the template was initially a single seed (as it was the case for every component but the first 9), append a `_0` to their filename\n",
    "- This will keep name format standard and easier to deal with"
   ]
  },
  {
   "cell_type": "code",
   "execution_count": 34,
   "metadata": {},
   "outputs": [],
   "source": [
    "for i in range(start_seed, len(locs), 1):\n",
    "    x0, y0, z0 = locs[i]\n",
    "    seed_file0 = '{}comp_{:02d}_x{}_y{}_z{}.tif'.format(dst,i,x0,y0,z0)\n",
    "    seed_file  = '{}comp_{:02d}_0_x{}_y{}_z{}.tif'.format(dst,i,x0,y0,z0)\n",
    "    os.rename(seed_file0, seed_file)"
   ]
  },
  {
   "cell_type": "markdown",
   "metadata": {},
   "source": [
    "## Final pass on seed extraction: `seed_reconstruction`\n",
    "\n",
    "- Our current templates were obtained with very aggressive thresholding and opening parameters, which might have destroyed everything but the hardest part of the grains.\n",
    "- Now that we know the exact bounding box that contains each seed template, we want to see what other nonzero voxels are inside that box in the initial panicle scan.\n",
    "- We expect to recover extra seed voxels, so we make the bounding box larger.\n",
    "    - We have to be careful when the box is next to the original panicle scan boundaries.\n",
    "- With the original nonzero voxels inside this bounding box, we perform a more gentle thresholding and opening operations.\n",
    "- We expect to end with a single large connected component, which should be the seed."
   ]
  },
  {
   "cell_type": "code",
   "execution_count": 35,
   "metadata": {},
   "outputs": [
    {
     "name": "stdout",
     "output_type": "stream",
     "text": [
      "0 60\n"
     ]
    }
   ],
   "source": [
    "print(start_seed, end_seed)"
   ]
  },
  {
   "cell_type": "code",
   "execution_count": 36,
   "metadata": {
    "scrolled": true
   },
   "outputs": [],
   "source": [
    "brew.seed_reconstruction(src, dst, fname, locs, sizes, locs0, sizes0, start_seed, end_seed, to_ignore,\n",
    "                        padding=padding, dil=dil, thr=thr, op=op, ero=ero, sigma=sigma,\n",
    "                        write_file=write_file)"
   ]
  },
  {
   "cell_type": "markdown",
   "metadata": {},
   "source": [
    "Observe that the templates look quite jaggy and voxelated compared to the actual, reconstructed seed."
   ]
  },
  {
   "cell_type": "markdown",
   "metadata": {},
   "source": [
    "## Keep a record of seeds that weren't extracted\n",
    "\n",
    "- For bookkeeping purposes, we can keep record of the templates that we failed to break up into individual seed templates (and thus failed to extract the seeds from the original panicle scan.)"
   ]
  },
  {
   "cell_type": "code",
   "execution_count": 23,
   "metadata": {},
   "outputs": [
    {
     "data": {
      "text/html": [
       "<div>\n",
       "<style scoped>\n",
       "    .dataframe tbody tr th:only-of-type {\n",
       "        vertical-align: middle;\n",
       "    }\n",
       "\n",
       "    .dataframe tbody tr th {\n",
       "        vertical-align: top;\n",
       "    }\n",
       "\n",
       "    .dataframe thead th {\n",
       "        text-align: right;\n",
       "    }\n",
       "</style>\n",
       "<table border=\"1\" class=\"dataframe\">\n",
       "  <thead>\n",
       "    <tr style=\"text-align: right;\">\n",
       "      <th></th>\n",
       "      <th>scan</th>\n",
       "      <th>color</th>\n",
       "      <th>seedNo</th>\n",
       "      <th>centerX</th>\n",
       "      <th>centerY</th>\n",
       "      <th>centerZ</th>\n",
       "    </tr>\n",
       "  </thead>\n",
       "  <tbody>\n",
       "    <tr>\n",
       "      <th>0</th>\n",
       "      <td>example</td>\n",
       "      <td>Red</td>\n",
       "      <td>0</td>\n",
       "      <td>79.0</td>\n",
       "      <td>72.0</td>\n",
       "      <td>264.0</td>\n",
       "    </tr>\n",
       "    <tr>\n",
       "      <th>1</th>\n",
       "      <td>example</td>\n",
       "      <td>Red</td>\n",
       "      <td>1</td>\n",
       "      <td>91.0</td>\n",
       "      <td>79.0</td>\n",
       "      <td>372.0</td>\n",
       "    </tr>\n",
       "    <tr>\n",
       "      <th>2</th>\n",
       "      <td>example</td>\n",
       "      <td>Red</td>\n",
       "      <td>2</td>\n",
       "      <td>96.0</td>\n",
       "      <td>82.5</td>\n",
       "      <td>428.0</td>\n",
       "    </tr>\n",
       "    <tr>\n",
       "      <th>3</th>\n",
       "      <td>example</td>\n",
       "      <td>Red</td>\n",
       "      <td>3</td>\n",
       "      <td>66.5</td>\n",
       "      <td>86.5</td>\n",
       "      <td>318.0</td>\n",
       "    </tr>\n",
       "    <tr>\n",
       "      <th>4</th>\n",
       "      <td>example</td>\n",
       "      <td>Red</td>\n",
       "      <td>7</td>\n",
       "      <td>145.0</td>\n",
       "      <td>124.5</td>\n",
       "      <td>507.0</td>\n",
       "    </tr>\n",
       "  </tbody>\n",
       "</table>\n",
       "</div>"
      ],
      "text/plain": [
       "      scan color  seedNo  centerX  centerY  centerZ\n",
       "0  example   Red       0     79.0     72.0    264.0\n",
       "1  example   Red       1     91.0     79.0    372.0\n",
       "2  example   Red       2     96.0     82.5    428.0\n",
       "3  example   Red       3     66.5     86.5    318.0\n",
       "4  example   Red       7    145.0    124.5    507.0"
      ]
     },
     "execution_count": 23,
     "metadata": {},
     "output_type": "execute_result"
    }
   ],
   "source": [
    "missing_seeds = pd.DataFrame()\n",
    "if len(to_ignore) > 0:\n",
    "    df = brew.missing_summary(scanId, color, locs, sizes, to_ignore)\n",
    "    missing_seeds = missing_seeds.append(df, ignore_index=True)\n",
    "missing_seeds"
   ]
  },
  {
   "cell_type": "markdown",
   "metadata": {},
   "source": [
    "Save the list as a CSV"
   ]
  },
  {
   "cell_type": "code",
   "execution_count": 24,
   "metadata": {},
   "outputs": [],
   "source": [
    "if not missing_seeds.empty:\n",
    "    missing_seeds.to_csv(dst + scanId + '_ignore.csv', index=False)"
   ]
  }
 ],
 "metadata": {
  "kernelspec": {
   "display_name": "Python 3",
   "language": "python",
   "name": "python3"
  },
  "language_info": {
   "codemirror_mode": {
    "name": "ipython",
    "version": 3
   },
   "file_extension": ".py",
   "mimetype": "text/x-python",
   "name": "python",
   "nbconvert_exporter": "python",
   "pygments_lexer": "ipython3",
   "version": "3.6.9"
  }
 },
 "nbformat": 4,
 "nbformat_minor": 2
}
