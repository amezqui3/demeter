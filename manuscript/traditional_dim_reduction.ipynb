{
 "cells": [
  {
   "cell_type": "code",
   "execution_count": 1,
   "metadata": {},
   "outputs": [],
   "source": [
    "suppressPackageStartupMessages(library(e1071))\n",
    "suppressPackageStartupMessages(library(kernlab))"
   ]
  },
  {
   "cell_type": "code",
   "execution_count": 19,
   "metadata": {},
   "outputs": [
    {
     "name": "stdout",
     "output_type": "stream",
     "text": [
      " [1] \"Algerian\"        \"Alpha\"           \"Arequipa\"        \"Atlas\"          \n",
      " [5] \"CA Mariout\"      \"Club Mariout\"    \"Everest\"         \"Flynn\"          \n",
      " [9] \"Glabron\"         \"Golden Pheasant\" \"Good Delta\"      \"Han River\"      \n",
      "[13] \"Hannchen\"        \"Horn\"            \"Lion\"            \"Lyallpur\"       \n",
      "[17] \"Maison Carree\"   \"Manchuria\"       \"Meloy\"           \"Minia\"          \n",
      "[21] \"Multan\"          \"Oderbrucker\"     \"Orel\"            \"Palmella Blue\"  \n",
      "[25] \"Sandrel\"         \"Trebi\"           \"White Smyrna\"    \"WI Winter\"      \n"
     ]
    },
    {
     "data": {
      "text/html": [
       "<style>\n",
       ".list-inline {list-style: none; margin:0; padding: 0}\n",
       ".list-inline>li {display: inline-block}\n",
       ".list-inline>li:not(:last-child)::after {content: \"\\00b7\"; padding: 0 .5ex}\n",
       "</style>\n",
       "<ol class=list-inline><li>3121</li><li>1284</li></ol>\n"
      ],
      "text/latex": [
       "\\begin{enumerate*}\n",
       "\\item 3121\n",
       "\\item 1284\n",
       "\\end{enumerate*}\n"
      ],
      "text/markdown": [
       "1. 3121\n",
       "2. 1284\n",
       "\n",
       "\n"
      ],
      "text/plain": [
       "[1] 3121 1284"
      ]
     },
     "metadata": {},
     "output_type": "display_data"
    },
    {
     "name": "stdout",
     "output_type": "stream",
     "text": [
      " [1] \"Length\"          \"Width\"           \"Height\"          \"HeightMax\"      \n",
      " [5] \"Shell\"           \"Area\"            \"Vol\"             \"ConvexArea\"     \n",
      " [9] \"ConvexVol\"       \"ConvexAreaRatio\" \"ConvexVolRatio\" \n",
      " [1] \"X7\"  \"X15\" \"X23\" \"X31\" \"X39\" \"X47\" \"X55\" \"X63\" \"X71\" \"X79\"\n",
      "[1] 3121   11\n"
     ]
    }
   ],
   "source": [
    "setwd('/home/ejam/documents/barley_stacks/preproc/norm_ect/results')\n",
    "norm <- 'Normalized Size'\n",
    "d <- 158\n",
    "TT <- 8\n",
    "founders <- read.csv(paste('combined_d',d,'_T',TT,'.csv',sep=''))\n",
    "\n",
    "#founders_names_original <- levels(unique(founders$Founder))\n",
    "founders_names_original <- sort(unique(founders$Founder))\n",
    "founders_names <- founders_names_original\n",
    "founders_names[5] <- 'CA Mariout'\n",
    "founders_names[11] <- 'Good Delta'\n",
    "founders_names[17] <- 'Maison Carree'\n",
    "founders_names[24] <- 'Palmella Blue'\n",
    "founders_names[28] <- 'WI Winter'\n",
    "print(founders_names)\n",
    "\n",
    "founders$Founder <- factor(founders$Founder, level=founders_names_original)\n",
    "\n",
    "dim(founders)\n",
    "\n",
    "trad_traits <- colnames(founders)[10:20]\n",
    "print(trad_traits)\n",
    "topo_traits <- colnames(founders)[21:ncol(founders)]\n",
    "print(topo_traits[1:10])\n",
    "\n",
    "scaled_data <- as.data.frame(base::scale(founders[,trad_traits], center=TRUE, scale=TRUE))\n",
    "print(dim(scaled_data))"
   ]
  },
  {
   "cell_type": "code",
   "execution_count": 24,
   "metadata": {},
   "outputs": [],
   "source": [
    "dims <- 0\n",
    "kernel <- 'vanilladot'\n",
    "kpar <- list()\n",
    "kpc <- kernlab::kpca(~.,data=scaled_data, kernel=kernel, features=dims, kpar=kpar)"
   ]
  },
  {
   "cell_type": "code",
   "execution_count": 25,
   "metadata": {},
   "outputs": [
    {
     "data": {
      "text/html": [
       "<style>\n",
       ".dl-inline {width: auto; margin:0; padding: 0}\n",
       ".dl-inline>dt, .dl-inline>dd {float: none; width: auto; display: inline-block}\n",
       ".dl-inline>dt::after {content: \":\\0020\"; padding-right: .5ex}\n",
       ".dl-inline>dt:not(:first-of-type) {padding-left: .5ex}\n",
       "</style><dl class=dl-inline><dt>Comp.1</dt><dd>7.93963581292528</dd><dt>Comp.2</dt><dd>1.30157127817887</dd><dt>Comp.3</dt><dd>1.00093670265371</dd><dt>Comp.4</dt><dd>0.463508599390653</dd><dt>Comp.5</dt><dd>0.200816577191244</dd><dt>Comp.6</dt><dd>0.0489011073526763</dd><dt>Comp.7</dt><dd>0.0335821815968162</dd><dt>Comp.8</dt><dd>0.005257686779449</dd><dt>Comp.9</dt><dd>0.00203581647789739</dd><dt>Comp.10</dt><dd>0.000147915786474576</dd></dl>\n"
      ],
      "text/latex": [
       "\\begin{description*}\n",
       "\\item[Comp.1] 7.93963581292528\n",
       "\\item[Comp.2] 1.30157127817887\n",
       "\\item[Comp.3] 1.00093670265371\n",
       "\\item[Comp.4] 0.463508599390653\n",
       "\\item[Comp.5] 0.200816577191244\n",
       "\\item[Comp.6] 0.0489011073526763\n",
       "\\item[Comp.7] 0.0335821815968162\n",
       "\\item[Comp.8] 0.005257686779449\n",
       "\\item[Comp.9] 0.00203581647789739\n",
       "\\item[Comp.10] 0.000147915786474576\n",
       "\\end{description*}\n"
      ],
      "text/markdown": [
       "Comp.1\n",
       ":   7.93963581292528Comp.2\n",
       ":   1.30157127817887Comp.3\n",
       ":   1.00093670265371Comp.4\n",
       ":   0.463508599390653Comp.5\n",
       ":   0.200816577191244Comp.6\n",
       ":   0.0489011073526763Comp.7\n",
       ":   0.0335821815968162Comp.8\n",
       ":   0.005257686779449Comp.9\n",
       ":   0.00203581647789739Comp.10\n",
       ":   0.000147915786474576\n",
       "\n"
      ],
      "text/plain": [
       "      Comp.1       Comp.2       Comp.3       Comp.4       Comp.5       Comp.6 \n",
       "7.9396358129 1.3015712782 1.0009367027 0.4635085994 0.2008165772 0.0489011074 \n",
       "      Comp.7       Comp.8       Comp.9      Comp.10 \n",
       "0.0335821816 0.0052576868 0.0020358165 0.0001479158 "
      ]
     },
     "metadata": {},
     "output_type": "display_data"
    },
    {
     "data": {
      "text/html": [
       "<style>\n",
       ".dl-inline {width: auto; margin:0; padding: 0}\n",
       ".dl-inline>dt, .dl-inline>dd {float: none; width: auto; display: inline-block}\n",
       ".dl-inline>dt::after {content: \":\\0020\"; padding-right: .5ex}\n",
       ".dl-inline>dt:not(:first-of-type) {padding-left: .5ex}\n",
       "</style><dl class=dl-inline><dt>Comp.1</dt><dd>72.2021786885392</dd><dt>Comp.2</dt><dd>11.8363466810345</dd><dt>Comp.3</dt><dd>9.10240877084936</dd><dt>Comp.4</dt><dd>4.21509644842867</dd><dt>Comp.5</dt><dd>1.82620396345873</dd><dt>Comp.6</dt><dd>0.444701315568843</dd><dt>Comp.7</dt><dd>0.305392682175297</dd><dt>Comp.8</dt><dd>0.0478128278529039</dd><dt>Comp.9</dt><dd>0.018513492127048</dd><dt>Comp.10</dt><dd>0.00134512996534513</dd></dl>\n"
      ],
      "text/latex": [
       "\\begin{description*}\n",
       "\\item[Comp.1] 72.2021786885392\n",
       "\\item[Comp.2] 11.8363466810345\n",
       "\\item[Comp.3] 9.10240877084936\n",
       "\\item[Comp.4] 4.21509644842867\n",
       "\\item[Comp.5] 1.82620396345873\n",
       "\\item[Comp.6] 0.444701315568843\n",
       "\\item[Comp.7] 0.305392682175297\n",
       "\\item[Comp.8] 0.0478128278529039\n",
       "\\item[Comp.9] 0.018513492127048\n",
       "\\item[Comp.10] 0.00134512996534513\n",
       "\\end{description*}\n"
      ],
      "text/markdown": [
       "Comp.1\n",
       ":   72.2021786885392Comp.2\n",
       ":   11.8363466810345Comp.3\n",
       ":   9.10240877084936Comp.4\n",
       ":   4.21509644842867Comp.5\n",
       ":   1.82620396345873Comp.6\n",
       ":   0.444701315568843Comp.7\n",
       ":   0.305392682175297Comp.8\n",
       ":   0.0478128278529039Comp.9\n",
       ":   0.018513492127048Comp.10\n",
       ":   0.00134512996534513\n",
       "\n"
      ],
      "text/plain": [
       "     Comp.1      Comp.2      Comp.3      Comp.4      Comp.5      Comp.6 \n",
       "72.20217869 11.83634668  9.10240877  4.21509645  1.82620396  0.44470132 \n",
       "     Comp.7      Comp.8      Comp.9     Comp.10 \n",
       " 0.30539268  0.04781283  0.01851349  0.00134513 "
      ]
     },
     "metadata": {},
     "output_type": "display_data"
    }
   ],
   "source": [
    "kpc@eig\n",
    "kpc@eig/sum(kpc@eig)*100"
   ]
  },
  {
   "cell_type": "code",
   "execution_count": 26,
   "metadata": {},
   "outputs": [
    {
     "data": {
      "text/html": [
       "<table>\n",
       "<caption>A matrix: 10 × 10 of type dbl</caption>\n",
       "<tbody>\n",
       "\t<tr><th scope=row>1</th><td>-219.32008</td><td>-26.025628</td><td>-22.783580</td><td>-83.8212454</td><td>-28.953124</td><td>  0.8759943</td><td> -6.305453</td><td>-0.009052506</td><td>-1.35786514</td><td>-0.01757654</td></tr>\n",
       "\t<tr><th scope=row>2</th><td> -20.69477</td><td> -8.536253</td><td> 45.186365</td><td> -8.9080106</td><td> 35.605362</td><td> -8.1421652</td><td> -9.931927</td><td> 1.926526971</td><td> 3.55908511</td><td>-0.53283435</td></tr>\n",
       "\t<tr><th scope=row>3</th><td> -33.98859</td><td>-54.135126</td><td>-21.133630</td><td>-76.9300334</td><td> 14.939561</td><td>-18.0858770</td><td>  7.712952</td><td> 4.418429940</td><td> 2.47131998</td><td>-0.23690035</td></tr>\n",
       "\t<tr><th scope=row>4</th><td>-122.17599</td><td>-61.036518</td><td>-78.088150</td><td>-69.6085872</td><td> 26.269780</td><td> -8.2292442</td><td> -8.484377</td><td> 0.403372624</td><td>-0.08720882</td><td>-0.59095506</td></tr>\n",
       "\t<tr><th scope=row>5</th><td>-228.00330</td><td>-43.574227</td><td> 59.082607</td><td>-71.2720033</td><td>-10.672367</td><td> -9.2680839</td><td> -1.761302</td><td>-0.785983618</td><td>-0.02391408</td><td> 0.79084498</td></tr>\n",
       "\t<tr><th scope=row>6</th><td>-214.92274</td><td>-87.970015</td><td>-50.931689</td><td>-24.3419572</td><td>  8.082122</td><td>-21.0976765</td><td>-16.289380</td><td>-2.029506792</td><td>-3.05933361</td><td>-0.61288939</td></tr>\n",
       "\t<tr><th scope=row>7</th><td>-211.43646</td><td>-60.631104</td><td>-25.978334</td><td> -0.3677698</td><td>  7.618049</td><td>-30.3432526</td><td>-10.275876</td><td>-2.391002893</td><td>-3.50280978</td><td>-0.15187057</td></tr>\n",
       "\t<tr><th scope=row>8</th><td>-228.23802</td><td>-54.316006</td><td>  1.328056</td><td>  9.4619530</td><td> 12.842798</td><td>-30.7530328</td><td>-15.631389</td><td>-2.160602901</td><td>-1.84868561</td><td> 0.06532997</td></tr>\n",
       "\t<tr><th scope=row>9</th><td>-209.49971</td><td>-75.840629</td><td>-71.085883</td><td>-12.2456390</td><td> -8.898953</td><td>-25.5541904</td><td> -7.772734</td><td>-2.184410026</td><td>-5.41738510</td><td>-0.60360455</td></tr>\n",
       "\t<tr><th scope=row>10</th><td>  62.96218</td><td>-25.893892</td><td>-30.749629</td><td>-66.3480256</td><td> 12.607123</td><td> -5.4267990</td><td>  1.497672</td><td> 0.495916968</td><td> 1.01435562</td><td> 0.10482554</td></tr>\n",
       "</tbody>\n",
       "</table>\n"
      ],
      "text/latex": [
       "A matrix: 10 × 10 of type dbl\n",
       "\\begin{tabular}{r|llllllllll}\n",
       "\t1 & -219.32008 & -26.025628 & -22.783580 & -83.8212454 & -28.953124 &   0.8759943 &  -6.305453 & -0.009052506 & -1.35786514 & -0.01757654\\\\\n",
       "\t2 &  -20.69477 &  -8.536253 &  45.186365 &  -8.9080106 &  35.605362 &  -8.1421652 &  -9.931927 &  1.926526971 &  3.55908511 & -0.53283435\\\\\n",
       "\t3 &  -33.98859 & -54.135126 & -21.133630 & -76.9300334 &  14.939561 & -18.0858770 &   7.712952 &  4.418429940 &  2.47131998 & -0.23690035\\\\\n",
       "\t4 & -122.17599 & -61.036518 & -78.088150 & -69.6085872 &  26.269780 &  -8.2292442 &  -8.484377 &  0.403372624 & -0.08720882 & -0.59095506\\\\\n",
       "\t5 & -228.00330 & -43.574227 &  59.082607 & -71.2720033 & -10.672367 &  -9.2680839 &  -1.761302 & -0.785983618 & -0.02391408 &  0.79084498\\\\\n",
       "\t6 & -214.92274 & -87.970015 & -50.931689 & -24.3419572 &   8.082122 & -21.0976765 & -16.289380 & -2.029506792 & -3.05933361 & -0.61288939\\\\\n",
       "\t7 & -211.43646 & -60.631104 & -25.978334 &  -0.3677698 &   7.618049 & -30.3432526 & -10.275876 & -2.391002893 & -3.50280978 & -0.15187057\\\\\n",
       "\t8 & -228.23802 & -54.316006 &   1.328056 &   9.4619530 &  12.842798 & -30.7530328 & -15.631389 & -2.160602901 & -1.84868561 &  0.06532997\\\\\n",
       "\t9 & -209.49971 & -75.840629 & -71.085883 & -12.2456390 &  -8.898953 & -25.5541904 &  -7.772734 & -2.184410026 & -5.41738510 & -0.60360455\\\\\n",
       "\t10 &   62.96218 & -25.893892 & -30.749629 & -66.3480256 &  12.607123 &  -5.4267990 &   1.497672 &  0.495916968 &  1.01435562 &  0.10482554\\\\\n",
       "\\end{tabular}\n"
      ],
      "text/markdown": [
       "\n",
       "A matrix: 10 × 10 of type dbl\n",
       "\n",
       "| 1 | -219.32008 | -26.025628 | -22.783580 | -83.8212454 | -28.953124 |   0.8759943 |  -6.305453 | -0.009052506 | -1.35786514 | -0.01757654 |\n",
       "| 2 |  -20.69477 |  -8.536253 |  45.186365 |  -8.9080106 |  35.605362 |  -8.1421652 |  -9.931927 |  1.926526971 |  3.55908511 | -0.53283435 |\n",
       "| 3 |  -33.98859 | -54.135126 | -21.133630 | -76.9300334 |  14.939561 | -18.0858770 |   7.712952 |  4.418429940 |  2.47131998 | -0.23690035 |\n",
       "| 4 | -122.17599 | -61.036518 | -78.088150 | -69.6085872 |  26.269780 |  -8.2292442 |  -8.484377 |  0.403372624 | -0.08720882 | -0.59095506 |\n",
       "| 5 | -228.00330 | -43.574227 |  59.082607 | -71.2720033 | -10.672367 |  -9.2680839 |  -1.761302 | -0.785983618 | -0.02391408 |  0.79084498 |\n",
       "| 6 | -214.92274 | -87.970015 | -50.931689 | -24.3419572 |   8.082122 | -21.0976765 | -16.289380 | -2.029506792 | -3.05933361 | -0.61288939 |\n",
       "| 7 | -211.43646 | -60.631104 | -25.978334 |  -0.3677698 |   7.618049 | -30.3432526 | -10.275876 | -2.391002893 | -3.50280978 | -0.15187057 |\n",
       "| 8 | -228.23802 | -54.316006 |   1.328056 |   9.4619530 |  12.842798 | -30.7530328 | -15.631389 | -2.160602901 | -1.84868561 |  0.06532997 |\n",
       "| 9 | -209.49971 | -75.840629 | -71.085883 | -12.2456390 |  -8.898953 | -25.5541904 |  -7.772734 | -2.184410026 | -5.41738510 | -0.60360455 |\n",
       "| 10 |   62.96218 | -25.893892 | -30.749629 | -66.3480256 |  12.607123 |  -5.4267990 |   1.497672 |  0.495916968 |  1.01435562 |  0.10482554 |\n",
       "\n"
      ],
      "text/plain": [
       "   [,1]       [,2]       [,3]       [,4]        [,5]       [,6]       \n",
       "1  -219.32008 -26.025628 -22.783580 -83.8212454 -28.953124   0.8759943\n",
       "2   -20.69477  -8.536253  45.186365  -8.9080106  35.605362  -8.1421652\n",
       "3   -33.98859 -54.135126 -21.133630 -76.9300334  14.939561 -18.0858770\n",
       "4  -122.17599 -61.036518 -78.088150 -69.6085872  26.269780  -8.2292442\n",
       "5  -228.00330 -43.574227  59.082607 -71.2720033 -10.672367  -9.2680839\n",
       "6  -214.92274 -87.970015 -50.931689 -24.3419572   8.082122 -21.0976765\n",
       "7  -211.43646 -60.631104 -25.978334  -0.3677698   7.618049 -30.3432526\n",
       "8  -228.23802 -54.316006   1.328056   9.4619530  12.842798 -30.7530328\n",
       "9  -209.49971 -75.840629 -71.085883 -12.2456390  -8.898953 -25.5541904\n",
       "10   62.96218 -25.893892 -30.749629 -66.3480256  12.607123  -5.4267990\n",
       "   [,7]       [,8]         [,9]        [,10]      \n",
       "1   -6.305453 -0.009052506 -1.35786514 -0.01757654\n",
       "2   -9.931927  1.926526971  3.55908511 -0.53283435\n",
       "3    7.712952  4.418429940  2.47131998 -0.23690035\n",
       "4   -8.484377  0.403372624 -0.08720882 -0.59095506\n",
       "5   -1.761302 -0.785983618 -0.02391408  0.79084498\n",
       "6  -16.289380 -2.029506792 -3.05933361 -0.61288939\n",
       "7  -10.275876 -2.391002893 -3.50280978 -0.15187057\n",
       "8  -15.631389 -2.160602901 -1.84868561  0.06532997\n",
       "9   -7.772734 -2.184410026 -5.41738510 -0.60360455\n",
       "10   1.497672  0.495916968  1.01435562  0.10482554"
      ]
     },
     "metadata": {},
     "output_type": "display_data"
    }
   ],
   "source": [
    "kpc@rotated[1:10, ]"
   ]
  },
  {
   "cell_type": "code",
   "execution_count": 27,
   "metadata": {},
   "outputs": [
    {
     "data": {
      "text/html": [
       "<style>\n",
       ".list-inline {list-style: none; margin:0; padding: 0}\n",
       ".list-inline>li {display: inline-block}\n",
       ".list-inline>li:not(:last-child)::after {content: \"\\00b7\"; padding: 0 .5ex}\n",
       "</style>\n",
       "<ol class=list-inline><li>3121</li><li>11</li></ol>\n"
      ],
      "text/latex": [
       "\\begin{enumerate*}\n",
       "\\item 3121\n",
       "\\item 11\n",
       "\\end{enumerate*}\n"
      ],
      "text/markdown": [
       "1. 3121\n",
       "2. 11\n",
       "\n",
       "\n"
      ],
      "text/plain": [
       "[1] 3121   11"
      ]
     },
     "metadata": {},
     "output_type": "display_data"
    },
    {
     "name": "stdout",
     "output_type": "stream",
     "text": [
      "[1] \"kpca_normalized_size_traditional_158_8_vanilladot_0_founders.csv\"\n"
     ]
    },
    {
     "name": "stderr",
     "output_type": "stream",
     "text": [
      "Warning message in utils::write.csv(kpc@rotated, filename, row.names = FALSE, col.names = TRUE):\n",
      "“attempt to set 'col.names' ignored”\n"
     ]
    }
   ],
   "source": [
    "info_type <- 'Traditional'\n",
    "dim(scaled_data)\n",
    "\n",
    "filename <- paste('kpca',tolower(gsub(' ', '_', norm)), \n",
    "                  tolower(info_type), d, TT, kernel, dims, 'founders.csv', sep='_')\n",
    "print(filename)\n",
    "utils::write.csv(kpc@rotated, filename, row.names=FALSE, col.names=TRUE)"
   ]
  },
  {
   "cell_type": "code",
   "execution_count": 38,
   "metadata": {},
   "outputs": [],
   "source": [
    "dims <- 2\n",
    "kernel <- 'rbfdot'\n",
    "kpar <- list(sigma=0.001)\n",
    "kpc <- kernlab::kpca(~.,data=founders[,trad_traits], kernel=kernel, features=dims, kpar=kpar)"
   ]
  },
  {
   "cell_type": "code",
   "execution_count": 39,
   "metadata": {},
   "outputs": [
    {
     "data": {
      "text/html": [
       "<style>\n",
       ".dl-inline {width: auto; margin:0; padding: 0}\n",
       ".dl-inline>dt, .dl-inline>dd {float: none; width: auto; display: inline-block}\n",
       ".dl-inline>dt::after {content: \":\\0020\"; padding-right: .5ex}\n",
       ".dl-inline>dt:not(:first-of-type) {padding-left: .5ex}\n",
       "</style><dl class=dl-inline><dt>Comp.1</dt><dd>0.000446363452119073</dd><dt>Comp.2</dt><dd>0.000382864815354059</dd></dl>\n"
      ],
      "text/latex": [
       "\\begin{description*}\n",
       "\\item[Comp.1] 0.000446363452119073\n",
       "\\item[Comp.2] 0.000382864815354059\n",
       "\\end{description*}\n"
      ],
      "text/markdown": [
       "Comp.1\n",
       ":   0.000446363452119073Comp.2\n",
       ":   0.000382864815354059\n",
       "\n"
      ],
      "text/plain": [
       "      Comp.1       Comp.2 \n",
       "0.0004463635 0.0003828648 "
      ]
     },
     "metadata": {},
     "output_type": "display_data"
    },
    {
     "data": {
      "text/html": [
       "<style>\n",
       ".dl-inline {width: auto; margin:0; padding: 0}\n",
       ".dl-inline>dt, .dl-inline>dd {float: none; width: auto; display: inline-block}\n",
       ".dl-inline>dt::after {content: \":\\0020\"; padding-right: .5ex}\n",
       ".dl-inline>dt:not(:first-of-type) {padding-left: .5ex}\n",
       "</style><dl class=dl-inline><dt>Comp.1</dt><dd>53.8287790742174</dd><dt>Comp.2</dt><dd>46.1712209257826</dd></dl>\n"
      ],
      "text/latex": [
       "\\begin{description*}\n",
       "\\item[Comp.1] 53.8287790742174\n",
       "\\item[Comp.2] 46.1712209257826\n",
       "\\end{description*}\n"
      ],
      "text/markdown": [
       "Comp.1\n",
       ":   53.8287790742174Comp.2\n",
       ":   46.1712209257826\n",
       "\n"
      ],
      "text/plain": [
       "  Comp.1   Comp.2 \n",
       "53.82878 46.17122 "
      ]
     },
     "metadata": {},
     "output_type": "display_data"
    }
   ],
   "source": [
    "kpc@eig\n",
    "kpc@eig/sum(kpc@eig)*100"
   ]
  },
  {
   "cell_type": "code",
   "execution_count": 40,
   "metadata": {},
   "outputs": [
    {
     "data": {
      "text/html": [
       "<style>\n",
       ".list-inline {list-style: none; margin:0; padding: 0}\n",
       ".list-inline>li {display: inline-block}\n",
       ".list-inline>li:not(:last-child)::after {content: \"\\00b7\"; padding: 0 .5ex}\n",
       "</style>\n",
       "<ol class=list-inline><li>3121</li><li>2</li></ol>\n"
      ],
      "text/latex": [
       "\\begin{enumerate*}\n",
       "\\item 3121\n",
       "\\item 2\n",
       "\\end{enumerate*}\n"
      ],
      "text/markdown": [
       "1. 3121\n",
       "2. 2\n",
       "\n",
       "\n"
      ],
      "text/plain": [
       "[1] 3121    2"
      ]
     },
     "metadata": {},
     "output_type": "display_data"
    },
    {
     "name": "stdout",
     "output_type": "stream",
     "text": [
      "[1] \"kpca_normalized_size_traditional_158_8_rbfdot_2_founders.csv\"\n"
     ]
    },
    {
     "name": "stderr",
     "output_type": "stream",
     "text": [
      "Warning message in utils::write.csv(kpc@rotated, filename, row.names = FALSE, col.names = TRUE):\n",
      "“attempt to set 'col.names' ignored”\n"
     ]
    }
   ],
   "source": [
    "info_type <- 'Traditional'\n",
    "scaled_data <- base::scale(kpc@rotated, center=TRUE, scale=TRUE)\n",
    "dim(scaled_data)\n",
    "\n",
    "filename <- paste('kpca',tolower(gsub(' ', '_', norm)), \n",
    "                  tolower(info_type), d, TT, kernel, dims, 'founders.csv', sep='_')\n",
    "print(filename)\n",
    "utils::write.csv(kpc@rotated, filename, row.names=FALSE, col.names=TRUE)"
   ]
  }
 ],
 "metadata": {
  "kernelspec": {
   "display_name": "R",
   "language": "R",
   "name": "ir"
  },
  "language_info": {
   "codemirror_mode": "r",
   "file_extension": ".r",
   "mimetype": "text/x-r-source",
   "name": "R",
   "pygments_lexer": "r",
   "version": "4.1.0"
  }
 },
 "nbformat": 4,
 "nbformat_minor": 4
}
