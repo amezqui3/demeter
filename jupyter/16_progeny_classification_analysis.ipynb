{
 "cells": [
  {
   "cell_type": "markdown",
   "metadata": {},
   "source": [
    "# Plot progeny composition\n",
    "\n",
    "- We trained an SVM with the morphological descriptors of all the founders\n",
    "- With it, we labeled all progeny based on their grain morphology\n",
    "- We visualize how the progeny is distributed according to shape"
   ]
  },
  {
   "cell_type": "code",
   "execution_count": null,
   "metadata": {},
   "outputs": [],
   "source": [
    "suppressPackageStartupMessages(library(ggplot2))\n",
    "suppressPackageStartupMessages(library(reshape2))\n",
    "suppressPackageStartupMessages(library(dplyr))"
   ]
  },
  {
   "cell_type": "code",
   "execution_count": null,
   "metadata": {},
   "outputs": [],
   "source": [
    "# Bang Wong\n",
    "colors_wong <- c('#E69F00','#52ADE0','#009E73','#F0E442',\n",
    "                 '#0072B2','#D55E00','#CC79A7','#444444')\n",
    "\n",
    "colors_def <- c('#D81B60', '#1E88E5', '#FFC107', '#004D40')"
   ]
  },
  {
   "cell_type": "code",
   "execution_count": null,
   "metadata": {},
   "outputs": [],
   "source": [
    "# Paul Tol\n",
    "colors_tol <- c('#332288', '#117733', '#44AA99', '#88CCEE',\n",
    "                '#DDCC77', '#CC6677')#, '#AA4499', '#882255')\n",
    "colors_bright <- c('#4477AA', '#66CCEE', '#228833',\n",
    "                   '#CCBB44', '#EE6677', '#AA3377')\n",
    "#colors_high <- c('#F0E442', '#0005FF', '#D50000', '#FFFFFF')\n",
    "colors_high <- c('#F0E442', '#0072B2','#D55E00', '#FFFFFF')\n",
    "colors_high <- c('#66CCEE', '#CCBB44','#AA3377', '#444444')"
   ]
  },
  {
   "cell_type": "code",
   "execution_count": null,
   "metadata": {},
   "outputs": [],
   "source": [
    "setwd('~/documents/barley_stacks/preproc/progeny/unsupervised')\n",
    "founders <- read.csv('../../../corrected_metadata.csv')\n",
    "#founders_names_original <- sort(unique(founders$Founder))[-1]\n",
    "founders_names_original <- levels(unique(founders$Founder))[-1]\n",
    "founders_names <- founders_names_original\n",
    "founders_names[5] <- 'CA Mariout'\n",
    "founders_names[11] <- 'Good Delta'\n",
    "founders_names[17] <- 'Maison Carree'\n",
    "founders_names[24] <- 'Palmella Blue'\n",
    "founders_names[28] <- 'WI Winter'\n",
    "print(founders_names)"
   ]
  },
  {
   "cell_type": "code",
   "execution_count": null,
   "metadata": {},
   "outputs": [],
   "source": [
    "# gen7_svm_combined_d158_T16_toposcaled.csv\n",
    "gen <- 1\n",
    "genn <- 18\n",
    "d <- 158\n",
    "TT <- 16\n",
    "\n",
    "info_type <- 'combined'\n",
    "scaled <- 'topounscaled'\n",
    "\n",
    "filename <- paste('gen', gen, '_svm_', info_type, '_d', d,'_T',TT,'_',scaled,'.csv', sep='')\n",
    "progeny <- read.csv(filename)"
   ]
  },
  {
   "cell_type": "code",
   "execution_count": null,
   "metadata": {
    "scrolled": true
   },
   "outputs": [],
   "source": [
    "counts <- matrix(0, ncol=3, nrow=length(founders_names))\n",
    "rownames(counts) <- founders_names_original\n",
    "\n",
    "for(i in 1:length(founders_names_original))\n",
    "    counts[i,1] = sum(progeny$Founder == founders_names_original[i])\n",
    "\n",
    "counts[,2] <- (counts[,1]/dim(progeny)[1]*100)\n",
    "ordered <- counts[base::order(counts[,1], decreasing=TRUE),]\n",
    "ordered[,3] <- base::cumsum(ordered[,2])\n",
    "rownames(ordered) <- founders_names[rank(rownames(ordered))]\n",
    "df <- as.data.frame(ordered)\n",
    "df$Line <- rownames(df)\n",
    "df$Line <- factor(df$Line, levels=founders_names)"
   ]
  },
  {
   "cell_type": "code",
   "execution_count": null,
   "metadata": {},
   "outputs": [],
   "source": [
    "genotypes <- base::rev(base::levels(stats::reorder(df$Line, df$V2)))"
   ]
  },
  {
   "cell_type": "code",
   "execution_count": null,
   "metadata": {},
   "outputs": [],
   "source": [
    "df$Line <- factor(df$Line, levels=genotypes)"
   ]
  },
  {
   "cell_type": "code",
   "execution_count": null,
   "metadata": {},
   "outputs": [],
   "source": [
    "fcolors <- rep(colors_wong, length.out = nrow(df))"
   ]
  },
  {
   "cell_type": "code",
   "execution_count": null,
   "metadata": {},
   "outputs": [],
   "source": [
    "options(repr.plot.width=15, repr.plot.height=8)\n",
    "\n",
    "titlename <- paste('Gen ', genn, ' (', d,' dirs, ', TT, ' thrs, ', scaled,')', sep='')\n",
    "\n",
    "p <- ggplot2::ggplot(df, aes(x=stats::reorder(Line, -V2), y=V2)) + \n",
    "     geom_bar(aes(fill=Line), stat='identity') +\n",
    "     scale_fill_manual(values = fcolors) +\n",
    "     theme_bw() +\n",
    "     scale_y_continuous(expand = expansion(mult = c(0, .1))) +\n",
    "     theme(plot.title = element_text(hjust = 0.5, vjust = 0, size=20),\n",
    "            axis.text.x = element_text(size = 15, hjust = 0.5, vjust=0.5, angle=90),\n",
    "            axis.text.y = element_text(size = 11),\n",
    "            axis.title = element_text(size=15),\n",
    "            legend.position = 'none') +\n",
    "      ylab('No. of predicted seeds (%)') +\n",
    "      ggtitle(titlename) +\n",
    "      xlab('Accession') \n",
    "p"
   ]
  },
  {
   "cell_type": "code",
   "execution_count": null,
   "metadata": {},
   "outputs": [],
   "source": [
    "w <- 8\n",
    "h <- 9\n",
    "\n",
    "filename <- paste('histogram_umap_gen',gen,'_d',d,'_T',TT,'_',scaled,'_vert',sep='')\n",
    "ggplot2::ggsave(paste(filename, '.pdf', sep=''), plot=p, device='pdf', width=w, height=h)\n",
    "ggplot2::ggsave(paste(filename, '.png', sep=''), plot=p, device='png', width=8, height=9)"
   ]
  },
  {
   "cell_type": "code",
   "execution_count": null,
   "metadata": {},
   "outputs": [],
   "source": [
    "w <- 12\n",
    "h <- 6\n",
    "\n",
    "filename <- paste('histogram_umap_gen',gen,'_d',d,'_T',TT,'_',scaled,'_horz',sep='')\n",
    "ggplot2::ggsave(paste(filename, '.pdf', sep=''), plot=p, device='pdf', width=w, height=h)\n",
    "ggplot2::ggsave(paste(filename, '.png', sep=''), plot=p, device='png', width=w, height=h)"
   ]
  },
  {
   "cell_type": "markdown",
   "metadata": {},
   "source": [
    "## Individual lines"
   ]
  },
  {
   "cell_type": "code",
   "execution_count": null,
   "metadata": {
    "scrolled": true
   },
   "outputs": [],
   "source": [
    "selection <- sort(unique(progeny$Selection))\n",
    "counts <- matrix(0, nrow=length(selection), ncol=length(founders_names))\n",
    "\n",
    "for(i in 1:nrow(counts)){\n",
    "    foo <- progeny[progeny$Selection == selection[i], ]\n",
    "    for(j in 1:ncol(counts)){\n",
    "        counts[i,j] <- (sum(foo$Founder == founders_names_original[j])/nrow(foo)*100)\n",
    "    }\n",
    "}\n",
    "\n",
    "dg <- as.data.frame(counts)\n",
    "colnames(dg) <- founders_names\n",
    "rownames(dg) <- selection\n",
    "dg$Selection <- rownames(dg)"
   ]
  },
  {
   "cell_type": "code",
   "execution_count": null,
   "metadata": {
    "scrolled": true
   },
   "outputs": [],
   "source": [
    "dga <- dplyr::arrange(dg, dplyr::desc(data.frame(base::rowSums(dg[genotypes[1:1]]))))\n",
    "dga$Selection <- factor(dga$Selection, levels=dga$Selection[1:nrow(dga)])\n",
    "dga <- dplyr::select(dga, c(colnames(dga)[rank(genotypes)], 'Selection'))"
   ]
  },
  {
   "cell_type": "code",
   "execution_count": null,
   "metadata": {
    "scrolled": true
   },
   "outputs": [],
   "source": [
    "dgm <- reshape2::melt(dga, id.vars='Selection', variable.name='Line', value.name='Percentage')"
   ]
  },
  {
   "cell_type": "code",
   "execution_count": null,
   "metadata": {},
   "outputs": [],
   "source": [
    "options(repr.plot.width=20, repr.plot.height=10)\n",
    "titlename <- paste('SVM Results for Gen ', genn, ' (',d,' directions, ', TT, ' thresholds)', sep='')\n",
    "\n",
    "p <- ggplot(dgm, aes(x=Selection, y=Percentage)) +\n",
    "     geom_col(aes(fill=Line), position = position_stack(reverse = TRUE))+\n",
    "     scale_fill_manual(values = fcolors, guide = guide_legend(ncol = 7)) +\n",
    "     theme_bw() +\n",
    "     scale_y_continuous(expand = expansion(mult = c(0, .1))) +\n",
    "     theme(plot.title = element_text(hjust = 0.5, vjust = 0, size=20),\n",
    "            #axis.text.x = element_text(size = 11, angle=90),\n",
    "            axis.text.x = element_blank(),\n",
    "            axis.text.y = element_text(size = 11),\n",
    "            axis.title = element_text(size=15),\n",
    "            legend.text = element_text(size=11),\n",
    "            legend.key.size = unit(0.75, 'cm'),\n",
    "            legend.position = \"top\"\n",
    "            ) +\n",
    "      ylab('No. of predicted seeds (%)') +\n",
    "      ggtitle(titlename) +\n",
    "      xlab('Selection') +\n",
    "      labs(fill = \"Accession\")\n",
    "p"
   ]
  },
  {
   "cell_type": "code",
   "execution_count": null,
   "metadata": {},
   "outputs": [],
   "source": [
    "w = 14\n",
    "h = 8\n",
    "filename <- paste('selection_umap_gen',gen,'_d',d,'_T',TT,sep='')\n",
    "ggplot2::ggsave(paste(filename, '.pdf', sep=''), plot=p, device='pdf', width=w, height=h)\n",
    "ggplot2::ggsave(paste(filename, '.png', sep=''), plot=p, device='png', width=w, height=h)"
   ]
  },
  {
   "cell_type": "markdown",
   "metadata": {},
   "source": [
    "# Progeny Comparison"
   ]
  },
  {
   "cell_type": "code",
   "execution_count": null,
   "metadata": {},
   "outputs": [],
   "source": [
    "# gen7_svm_combined_d158_T16_toposcaled.csv\n",
    "gen <- 1\n",
    "genn <- 18\n",
    "d <- 158\n",
    "TT <- 16\n",
    "\n",
    "info_type <- 'combined'\n",
    "scaled <- 'topounscaled'\n",
    "\n",
    "filename <- paste('gen', gen, '_svm_', info_type, '_d', d,'_T',TT,'_',scaled,'.csv', sep='')\n",
    "progeny1 <- read.csv(filename)"
   ]
  },
  {
   "cell_type": "code",
   "execution_count": null,
   "metadata": {},
   "outputs": [],
   "source": [
    "# gen7_svm_combined_d158_T16_toposcaled.csv\n",
    "gen <- 7\n",
    "genn <- 58\n",
    "d <- 158\n",
    "TT <- 16\n",
    "\n",
    "info_type <- 'combined'\n",
    "scaled <- 'topounscaled'\n",
    "\n",
    "filename <- paste('gen', gen, '_svm_', info_type, '_d', d,'_T',TT,'_',scaled,'.csv', sep='')\n",
    "progeny7 <- read.csv(filename)"
   ]
  },
  {
   "cell_type": "code",
   "execution_count": null,
   "metadata": {},
   "outputs": [],
   "source": [
    "counts <- matrix(0, ncol=3, nrow=length(founders_names))\n",
    "rownames(counts) <- founders_names_original\n",
    "for(i in 1:length(founders_names_original))\n",
    "    counts[i,1] = sum(progeny1$Founder == founders_names_original[i])\n",
    "\n",
    "counts[,2] <- (counts[,1]/dim(progeny1)[1]*100)\n",
    "ordered <- counts[base::order(counts[,1], decreasing=TRUE),]\n",
    "ordered[,3] <- base::cumsum(ordered[,2])\n",
    "rownames(ordered) <- founders_names[rank(rownames(ordered))]\n",
    "df1 <- as.data.frame(ordered)\n",
    "df1$Line <- rownames(df1)\n",
    "df1$Line <- factor(df1$Line, levels=founders_names)\n",
    "df1$Line <- factor(df1$Line, levels=genotypes)\n",
    "df1$Gen <- 18"
   ]
  },
  {
   "cell_type": "code",
   "execution_count": null,
   "metadata": {},
   "outputs": [],
   "source": [
    "for(i in 1:length(founders_names_original))\n",
    "    counts[i,1] = sum(progeny7$Founder == founders_names_original[i])\n",
    "\n",
    "counts[,2] <- (counts[,1]/dim(progeny7)[1]*100)\n",
    "ordered <- counts[base::order(counts[,1], decreasing=TRUE),]\n",
    "ordered[,3] <- base::cumsum(ordered[,2])\n",
    "rownames(ordered) <- founders_names[rank(rownames(ordered))]\n",
    "df7 <- as.data.frame(ordered)\n",
    "df7$Line <- rownames(df7)\n",
    "df7$Line <- factor(df7$Line, levels=founders_names)\n",
    "df7$Line <- factor(df7$Line, levels=genotypes)\n",
    "df7$Gen <- 58"
   ]
  },
  {
   "cell_type": "code",
   "execution_count": null,
   "metadata": {},
   "outputs": [],
   "source": [
    "df <- rbind(df1, df7)\n",
    "df$Gen = factor(df$Gen, levels=c(58,18))"
   ]
  },
  {
   "cell_type": "code",
   "execution_count": null,
   "metadata": {},
   "outputs": [],
   "source": [
    "titlename <- 'Comparison of lines across generations'\n",
    "p <- ggplot2::ggplot(df, aes(y=Gen, x=V2)) +\n",
    "    geom_col(aes(fill=Line), position = position_stack(reverse = TRUE)) +\n",
    "    scale_fill_manual(values = fcolors, guide = guide_legend(ncol = 7)) +\n",
    "    theme(plot.title = element_text(hjust = 0.5, vjust = 0, size=20),\n",
    "            axis.text.x = element_text(size = 11, angle=0),\n",
    "            #axis.text.x = element_blank(),\n",
    "            axis.text.y = element_text(size = 11),\n",
    "            axis.title = element_text(size=15),\n",
    "            legend.text = element_text(size=11),\n",
    "            legend.title = element_text(angle=90, vjust=0.5, hjust=0.5),\n",
    "            legend.position = \"top\"\n",
    "            ) +\n",
    "    xlab('No. of predicted seeds (%)') +\n",
    "    ggtitle(titlename) +\n",
    "    ylab('Generation') + \n",
    "    labs(fill = \"Accession\")\n",
    "p"
   ]
  },
  {
   "cell_type": "code",
   "execution_count": null,
   "metadata": {},
   "outputs": [],
   "source": [
    "w = 10\n",
    "h = 3\n",
    "filename <- paste('comparison_generations_d',d,'_T',TT,'_horz', sep='')\n",
    "ggplot2::ggsave(paste(filename, '.pdf', sep=''), plot=p, device='pdf', width=w, height=h)\n",
    "ggplot2::ggsave(paste(filename, '.png', sep=''), plot=p, device='png', width=w, height=h)"
   ]
  },
  {
   "cell_type": "code",
   "execution_count": null,
   "metadata": {},
   "outputs": [],
   "source": [
    "titlename <- 'Comparison of lines\\nacross generations'\n",
    "\n",
    "p <- ggplot2::ggplot(df, aes(x=Gen, y=V2)) +\n",
    "    geom_col(aes(fill=Line), position = position_stack(reverse = TRUE)) +\n",
    "    scale_fill_manual(values = fcolors, guide = guide_legend(ncol = 1, reverse=TRUE)) +\n",
    "    theme(plot.title = element_text(hjust = 0.5, vjust = 0, size=15),\n",
    "            axis.text.x = element_text(size = 11, angle=0),\n",
    "            #axis.text.x = element_blank(),\n",
    "            axis.text.y = element_text(size = 11),\n",
    "            axis.title = element_text(size=15),\n",
    "            legend.text = element_text(size=11),\n",
    "            #legend.title = element_text(title = 'd'),\n",
    "            #legend.key.size = unit(0.75, 'cm'),\n",
    "            legend.position = \"right\"\n",
    "            ) +\n",
    "    ylab('No. of predicted seeds (%)') +\n",
    "    ggtitle(titlename) +\n",
    "    xlab('Generation') +\n",
    "    #guides(fill = guide_legend(reverse = TRUE, ncol=1)) +\n",
    "    labs(fill = \"Accession\")\n",
    "p"
   ]
  },
  {
   "cell_type": "code",
   "execution_count": null,
   "metadata": {},
   "outputs": [],
   "source": [
    "w = 4\n",
    "h = 8\n",
    "filename <- paste('comparison_generations_d',d,'_T',TT,'_vert', sep='')\n",
    "ggplot2::ggsave(paste(filename, '.pdf', sep=''), plot=p, device='pdf', width=w, height=h)\n",
    "ggplot2::ggsave(paste(filename, '.png', sep=''), plot=p, device='png', width=w, height=h)"
   ]
  },
  {
   "cell_type": "code",
   "execution_count": null,
   "metadata": {},
   "outputs": [],
   "source": [
    "diff <- data.frame(val = df7$V2 - df1$V2, Line=genotypes)\n",
    "diff$Line <- factor(diff$Line, levels=genotypes)"
   ]
  },
  {
   "cell_type": "code",
   "execution_count": null,
   "metadata": {
    "scrolled": true
   },
   "outputs": [],
   "source": [
    "diff[1:26,]"
   ]
  },
  {
   "cell_type": "code",
   "execution_count": null,
   "metadata": {},
   "outputs": [],
   "source": [
    "cols <- ifelse(diff$val[1:25]>0, 'yellow', 'red')\n",
    "cols[4] <- 'black'\n",
    "#cols[26] <- 'black'\n",
    "\n",
    "options(repr.plot.width=20, repr.plot.height=10)\n",
    "titlename <- paste('Percentage changes from Gen 18 to Gen 58 (',d,' directions, ', TT, ' thresholds)', sep='')\n",
    "\n",
    "p <- ggplot2::ggplot(diff[1:25,], aes(x=val, y=Line)) + \n",
    "     geom_col(aes(fill=Line)) +\n",
    "     scale_fill_manual(values = fcolors) +\n",
    "     theme_bw() +\n",
    "     #scale_x_continuous(expand = expansion(mult = c(0, 0.01)), limits=c(-5,10.3)) +\n",
    "     geom_text(aes(label = paste(round(val,2)),\n",
    "                   hjust = ifelse(val > 0, 1.5, 1.05)),\n",
    "               size = 6,\n",
    "               color = cols) +\n",
    "     #annotate('Gen 18')\n",
    "     theme(plot.title = element_text(hjust = 0.5, vjust = 0, size=20),\n",
    "            axis.text.x = element_text(size = 15, hjust = 0.5, vjust=0.5),\n",
    "            axis.text.y = element_text(size = 15),\n",
    "            axis.title = element_text(size=18),\n",
    "            axis.title.x = element_text(hjust=0.5),\n",
    "            legend.position = 'none') +\n",
    "      ylab('Accession') +\n",
    "      ggtitle(titlename) +\n",
    "      xlab('Difference of percentages across generations') \n",
    "p"
   ]
  },
  {
   "cell_type": "code",
   "execution_count": null,
   "metadata": {},
   "outputs": [],
   "source": [
    "w = 16\n",
    "h = 7.5\n",
    "filename <- paste('diff_umap_d',d,'_T',TT,sep='')\n",
    "ggplot2::ggsave(paste(filename, '.pdf', sep=''), plot=p, device='pdf', width=w, height=h)\n",
    "ggplot2::ggsave(paste(filename, '.png', sep=''), plot=p, device='png', width=w, height=h)"
   ]
  },
  {
   "cell_type": "markdown",
   "metadata": {},
   "source": [
    "# Individual line comparison"
   ]
  },
  {
   "cell_type": "code",
   "execution_count": null,
   "metadata": {},
   "outputs": [],
   "source": [
    "selection1 <- sort(unique(progeny1$Selection))\n",
    "selection7 <- sort(unique(progeny7$Selection))"
   ]
  },
  {
   "cell_type": "code",
   "execution_count": null,
   "metadata": {},
   "outputs": [],
   "source": [
    "counts1 <- matrix(0, nrow=length(selection7), ncol=length(founders_names))\n",
    "\n",
    "for(i in 1:nrow(counts1)){\n",
    "    foo <- progeny1[progeny1$Selection == selection7[i], ]\n",
    "    for(j in 1:ncol(counts1)){\n",
    "        counts1[i,j] <- (sum(foo$Founder == founders_names_original[j])/nrow(foo)*100)\n",
    "    }\n",
    "}\n",
    "dg <- as.data.frame(counts1)"
   ]
  },
  {
   "cell_type": "code",
   "execution_count": null,
   "metadata": {},
   "outputs": [],
   "source": [
    "counts7 <- matrix(0, nrow=length(selection7), ncol=length(founders_names))\n",
    "\n",
    "for(i in 1:nrow(counts7)){\n",
    "    foo <- progeny7[progeny7$Selection == selection7[i], ]\n",
    "    for(j in 1:ncol(counts7)){\n",
    "        counts7[i,j] <- (sum(foo$Founder == founders_names_original[j])/nrow(foo)*100)\n",
    "    }\n",
    "}\n",
    "dg <- as.data.frame(counts7)"
   ]
  },
  {
   "cell_type": "code",
   "execution_count": null,
   "metadata": {},
   "outputs": [],
   "source": [
    "colnames(dg) <- founders_names\n",
    "rownames(dg) <- selection7\n",
    "dg$Selection <- rownames(dg)\n",
    "\n",
    "dga <- dplyr::arrange(dg, dplyr::desc(data.frame(base::rowSums(dg[genotypes[1:1]]))))\n",
    "dga$Selection <- factor(dga$Selection, levels=dga$Selection[1:nrow(dga)])\n",
    "dga <- dplyr::select(dga, c(colnames(dga)[rank(genotypes)], 'Selection'))"
   ]
  },
  {
   "cell_type": "code",
   "execution_count": null,
   "metadata": {},
   "outputs": [],
   "source": [
    "dgm1 <- reshape2::melt(dga, id.vars='Selection', variable.name='Line', value.name='Percentage')\n",
    "dgm1$Gen <- 18"
   ]
  },
  {
   "cell_type": "code",
   "execution_count": null,
   "metadata": {},
   "outputs": [],
   "source": [
    "dgm7 <- reshape2::melt(dga, id.vars='Selection', variable.name='Line', value.name='Percentage')\n",
    "dgm7$Gen <- 58"
   ]
  },
  {
   "cell_type": "code",
   "execution_count": null,
   "metadata": {},
   "outputs": [],
   "source": [
    "dgm <- rbind(dgm1, dgm7)\n",
    "dgm$Gen <- factor(dgm$Gen, levels = c(18,58))\n",
    "dgm$Selection <- factor(dgm$Selection, levels = selection7)"
   ]
  },
  {
   "cell_type": "code",
   "execution_count": null,
   "metadata": {},
   "outputs": [],
   "source": [
    "titlename <- 'Comparison of lines across generations'\n",
    "\n",
    "p <- ggplot2::ggplot(dgm, aes(y=Percentage, x=Gen)) +\n",
    "    geom_col(aes(fill=Line), position = position_stack(reverse = TRUE)) +\n",
    "    facet_wrap(facet=vars(Selection), ncol=17) +\n",
    "    scale_fill_manual(values = fcolors, guide = guide_legend(ncol = 7)) +\n",
    "    theme(plot.title = element_text(hjust = 0.5, vjust = 0, size=20),\n",
    "            axis.text.x = element_text(size = 11, angle=0),\n",
    "            #axis.text.x = element_blank(),\n",
    "            axis.text.y = element_text(size = 11),\n",
    "            axis.title = element_text(size=15),\n",
    "            legend.text = element_text(size=11),\n",
    "            legend.key.size = unit(0.75, 'cm'),\n",
    "            legend.position = \"top\"\n",
    "            ) +\n",
    "    ylab('No. of predicted seeds (%)') +\n",
    "    ggtitle(titlename) +\n",
    "    xlab('Generation') +\n",
    "    labs(fill = \"Accession\")\n",
    "p"
   ]
  },
  {
   "cell_type": "code",
   "execution_count": null,
   "metadata": {},
   "outputs": [],
   "source": [
    "w = 16\n",
    "h = 10\n",
    "filename <- paste('diff_lines_d',d,'_T',TT,'_vert', sep='')\n",
    "ggplot2::ggsave(paste(filename, '.pdf', sep=''), plot=p, device='pdf', width=w, height=h)\n",
    "ggplot2::ggsave(paste(filename, '.png', sep=''), plot=p, device='png', width=w, height=h)"
   ]
  },
  {
   "cell_type": "code",
   "execution_count": null,
   "metadata": {},
   "outputs": [],
   "source": [
    "titlename <- 'Comparison of lines across generations'\n",
    "\n",
    "p <- ggplot2::ggplot(dgm, aes(y=Gen, x=Percentage)) +\n",
    "    geom_col(aes(fill=Line), position = position_stack(reverse = TRUE)) +\n",
    "    facet_wrap(facet=vars(Selection), ncol=3) +\n",
    "    scale_fill_manual(values = fcolors, guide = guide_legend(ncol = 7)) +\n",
    "    theme(plot.title = element_text(hjust = 0.5, vjust = 0, size=20),\n",
    "            axis.text.x = element_text(size = 11, angle=90),\n",
    "            #axis.text.x = element_blank(),\n",
    "            axis.text.y = element_text(size = 11),\n",
    "            axis.title = element_text(size=15),\n",
    "            legend.text = element_text(size=11),\n",
    "            legend.key.size = unit(0.75, 'cm'),\n",
    "            legend.title = element_text(angle=90, vjust=0.5, hjust=0.5),\n",
    "            legend.position = \"top\"\n",
    "            ) +\n",
    "    xlab('No. of predicted seeds (%)') +\n",
    "    ggtitle(titlename) +\n",
    "    ylab('Generation') +\n",
    "    labs(fill = \"Accession\")\n",
    "p"
   ]
  },
  {
   "cell_type": "code",
   "execution_count": null,
   "metadata": {},
   "outputs": [],
   "source": [
    "w = 11\n",
    "h = 16\n",
    "filename <- paste('diff_lines_d',d,'_T',TT,'_horz', sep='')\n",
    "ggplot2::ggsave(paste(filename, '.pdf', sep=''), plot=p, device='pdf', width=w, height=h)\n",
    "ggplot2::ggsave(paste(filename, '.png', sep=''), plot=p, device='png', width=w, height=h)"
   ]
  }
 ],
 "metadata": {
  "kernelspec": {
   "display_name": "R",
   "language": "R",
   "name": "ir"
  },
  "language_info": {
   "codemirror_mode": "r",
   "file_extension": ".r",
   "mimetype": "text/x-r-source",
   "name": "R",
   "pygments_lexer": "r",
   "version": "3.6.3"
  }
 },
 "nbformat": 4,
 "nbformat_minor": 4
}
