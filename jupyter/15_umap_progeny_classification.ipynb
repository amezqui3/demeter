{
 "cells": [
  {
   "cell_type": "markdown",
   "metadata": {},
   "source": [
    "# Semisupervised territory\n",
    "\n",
    "## Classify the unlabeled progeny seeds with parents\n",
    "\n",
    "- We established with the previous steps that Traditional+ECT+UMAP combined shape descriptors provide an accurate description of seed morphology.\n",
    "\n",
    "- These descriptors balance both spike- and accession-level morphological nuances\n",
    "\n",
    "- We will focus on the collection of parameters that offered the highest classification results\n",
    "    - 158 directions\n",
    "    - 16 thresholds\n",
    "    - Reduced to 12 dimensions with UMAP\n",
    "    - Combined with traditional shape descriptors"
   ]
  },
  {
   "cell_type": "code",
   "execution_count": 15,
   "metadata": {},
   "outputs": [],
   "source": [
    "import numpy as np\n",
    "from sklearn.preprocessing import StandardScaler\n",
    "from sklearn.svm import SVC\n",
    "import matplotlib.pyplot as plt\n",
    "import string\n",
    "import pandas as pd\n",
    "%matplotlib inline\n",
    "\n",
    "import umap"
   ]
  },
  {
   "cell_type": "markdown",
   "metadata": {},
   "source": [
    "## Load and wrangle data\n",
    "\n",
    "- This time we load the information for **all** seeds.\n",
    "   - Progeny\n",
    "   - $F_{18}$\n",
    "   - $F_{58}$"
   ]
  },
  {
   "cell_type": "code",
   "execution_count": 2,
   "metadata": {},
   "outputs": [
    {
     "name": "stderr",
     "output_type": "stream",
     "text": [
      "/home/ejam/.local/lib/python3.8/site-packages/IPython/core/interactiveshell.py:3417: DtypeWarning: Columns (6) have mixed types.Specify dtype option on import or set low_memory=False.\n",
      "  exec(code_obj, self.user_global_ns, self.user_ns)\n"
     ]
    },
    {
     "name": "stdout",
     "output_type": "stream",
     "text": [
      "(37881, 2548)\n"
     ]
    },
    {
     "data": {
      "text/html": [
       "<div>\n",
       "<style scoped>\n",
       "    .dataframe tbody tr th:only-of-type {\n",
       "        vertical-align: middle;\n",
       "    }\n",
       "\n",
       "    .dataframe tbody tr th {\n",
       "        vertical-align: top;\n",
       "    }\n",
       "\n",
       "    .dataframe thead th {\n",
       "        text-align: right;\n",
       "    }\n",
       "</style>\n",
       "<table border=\"1\" class=\"dataframe\">\n",
       "  <thead>\n",
       "    <tr style=\"text-align: right;\">\n",
       "      <th></th>\n",
       "      <th>Scan</th>\n",
       "      <th>Color</th>\n",
       "      <th>Generation</th>\n",
       "      <th>Selection</th>\n",
       "      <th>Progeny</th>\n",
       "      <th>Label (C-G-S-P)</th>\n",
       "      <th>Founder</th>\n",
       "      <th>Label</th>\n",
       "      <th>Length</th>\n",
       "      <th>Width</th>\n",
       "      <th>...</th>\n",
       "      <th>10075</th>\n",
       "      <th>10079</th>\n",
       "      <th>10083</th>\n",
       "      <th>10087</th>\n",
       "      <th>10091</th>\n",
       "      <th>10095</th>\n",
       "      <th>10099</th>\n",
       "      <th>10103</th>\n",
       "      <th>10107</th>\n",
       "      <th>10111</th>\n",
       "    </tr>\n",
       "  </thead>\n",
       "  <tbody>\n",
       "    <tr>\n",
       "      <th>0</th>\n",
       "      <td>S001</td>\n",
       "      <td>Blue</td>\n",
       "      <td>1</td>\n",
       "      <td>184</td>\n",
       "      <td>3</td>\n",
       "      <td>B-1-184-3</td>\n",
       "      <td>NaN</td>\n",
       "      <td>2</td>\n",
       "      <td>86.35686</td>\n",
       "      <td>41.55676</td>\n",
       "      <td>...</td>\n",
       "      <td>0</td>\n",
       "      <td>0</td>\n",
       "      <td>1</td>\n",
       "      <td>1</td>\n",
       "      <td>1</td>\n",
       "      <td>1</td>\n",
       "      <td>1</td>\n",
       "      <td>1</td>\n",
       "      <td>1</td>\n",
       "      <td>1</td>\n",
       "    </tr>\n",
       "    <tr>\n",
       "      <th>1</th>\n",
       "      <td>S001</td>\n",
       "      <td>Blue</td>\n",
       "      <td>1</td>\n",
       "      <td>184</td>\n",
       "      <td>3</td>\n",
       "      <td>B-1-184-3</td>\n",
       "      <td>NaN</td>\n",
       "      <td>2</td>\n",
       "      <td>86.47780</td>\n",
       "      <td>39.82868</td>\n",
       "      <td>...</td>\n",
       "      <td>0</td>\n",
       "      <td>1</td>\n",
       "      <td>1</td>\n",
       "      <td>1</td>\n",
       "      <td>1</td>\n",
       "      <td>1</td>\n",
       "      <td>1</td>\n",
       "      <td>1</td>\n",
       "      <td>1</td>\n",
       "      <td>1</td>\n",
       "    </tr>\n",
       "    <tr>\n",
       "      <th>2</th>\n",
       "      <td>S001</td>\n",
       "      <td>Blue</td>\n",
       "      <td>1</td>\n",
       "      <td>184</td>\n",
       "      <td>3</td>\n",
       "      <td>B-1-184-3</td>\n",
       "      <td>NaN</td>\n",
       "      <td>2</td>\n",
       "      <td>84.80749</td>\n",
       "      <td>40.89001</td>\n",
       "      <td>...</td>\n",
       "      <td>2</td>\n",
       "      <td>1</td>\n",
       "      <td>1</td>\n",
       "      <td>1</td>\n",
       "      <td>1</td>\n",
       "      <td>1</td>\n",
       "      <td>1</td>\n",
       "      <td>1</td>\n",
       "      <td>1</td>\n",
       "      <td>1</td>\n",
       "    </tr>\n",
       "    <tr>\n",
       "      <th>3</th>\n",
       "      <td>S001</td>\n",
       "      <td>Blue</td>\n",
       "      <td>1</td>\n",
       "      <td>184</td>\n",
       "      <td>3</td>\n",
       "      <td>B-1-184-3</td>\n",
       "      <td>NaN</td>\n",
       "      <td>2</td>\n",
       "      <td>76.43452</td>\n",
       "      <td>36.51576</td>\n",
       "      <td>...</td>\n",
       "      <td>-5</td>\n",
       "      <td>0</td>\n",
       "      <td>1</td>\n",
       "      <td>1</td>\n",
       "      <td>1</td>\n",
       "      <td>1</td>\n",
       "      <td>1</td>\n",
       "      <td>1</td>\n",
       "      <td>1</td>\n",
       "      <td>1</td>\n",
       "    </tr>\n",
       "    <tr>\n",
       "      <th>4</th>\n",
       "      <td>S001</td>\n",
       "      <td>Blue</td>\n",
       "      <td>1</td>\n",
       "      <td>184</td>\n",
       "      <td>3</td>\n",
       "      <td>B-1-184-3</td>\n",
       "      <td>NaN</td>\n",
       "      <td>2</td>\n",
       "      <td>88.91815</td>\n",
       "      <td>41.11696</td>\n",
       "      <td>...</td>\n",
       "      <td>2</td>\n",
       "      <td>1</td>\n",
       "      <td>1</td>\n",
       "      <td>1</td>\n",
       "      <td>1</td>\n",
       "      <td>1</td>\n",
       "      <td>1</td>\n",
       "      <td>1</td>\n",
       "      <td>1</td>\n",
       "      <td>1</td>\n",
       "    </tr>\n",
       "  </tbody>\n",
       "</table>\n",
       "<p>5 rows × 2548 columns</p>\n",
       "</div>"
      ],
      "text/plain": [
       "   Scan Color  Generation  Selection  Progeny Label (C-G-S-P) Founder  Label  \\\n",
       "0  S001  Blue           1        184        3       B-1-184-3     NaN      2   \n",
       "1  S001  Blue           1        184        3       B-1-184-3     NaN      2   \n",
       "2  S001  Blue           1        184        3       B-1-184-3     NaN      2   \n",
       "3  S001  Blue           1        184        3       B-1-184-3     NaN      2   \n",
       "4  S001  Blue           1        184        3       B-1-184-3     NaN      2   \n",
       "\n",
       "     Length     Width  ...  10075  10079  10083  10087  10091  10095  10099  \\\n",
       "0  86.35686  41.55676  ...      0      0      1      1      1      1      1   \n",
       "1  86.47780  39.82868  ...      0      1      1      1      1      1      1   \n",
       "2  84.80749  40.89001  ...      2      1      1      1      1      1      1   \n",
       "3  76.43452  36.51576  ...     -5      0      1      1      1      1      1   \n",
       "4  88.91815  41.11696  ...      2      1      1      1      1      1      1   \n",
       "\n",
       "   10103  10107 10111  \n",
       "0      1      1     1  \n",
       "1      1      1     1  \n",
       "2      1      1     1  \n",
       "3      1      1     1  \n",
       "4      1      1     1  \n",
       "\n",
       "[5 rows x 2548 columns]"
      ]
     },
     "execution_count": 2,
     "metadata": {},
     "output_type": "execute_result"
    }
   ],
   "source": [
    "src = '../../preproc/ects/results/'\n",
    "T = 16\n",
    "d = 158\n",
    "combined_file = '{}combined_d{}_T{}.csv'.format(src, d, T)\n",
    "data = pd.read_csv(combined_file)\n",
    "print(data.shape)\n",
    "data.head()"
   ]
  },
  {
   "cell_type": "code",
   "execution_count": 3,
   "metadata": {},
   "outputs": [
    {
     "name": "stdout",
     "output_type": "stream",
     "text": [
      "['Algerian' 'Alpha' 'Arequipa' 'Atlas' 'California Mariout (81A)'\n",
      " 'Club Mariout' 'Everest' 'Flynn' 'Glabron' 'Golden Pheasant'\n",
      " 'Good Delta (104)' 'Han River' 'Hannchen' 'Horn' 'Lion' 'Lyallpur'\n",
      " 'Maison Carree (Carre 42)' 'Manchuria' 'Meloy' 'Minia' 'Multan'\n",
      " 'Oderbrucker' 'Orel' 'Palmella Blue (79B)' 'Sandrel' 'Trebi'\n",
      " 'White Smyrna' 'Wisconsin Winter']\n"
     ]
    }
   ],
   "source": [
    "founder_names = np.unique(data.Founder.dropna().values)\n",
    "print(founder_names)"
   ]
  },
  {
   "cell_type": "code",
   "execution_count": 4,
   "metadata": {},
   "outputs": [
    {
     "name": "stdout",
     "output_type": "stream",
     "text": [
      "Index(['Scan', 'Color', 'Generation', 'Selection', 'Progeny',\n",
      "       'Label (C-G-S-P)', 'Founder', 'Label', 'Tag'],\n",
      "      dtype='object')\n",
      "Index(['Length', 'Width', 'Height', 'HeightMax', 'Shell', 'Area', 'Vol',\n",
      "       'ConvexArea', 'ConvexVol', 'ConvexAreaRatio', 'ConvexVolRatio'],\n",
      "      dtype='object')\n",
      "Index(['3', '7', '11', '15', '19', '23', '27', '31', '35', '39',\n",
      "       ...\n",
      "       '10075', '10079', '10083', '10087', '10091', '10095', '10099', '10103',\n",
      "       '10107', '10111'],\n",
      "      dtype='object', length=2528)\n"
     ]
    }
   ],
   "source": [
    "foo = list(data.columns[:8])\n",
    "foo.append('Tag')\n",
    "\n",
    "meta_traits = pd.Index(foo)\n",
    "trad_traits = data.columns[8:19]\n",
    "topo_traits = data.columns[20:]\n",
    "\n",
    "print(meta_traits, trad_traits, topo_traits, sep='\\n')"
   ]
  },
  {
   "cell_type": "markdown",
   "metadata": {},
   "source": [
    "## Separate data according to their generation"
   ]
  },
  {
   "cell_type": "code",
   "execution_count": 5,
   "metadata": {},
   "outputs": [
    {
     "name": "stdout",
     "output_type": "stream",
     "text": [
      "(3121, 2548)\n",
      "(27934, 2548)\n",
      "(6826, 2548)\n"
     ]
    }
   ],
   "source": [
    "founders = data[data.Generation == 0]\n",
    "gen1 = data[data.Generation == 1]\n",
    "gen7 = data[data.Generation == 7]\n",
    "\n",
    "print(founders.shape, gen1.shape, gen7.shape, sep='\\n')"
   ]
  },
  {
   "cell_type": "code",
   "execution_count": 6,
   "metadata": {},
   "outputs": [
    {
     "name": "stdout",
     "output_type": "stream",
     "text": [
      "(3121, 11)\n",
      "(27934, 11)\n",
      "(6826, 11)\n"
     ]
    },
    {
     "data": {
      "text/html": [
       "<div>\n",
       "<style scoped>\n",
       "    .dataframe tbody tr th:only-of-type {\n",
       "        vertical-align: middle;\n",
       "    }\n",
       "\n",
       "    .dataframe tbody tr th {\n",
       "        vertical-align: top;\n",
       "    }\n",
       "\n",
       "    .dataframe thead th {\n",
       "        text-align: right;\n",
       "    }\n",
       "</style>\n",
       "<table border=\"1\" class=\"dataframe\">\n",
       "  <thead>\n",
       "    <tr style=\"text-align: right;\">\n",
       "      <th></th>\n",
       "      <th>Length</th>\n",
       "      <th>Width</th>\n",
       "      <th>Height</th>\n",
       "      <th>HeightMax</th>\n",
       "      <th>Shell</th>\n",
       "      <th>Area</th>\n",
       "      <th>Vol</th>\n",
       "      <th>ConvexArea</th>\n",
       "      <th>ConvexVol</th>\n",
       "      <th>ConvexAreaRatio</th>\n",
       "      <th>ConvexVolRatio</th>\n",
       "    </tr>\n",
       "  </thead>\n",
       "  <tbody>\n",
       "    <tr>\n",
       "      <th>838</th>\n",
       "      <td>82.15945</td>\n",
       "      <td>47.84965</td>\n",
       "      <td>34.13562</td>\n",
       "      <td>36.91235</td>\n",
       "      <td>7715</td>\n",
       "      <td>13772</td>\n",
       "      <td>66927</td>\n",
       "      <td>9097.25802</td>\n",
       "      <td>68787.66667</td>\n",
       "      <td>1.51386</td>\n",
       "      <td>0.97295</td>\n",
       "    </tr>\n",
       "    <tr>\n",
       "      <th>839</th>\n",
       "      <td>77.96905</td>\n",
       "      <td>38.98826</td>\n",
       "      <td>31.59553</td>\n",
       "      <td>33.75345</td>\n",
       "      <td>6263</td>\n",
       "      <td>11876</td>\n",
       "      <td>52632</td>\n",
       "      <td>7686.21513</td>\n",
       "      <td>53353.33333</td>\n",
       "      <td>1.54510</td>\n",
       "      <td>0.98648</td>\n",
       "    </tr>\n",
       "    <tr>\n",
       "      <th>840</th>\n",
       "      <td>73.92173</td>\n",
       "      <td>41.98139</td>\n",
       "      <td>32.21753</td>\n",
       "      <td>36.05923</td>\n",
       "      <td>6301</td>\n",
       "      <td>11400</td>\n",
       "      <td>52637</td>\n",
       "      <td>7563.55058</td>\n",
       "      <td>53522.83333</td>\n",
       "      <td>1.50723</td>\n",
       "      <td>0.98345</td>\n",
       "    </tr>\n",
       "    <tr>\n",
       "      <th>841</th>\n",
       "      <td>79.44825</td>\n",
       "      <td>42.68680</td>\n",
       "      <td>34.10396</td>\n",
       "      <td>36.59038</td>\n",
       "      <td>7157</td>\n",
       "      <td>12474</td>\n",
       "      <td>60547</td>\n",
       "      <td>8394.33406</td>\n",
       "      <td>61666.66667</td>\n",
       "      <td>1.48600</td>\n",
       "      <td>0.98184</td>\n",
       "    </tr>\n",
       "    <tr>\n",
       "      <th>842</th>\n",
       "      <td>81.29421</td>\n",
       "      <td>47.44167</td>\n",
       "      <td>35.25533</td>\n",
       "      <td>38.60691</td>\n",
       "      <td>7514</td>\n",
       "      <td>13938</td>\n",
       "      <td>66725</td>\n",
       "      <td>9003.03284</td>\n",
       "      <td>68338.83333</td>\n",
       "      <td>1.54814</td>\n",
       "      <td>0.97638</td>\n",
       "    </tr>\n",
       "  </tbody>\n",
       "</table>\n",
       "</div>"
      ],
      "text/plain": [
       "       Length     Width    Height  HeightMax  Shell   Area    Vol  ConvexArea  \\\n",
       "838  82.15945  47.84965  34.13562   36.91235   7715  13772  66927  9097.25802   \n",
       "839  77.96905  38.98826  31.59553   33.75345   6263  11876  52632  7686.21513   \n",
       "840  73.92173  41.98139  32.21753   36.05923   6301  11400  52637  7563.55058   \n",
       "841  79.44825  42.68680  34.10396   36.59038   7157  12474  60547  8394.33406   \n",
       "842  81.29421  47.44167  35.25533   38.60691   7514  13938  66725  9003.03284   \n",
       "\n",
       "       ConvexVol  ConvexAreaRatio  ConvexVolRatio  \n",
       "838  68787.66667          1.51386         0.97295  \n",
       "839  53353.33333          1.54510         0.98648  \n",
       "840  53522.83333          1.50723         0.98345  \n",
       "841  61666.66667          1.48600         0.98184  \n",
       "842  68338.83333          1.54814         0.97638  "
      ]
     },
     "execution_count": 6,
     "metadata": {},
     "output_type": "execute_result"
    }
   ],
   "source": [
    "trad_founders = founders[trad_traits]\n",
    "trad_gen1 = gen1[trad_traits]\n",
    "trad_gen7 = gen7[trad_traits]\n",
    "print(trad_founders.shape, trad_gen1.shape, trad_gen7.shape, sep='\\n')\n",
    "trad_founders.head()"
   ]
  },
  {
   "cell_type": "code",
   "execution_count": 7,
   "metadata": {},
   "outputs": [
    {
     "name": "stdout",
     "output_type": "stream",
     "text": [
      "(3121, 2528)\n",
      "(27934, 2528)\n",
      "(6826, 2528)\n"
     ]
    },
    {
     "data": {
      "text/html": [
       "<div>\n",
       "<style scoped>\n",
       "    .dataframe tbody tr th:only-of-type {\n",
       "        vertical-align: middle;\n",
       "    }\n",
       "\n",
       "    .dataframe tbody tr th {\n",
       "        vertical-align: top;\n",
       "    }\n",
       "\n",
       "    .dataframe thead th {\n",
       "        text-align: right;\n",
       "    }\n",
       "</style>\n",
       "<table border=\"1\" class=\"dataframe\">\n",
       "  <thead>\n",
       "    <tr style=\"text-align: right;\">\n",
       "      <th></th>\n",
       "      <th>3</th>\n",
       "      <th>7</th>\n",
       "      <th>11</th>\n",
       "      <th>15</th>\n",
       "      <th>19</th>\n",
       "      <th>23</th>\n",
       "      <th>27</th>\n",
       "      <th>31</th>\n",
       "      <th>35</th>\n",
       "      <th>39</th>\n",
       "      <th>...</th>\n",
       "      <th>10075</th>\n",
       "      <th>10079</th>\n",
       "      <th>10083</th>\n",
       "      <th>10087</th>\n",
       "      <th>10091</th>\n",
       "      <th>10095</th>\n",
       "      <th>10099</th>\n",
       "      <th>10103</th>\n",
       "      <th>10107</th>\n",
       "      <th>10111</th>\n",
       "    </tr>\n",
       "  </thead>\n",
       "  <tbody>\n",
       "    <tr>\n",
       "      <th>838</th>\n",
       "      <td>8</td>\n",
       "      <td>-3</td>\n",
       "      <td>5</td>\n",
       "      <td>10</td>\n",
       "      <td>-3</td>\n",
       "      <td>1</td>\n",
       "      <td>1</td>\n",
       "      <td>1</td>\n",
       "      <td>1</td>\n",
       "      <td>1</td>\n",
       "      <td>...</td>\n",
       "      <td>-5</td>\n",
       "      <td>2</td>\n",
       "      <td>1</td>\n",
       "      <td>1</td>\n",
       "      <td>1</td>\n",
       "      <td>1</td>\n",
       "      <td>1</td>\n",
       "      <td>1</td>\n",
       "      <td>1</td>\n",
       "      <td>1</td>\n",
       "    </tr>\n",
       "    <tr>\n",
       "      <th>839</th>\n",
       "      <td>1</td>\n",
       "      <td>-1</td>\n",
       "      <td>-3</td>\n",
       "      <td>2</td>\n",
       "      <td>5</td>\n",
       "      <td>-1</td>\n",
       "      <td>1</td>\n",
       "      <td>1</td>\n",
       "      <td>1</td>\n",
       "      <td>1</td>\n",
       "      <td>...</td>\n",
       "      <td>0</td>\n",
       "      <td>1</td>\n",
       "      <td>1</td>\n",
       "      <td>1</td>\n",
       "      <td>1</td>\n",
       "      <td>1</td>\n",
       "      <td>1</td>\n",
       "      <td>1</td>\n",
       "      <td>1</td>\n",
       "      <td>1</td>\n",
       "    </tr>\n",
       "    <tr>\n",
       "      <th>840</th>\n",
       "      <td>11</td>\n",
       "      <td>-1</td>\n",
       "      <td>1</td>\n",
       "      <td>2</td>\n",
       "      <td>1</td>\n",
       "      <td>0</td>\n",
       "      <td>1</td>\n",
       "      <td>1</td>\n",
       "      <td>1</td>\n",
       "      <td>1</td>\n",
       "      <td>...</td>\n",
       "      <td>2</td>\n",
       "      <td>1</td>\n",
       "      <td>1</td>\n",
       "      <td>1</td>\n",
       "      <td>1</td>\n",
       "      <td>1</td>\n",
       "      <td>1</td>\n",
       "      <td>1</td>\n",
       "      <td>1</td>\n",
       "      <td>1</td>\n",
       "    </tr>\n",
       "    <tr>\n",
       "      <th>841</th>\n",
       "      <td>1</td>\n",
       "      <td>6</td>\n",
       "      <td>-4</td>\n",
       "      <td>3</td>\n",
       "      <td>-3</td>\n",
       "      <td>1</td>\n",
       "      <td>1</td>\n",
       "      <td>1</td>\n",
       "      <td>1</td>\n",
       "      <td>1</td>\n",
       "      <td>...</td>\n",
       "      <td>0</td>\n",
       "      <td>1</td>\n",
       "      <td>1</td>\n",
       "      <td>1</td>\n",
       "      <td>1</td>\n",
       "      <td>1</td>\n",
       "      <td>1</td>\n",
       "      <td>1</td>\n",
       "      <td>1</td>\n",
       "      <td>1</td>\n",
       "    </tr>\n",
       "    <tr>\n",
       "      <th>842</th>\n",
       "      <td>19</td>\n",
       "      <td>5</td>\n",
       "      <td>15</td>\n",
       "      <td>9</td>\n",
       "      <td>0</td>\n",
       "      <td>1</td>\n",
       "      <td>1</td>\n",
       "      <td>1</td>\n",
       "      <td>1</td>\n",
       "      <td>1</td>\n",
       "      <td>...</td>\n",
       "      <td>6</td>\n",
       "      <td>0</td>\n",
       "      <td>1</td>\n",
       "      <td>1</td>\n",
       "      <td>1</td>\n",
       "      <td>1</td>\n",
       "      <td>1</td>\n",
       "      <td>1</td>\n",
       "      <td>1</td>\n",
       "      <td>1</td>\n",
       "    </tr>\n",
       "  </tbody>\n",
       "</table>\n",
       "<p>5 rows × 2528 columns</p>\n",
       "</div>"
      ],
      "text/plain": [
       "      3  7  11  15  19  23  27  31  35  39  ...  10075  10079  10083  10087  \\\n",
       "838   8 -3   5  10  -3   1   1   1   1   1  ...     -5      2      1      1   \n",
       "839   1 -1  -3   2   5  -1   1   1   1   1  ...      0      1      1      1   \n",
       "840  11 -1   1   2   1   0   1   1   1   1  ...      2      1      1      1   \n",
       "841   1  6  -4   3  -3   1   1   1   1   1  ...      0      1      1      1   \n",
       "842  19  5  15   9   0   1   1   1   1   1  ...      6      0      1      1   \n",
       "\n",
       "     10091  10095  10099  10103  10107  10111  \n",
       "838      1      1      1      1      1      1  \n",
       "839      1      1      1      1      1      1  \n",
       "840      1      1      1      1      1      1  \n",
       "841      1      1      1      1      1      1  \n",
       "842      1      1      1      1      1      1  \n",
       "\n",
       "[5 rows x 2528 columns]"
      ]
     },
     "execution_count": 7,
     "metadata": {},
     "output_type": "execute_result"
    }
   ],
   "source": [
    "ect_founders = founders[topo_traits]\n",
    "ect_gen1 = gen1[topo_traits]\n",
    "ect_gen7 = gen7[topo_traits]\n",
    "print(ect_founders.shape, ect_gen1.shape, ect_gen7.shape, sep='\\n')\n",
    "ect_founders.head()"
   ]
  },
  {
   "cell_type": "markdown",
   "metadata": {},
   "source": [
    "## UMAP dimension reduction\n",
    "\n",
    "- [Uniform Manifold Approximation and Projection (UMAP)](https://arxiv.org/abs/1802.03426v1) draws several ideas from TDA. \n",
    "\n",
    "\n",
    "- Center the shape descriptors and scale them to variance 1"
   ]
  },
  {
   "cell_type": "code",
   "execution_count": 8,
   "metadata": {},
   "outputs": [],
   "source": [
    "umap_params = {'n_neighbors':50, 'min_dist':0.1, 'n_components':12, 'metric':'manhattan'}\n",
    "umap_trans = umap.UMAP(**umap_params).fit(ect_founders.values)\n",
    "u_founders = umap_trans.transform(ect_founders.values)"
   ]
  },
  {
   "cell_type": "markdown",
   "metadata": {},
   "source": [
    "# Examining the progeny\n",
    "\n",
    "## Reduce the dimension of the progeny\n",
    "\n",
    "- UMAP allows dimension reduction based on previous work\n",
    "\n",
    "- Rather than reducing dimension of the progeny as it is, we can do so based on how we reduced the dimension of the progeny."
   ]
  },
  {
   "cell_type": "code",
   "execution_count": 10,
   "metadata": {},
   "outputs": [
    {
     "name": "stdout",
     "output_type": "stream",
     "text": [
      "[4.7290807 5.4229646 6.037328  8.37816   8.285648  5.4247866 2.7259305\n",
      " 6.3705177 6.138964  2.9217398 5.181975  4.8773403]\n",
      "[0.5451504  0.3085204  0.29192272 0.37950334 0.52675617 0.31155252\n",
      " 0.13315293 0.43406472 0.23332867 0.2303309  0.30220038 0.2508165 ]\n"
     ]
    }
   ],
   "source": [
    "u_gen1 = umap_trans.transform(ect_gen1.values)\n",
    "print(np.mean(u_gen1, axis=0))\n",
    "print(np.std(u_gen1, axis=0))"
   ]
  },
  {
   "cell_type": "code",
   "execution_count": 11,
   "metadata": {},
   "outputs": [],
   "source": [
    "gen = 1\n",
    "u_progeny = u_gen1.copy()\n",
    "trad_progeny = trad_gen1.copy()"
   ]
  },
  {
   "cell_type": "code",
   "execution_count": 41,
   "metadata": {},
   "outputs": [
    {
     "name": "stdout",
     "output_type": "stream",
     "text": [
      "[4.839802  5.4701257 6.1027727 8.512152  8.3021145 5.588169  2.7882106\n",
      " 6.507294  6.1374087 3.063885  5.178275  5.0165176]\n",
      "[0.51299477 0.29262874 0.30134046 0.3574716  0.510009   0.2994887\n",
      " 0.13209003 0.40975672 0.2184346  0.21263145 0.28751692 0.24149393]\n"
     ]
    }
   ],
   "source": [
    "u_gen7 = umap_trans.transform(ect_gen7.values)\n",
    "print(np.mean(u_gen7, axis=0))\n",
    "print(np.std(u_gen7, axis=0))"
   ]
  },
  {
   "cell_type": "code",
   "execution_count": 42,
   "metadata": {},
   "outputs": [],
   "source": [
    "gen = 7\n",
    "u_progeny = u_gen7.copy()\n",
    "trad_progeny = trad_gen7.copy()"
   ]
  },
  {
   "cell_type": "markdown",
   "metadata": {},
   "source": [
    "## Scale the progeny accordingly\n",
    "\n",
    "- Scale progeny with the exact same parameters used to scale the founders"
   ]
  },
  {
   "cell_type": "code",
   "execution_count": 50,
   "metadata": {},
   "outputs": [
    {
     "data": {
      "text/plain": [
       "(3121, 23)"
      ]
     },
     "execution_count": 50,
     "metadata": {},
     "output_type": "execute_result"
    }
   ],
   "source": [
    "topo_scaler = StandardScaler(with_std=False)\n",
    "trad_scaler = StandardScaler()\n",
    "\n",
    "topo_founders_scaled = topo_scaler.fit_transform(u_founders)\n",
    "trad_founders_scaled = trad_scaler.fit_transform(trad_founders)\n",
    "\n",
    "founders_scaled = np.column_stack((trad_founders_scaled, topo_founders_scaled))\n",
    "founders_scaled.shape"
   ]
  },
  {
   "cell_type": "code",
   "execution_count": 51,
   "metadata": {},
   "outputs": [
    {
     "data": {
      "text/plain": [
       "(6826, 23)"
      ]
     },
     "execution_count": 51,
     "metadata": {},
     "output_type": "execute_result"
    }
   ],
   "source": [
    "trad_progeny_scaled = (trad_progeny - trad_scaler.mean_)/trad_scaler.scale_\n",
    "topo_progeny_scaled = (u_progeny - topo_scaler.mean_)#/topo_scaler.scale_\n",
    "progeny_scaled = np.column_stack((trad_progeny_scaled, topo_progeny_scaled))\n",
    "progeny_scaled.shape"
   ]
  },
  {
   "cell_type": "markdown",
   "metadata": {},
   "source": [
    "## Label the progeny with SVM\n",
    "\n",
    "- Train an SVM with 100% of the founders\n",
    "\n",
    "- Then use it to label the progeny"
   ]
  },
  {
   "cell_type": "code",
   "execution_count": 52,
   "metadata": {},
   "outputs": [],
   "source": [
    "info_type = 'combined'\n",
    "\n",
    "svm_params = {'C':50, 'kernel':'rbf', 'gamma':0.1}\n",
    "svc = SVC(**svm_params).fit(founders_scaled, founders.Founder.values)\n",
    "\n",
    "pred_progeny = svc.predict(progeny_scaled)\n",
    "\n",
    "if gen == 1:\n",
    "    svm_progeny = gen1[meta_traits].copy()\n",
    "elif gen == 7:\n",
    "    svm_progeny = gen7[meta_traits].copy()\n",
    "svm_progeny.Founder = pred_progeny"
   ]
  },
  {
   "cell_type": "code",
   "execution_count": 55,
   "metadata": {},
   "outputs": [
    {
     "name": "stdout",
     "output_type": "stream",
     "text": [
      "../../preproc/progeny/unsupervised/gen7_svm_topological_d158_T16_topounscaled.csv\n"
     ]
    }
   ],
   "source": [
    "dst = '../../preproc/progeny/unsupervised/'\n",
    "filename = dst + 'gen{}_svm_{}_d{}_T{}_topounscaled.csv'.format(gen, info_type, d,T)\n",
    "print(filename)\n",
    "svm_progeny.to_csv(filename, index=False)"
   ]
  },
  {
   "cell_type": "code",
   "execution_count": 54,
   "metadata": {},
   "outputs": [],
   "source": [
    "info_type = 'topological'\n",
    "\n",
    "svc = SVC(**svm_params).fit(topo_founders_scaled, founders.Founder.values)\n",
    "\n",
    "pred_progeny = svc.predict(topo_progeny_scaled)\n",
    "\n",
    "if gen == 1:\n",
    "    svm_progeny = gen1[meta_traits].copy()\n",
    "elif gen == 7:\n",
    "    svm_progeny = gen7[meta_traits].copy()\n",
    "svm_progeny.Founder = pred_progeny"
   ]
  },
  {
   "cell_type": "markdown",
   "metadata": {},
   "source": [
    "## Save progeny UMAP reduced dimension"
   ]
  },
  {
   "cell_type": "code",
   "execution_count": 47,
   "metadata": {},
   "outputs": [
    {
     "name": "stdout",
     "output_type": "stream",
     "text": [
      "../../preproc/progeny/unsupervised/umap_gen7_d158_T16_50_0.1_12_manhattan.csv\n"
     ]
    }
   ],
   "source": [
    "filename = dst + 'umap_gen{}_d{}_T{}_{}_{}_{}_{}.csv'.format(gen, d,T, *umap_params.values())\n",
    "print(filename)\n",
    "pd.DataFrame(u_progeny).to_csv(filename, index=False)"
   ]
  },
  {
   "cell_type": "code",
   "execution_count": 40,
   "metadata": {},
   "outputs": [
    {
     "name": "stdout",
     "output_type": "stream",
     "text": [
      "../../preproc/progeny/unsupervised/umap_gen0_d158_T16_50_0.1_12_manhattan.csv\n"
     ]
    }
   ],
   "source": [
    "filename = dst + 'umap_gen0_d{}_T{}_{}_{}_{}_{}.csv'.format(d,T, *umap_params.values())\n",
    "print(filename)\n",
    "pd.DataFrame(u_founders).to_csv(filename, index=False)"
   ]
  }
 ],
 "metadata": {
  "kernelspec": {
   "display_name": "Python 3",
   "language": "python",
   "name": "python3"
  },
  "language_info": {
   "codemirror_mode": {
    "name": "ipython",
    "version": 3
   },
   "file_extension": ".py",
   "mimetype": "text/x-python",
   "name": "python",
   "nbconvert_exporter": "python",
   "pygments_lexer": "ipython3",
   "version": "3.8.10"
  }
 },
 "nbformat": 4,
 "nbformat_minor": 4
}
