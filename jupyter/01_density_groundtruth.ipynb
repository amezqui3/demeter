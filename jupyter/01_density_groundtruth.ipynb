{
 "cells": [
  {
   "cell_type": "markdown",
   "metadata": {},
   "source": [
    "# Density normalization: 1st step: ground-truth\n",
    "\n",
    "The X-ray CT scans can be stacked to form 3D numpy arrays saved as TIFF files. In our case, we saved the scans with 8-bit resoltion, so that each voxel has a density value ranging from `0` to `255`. The X-ray CT scan measures **relative** density rather than absolute density. That is, the lowest density voxel in the object gets treated as density `0` while the densest point is treated as `255` with a linear interpolation for the rest of voxels. This means that two different sets of barley spikes could report vastly different densities!\n",
    "\n",
    "We assume that every barley spike has essentially the same density, and that relative differences are caused by specks of metal or other material. Before going into any image processing and cleanup, we must normalize the densities, that is, make sure that barley spikes report the same density across all scans.\n",
    "\n",
    "The strategy is to take the densities reported in scan `S010.tif` as our ground truth, and then adjust the rest of scans to fit such ground truth. The selection of `S010.tif` was arbitrary."
   ]
  },
  {
   "cell_type": "code",
   "execution_count": 1,
   "metadata": {},
   "outputs": [],
   "source": [
    "import tifffile as tf\n",
    "import numpy as np\n",
    "import os\n",
    "from matplotlib import pyplot as plt\n",
    "import math\n",
    "import importlib\n",
    "import demeter.unionfind as UF"
   ]
  },
  {
   "cell_type": "code",
   "execution_count": 2,
   "metadata": {},
   "outputs": [],
   "source": [
    "dst = '../../preproc/raw/'\n",
    "filepath  = '../../preproc/raw/S010.tif'"
   ]
  },
  {
   "cell_type": "markdown",
   "metadata": {},
   "source": [
    "## Load the raw scan to normalize\n",
    "\n",
    "Load the scan to normalize and compute its density histogram with 256 bins, as voxels can take up to 256 different density values.\n",
    "\n",
    "- The number of bins is actually deduced from the TIFF file itself"
   ]
  },
  {
   "cell_type": "code",
   "execution_count": 3,
   "metadata": {},
   "outputs": [],
   "source": [
    "_ , fname = os.path.split(filepath)\n",
    "bname = os.path.splitext(fname)[0]\n",
    "img = tf.imread(filepath)\n",
    "\n",
    "hist0,bins = np.histogram(img,bins=2**(img.dtype.itemsize*8),range=(0,2**(img.dtype.itemsize*8)))\n",
    "tot = img.size\n",
    "cumul = np.cumsum(hist0)"
   ]
  },
  {
   "cell_type": "markdown",
   "metadata": {},
   "source": [
    "## Do 0-dim persistence to find the three most prominent peaks\n",
    "\n",
    "We compute 0-dimensional persistence (that is, keep track of growing, separate connected components) using a Union-Find data structure, also known as disjoint-set data structure. \n",
    "\n",
    "The data structure mantains a collection $S=\\{S_i\\}_i$ of disjoint sets where each of them has an element that works as the representative. \n",
    "\n",
    "In our case, \n",
    "\n",
    "1. We start by sorting all the density values ($\\rho=0,1,\\ldots,255$) based on number of voxels. That is, the most common density value goes first.\n",
    "1. Make a set with only one element: the most common density value $\\rho_1$\n",
    "1. Insert a second set with only one element: the second most common density value $\\rho_2$\n",
    "1. If $|\\rho_1-\\rho_2|=1$, then both sets are merged.\n",
    "1. Repeat the same procedure for the rest of $\\rho_3,\\ldots,\\rho_{256}$.\n",
    "\n",
    "<p><a href=\"https://commons.wikimedia.org/wiki/File:Dsu_disjoint_sets_init.svg#/media/File:Dsu_disjoint_sets_init.svg\"><img src=\"https://upload.wikimedia.org/wikipedia/commons/thumb/6/67/Dsu_disjoint_sets_init.svg/1200px-Dsu_disjoint_sets_init.svg.png\" alt=\"Dsu disjoint sets init.svg\" width=400></a></p>\n",
    "\n",
    "<p><a href=\"https://commons.wikimedia.org/wiki/File:Dsu_disjoint_sets_final.svg#/media/File:Dsu_disjoint_sets_final.svg\"><img src=\"https://upload.wikimedia.org/wikipedia/commons/thumb/a/ac/Dsu_disjoint_sets_final.svg/1200px-Dsu_disjoint_sets_final.svg.png\" alt=\"Dsu disjoint sets final.svg\" width=400></a></p>\n",
    "\n",
    "We keep track of the persistence (how many iterations did it last) of all connected components. \n",
    "\n",
    "- We keep special attention to the critical density values that merge two different, persistent connected components. \n",
    "\n",
    "Look at the `unionfind.py` file for more details."
   ]
  },
  {
   "cell_type": "markdown",
   "metadata": {},
   "source": [
    "For scan `S010.tif`: \n",
    "- We see that the most persistent density value is $45$\n",
    "- The second most persistent component was first introduced (birth) at $21$ and was merged (death) at $23$. \n",
    "    - The difference of number of voxels (persistence) of density $21$ versus $23$ was of 1,834,474"
   ]
  },
  {
   "cell_type": "code",
   "execution_count": 5,
   "metadata": {},
   "outputs": [
    {
     "data": {
      "text/plain": [
       "[(inf, None, 45),\n",
       " (1834474, 23, 21),\n",
       " (517220, 167, 225),\n",
       " (333, 165, 166),\n",
       " (219, 159, 160),\n",
       " (166, 176, 175),\n",
       " (59, 152, 153),\n",
       " (57, 173, 171),\n",
       " (2, 1, 0),\n",
       " (1, 253, 255),\n",
       " (1, 249, 250),\n",
       " (1, 11, 10),\n",
       " (1, 6, 5),\n",
       " (1, 3, 2)]"
      ]
     },
     "execution_count": 5,
     "metadata": {},
     "output_type": "execute_result"
    }
   ],
   "source": [
    "importlib.reload(UF)\n",
    "pers = sorted(UF.persistence(hist0),reverse=True)\n",
    "pers"
   ]
  },
  {
   "cell_type": "markdown",
   "metadata": {},
   "source": [
    "Alternatively, we could sort them by how large was the persistence of the connected component relative to number of voxels.\n",
    "- Here 45 remains the most persistent density value\n",
    "- The second most persistent component was first introduced (birth) at $225$ and was merged (death) at $167$. \n",
    "    - The difference of number of voxels of density $225$ versus $167$ represents 90.9% of the total of voxels with density $225$."
   ]
  },
  {
   "cell_type": "code",
   "execution_count": 7,
   "metadata": {},
   "outputs": [
    {
     "data": {
      "text/plain": [
       "[(inf, None, 45),\n",
       " (0.9089071920739047, 167, 225),\n",
       " (0.11859849950245463, 23, 21)]"
      ]
     },
     "execution_count": 7,
     "metadata": {},
     "output_type": "execute_result"
    }
   ],
   "source": [
    "pers = sorted(UF.rel_persistence(hist0),reverse=True)\n",
    "pers"
   ]
  },
  {
   "cell_type": "markdown",
   "metadata": {},
   "source": [
    "- The three important scan peaks corresponding to density of\n",
    "    - Air = 21\n",
    "    - Foam = 45\n",
    "    - Grain = 225\n",
    "- `anchors`: Corresponding density quantiles\n",
    "    - 1.02% or voxels report a density lower than 21\n",
    "    - 60.3% of voxels report a density lower than 45\n",
    "    - 99.9% of voxels report a density lower than 225"
   ]
  },
  {
   "cell_type": "code",
   "execution_count": 8,
   "metadata": {},
   "outputs": [
    {
     "name": "stdout",
     "output_type": "stream",
     "text": [
      "45 225 21\n",
      "[0.6038812815879672, 0.9993583612061564, 0.010151476150622665]\n"
     ]
    }
   ],
   "source": [
    "p0,p1,p2 = pers[:3]\n",
    "x0,x1,x2 = p0[2],p1[2],p2[2]\n",
    "anchors = [cumul[x0]/tot,cumul[x1]/tot,cumul[x2]/tot]\n",
    "\n",
    "print(x0,x1,x2)\n",
    "print(anchors)"
   ]
  },
  {
   "cell_type": "markdown",
   "metadata": {},
   "source": [
    "**Note:** We used `rel_persistence` to find the peaks, but `persistence` produces the same results except in different order whenever considering only the three most prominent peaks."
   ]
  },
  {
   "cell_type": "markdown",
   "metadata": {},
   "source": [
    "## Plot the log results"
   ]
  },
  {
   "cell_type": "code",
   "execution_count": 9,
   "metadata": {},
   "outputs": [
    {
     "data": {
      "image/png": "[encoded data removed]",
      "text/plain": [
       "<Figure size 1008x360 with 1 Axes>"
      ]
     },
     "metadata": {
      "needs_background": "light"
     },
     "output_type": "display_data"
    }
   ],
   "source": [
    "fig, ax = plt.subplots(figsize=(14,5))\n",
    "lw = 3\n",
    "\n",
    "ax.axvline(x0, ls='-.', lw=lw, c='r')\n",
    "ax.axvline(x1, ls='-.', lw=lw, c='b')\n",
    "ax.axvline(x2, ls='-.', lw=lw, c='g')\n",
    "\n",
    "ax.plot([b for b in bins[:-1]],[np.log(h+1) for h in hist0], lw=lw+2, label = 'reference')\n",
    "\n",
    "ax.set_xlabel(\"Density\", fontsize=22)\n",
    "ax.set_ylabel(\"log(freq+1)\", fontsize=22)\n",
    "ax.set_title(bname + ' as Reference', fontsize=26)\n",
    "ax.tick_params(labelsize=22)\n",
    "ax.legend(fontsize=24)\n",
    "plt.tight_layout()\n",
    "\n",
    "#plt.savefig(dst+'hists/' + bname+'_normalization++.jpg', dpi=175, format='jpg', pil_kwargs={'optimize':True})"
   ]
  },
  {
   "cell_type": "markdown",
   "metadata": {},
   "source": [
    "## Save the quantiles and their location for quick use"
   ]
  },
  {
   "cell_type": "code",
   "execution_count": 26,
   "metadata": {},
   "outputs": [],
   "source": [
    "np.savetxt(dst + 'normalization_yvals.csv', np.array([x0,x1,x2]), fmt='%d', delimiter = ',')\n",
    "np.savetxt(dst + 'normalization_anchors.csv', anchors, fmt='%.18e', delimiter = ',')"
   ]
  }
 ],
 "metadata": {
  "kernelspec": {
   "display_name": "Python 3",
   "language": "python",
   "name": "python3"
  },
  "language_info": {
   "codemirror_mode": {
    "name": "ipython",
    "version": 3
   },
   "file_extension": ".py",
   "mimetype": "text/x-python",
   "name": "python",
   "nbconvert_exporter": "python",
   "pygments_lexer": "ipython3",
   "version": "3.6.9"
  }
 },
 "nbformat": 4,
 "nbformat_minor": 4
}
