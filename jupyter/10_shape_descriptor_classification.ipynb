{
 "cells": [
  {
   "cell_type": "markdown",
   "metadata": {},
   "source": [
    "# Shape descriptor analysis (Part 1)\n",
    "\n",
    "We finally have some numbers to work with.\n",
    "- **Traditional shape descriptors**: 11 numbers, like grain length, width, height, etc\n",
    "- **Topological shape descriptors**: Variable number: from the Euler Characteristic Transform\n",
    "\n",
    "How good are these descriptors? Can we characterize the shape of different founders based solely on their grain morphology? We can train a Support Vector Machine (SVM) with an 80/20 train/test breakdown and test the classification accuracy. The SVM can be trained with either\n",
    "- Purely traditional descriptors\n",
    "- Purely topological descriptors\n",
    "- A combination of both descriptors\n",
    "\n",
    "Take into account that the ECT produces extremely large vectors. To avoid pathological behavior, we must reduce their dimension as a first step."
   ]
  },
  {
   "cell_type": "code",
   "execution_count": 1,
   "metadata": {},
   "outputs": [],
   "source": [
    "suppressPackageStartupMessages(library(e1071))\n",
    "suppressPackageStartupMessages(library(kernlab))"
   ]
  },
  {
   "cell_type": "markdown",
   "metadata": {},
   "source": [
    "## Read and wrangle the data\n",
    "\n",
    "- Read the CSV that contains both the traditional and topological descriptors\n",
    "- For the topological descriptors, we select the file corresponding to the number of directions `d` and thresholds `TT`\n",
    "- Get the name of founders and shorten some of their names (it will make plots less clustered later)\n",
    "- Distinguish the columns referring to traditional or topological information"
   ]
  },
  {
   "cell_type": "code",
   "execution_count": 27,
   "metadata": {},
   "outputs": [],
   "source": [
    "setwd('/home/ejam/documents/barley_stacks/preproc/norm_ect/results')\n",
    "norm <- 'Normalized Size'\n",
    "d <- 158\n",
    "TT <- 8\n",
    "founders <- read.csv(paste('combined_d',d,'_T',TT,'.csv',sep=''))"
   ]
  },
  {
   "cell_type": "code",
   "execution_count": 4,
   "metadata": {},
   "outputs": [
    {
     "name": "stdout",
     "output_type": "stream",
     "text": [
      " [1] \"Algerian\"        \"Alpha\"           \"Arequipa\"        \"Atlas\"          \n",
      " [5] \"CA Mariout\"      \"Club Mariout\"    \"Everest\"         \"Flynn\"          \n",
      " [9] \"Glabron\"         \"Golden Pheasant\" \"Good Delta\"      \"Han River\"      \n",
      "[13] \"Hannchen\"        \"Horn\"            \"Lion\"            \"Lyallpur\"       \n",
      "[17] \"Maison Carree\"   \"Manchuria\"       \"Meloy\"           \"Minia\"          \n",
      "[21] \"Multan\"          \"Oderbrucker\"     \"Orel\"            \"Palmella Blue\"  \n",
      "[25] \"Sandrel\"         \"Trebi\"           \"White Smyrna\"    \"WI Winter\"      \n"
     ]
    }
   ],
   "source": [
    "founders_names_original <- levels(unique(founders$Founder))\n",
    "founders_names <- founders_names_original\n",
    "founders_names[5] <- 'CA Mariout'\n",
    "founders_names[11] <- 'Good Delta'\n",
    "founders_names[17] <- 'Maison Carree'\n",
    "founders_names[24] <- 'Palmella Blue'\n",
    "founders_names[28] <- 'WI Winter'\n",
    "print(founders_names)"
   ]
  },
  {
   "cell_type": "code",
   "execution_count": 28,
   "metadata": {},
   "outputs": [
    {
     "data": {
      "text/html": [
       "<style>\n",
       ".list-inline {list-style: none; margin:0; padding: 0}\n",
       ".list-inline>li {display: inline-block}\n",
       ".list-inline>li:not(:last-child)::after {content: \"\\00b7\"; padding: 0 .5ex}\n",
       "</style>\n",
       "<ol class=list-inline><li>3121</li><li>1284</li></ol>\n"
      ],
      "text/latex": [
       "\\begin{enumerate*}\n",
       "\\item 3121\n",
       "\\item 1284\n",
       "\\end{enumerate*}\n"
      ],
      "text/markdown": [
       "1. 3121\n",
       "2. 1284\n",
       "\n",
       "\n"
      ],
      "text/plain": [
       "[1] 3121 1284"
      ]
     },
     "metadata": {},
     "output_type": "display_data"
    },
    {
     "name": "stdout",
     "output_type": "stream",
     "text": [
      " [1] \"Length\"          \"Width\"           \"Height\"          \"HeightMax\"      \n",
      " [5] \"Shell\"           \"Area\"            \"Vol\"             \"ConvexArea\"     \n",
      " [9] \"ConvexVol\"       \"ConvexAreaRatio\" \"ConvexVolRatio\" \n",
      " [1] \"X7\"  \"X15\" \"X23\" \"X31\" \"X39\" \"X47\" \"X55\" \"X63\" \"X71\" \"X79\"\n"
     ]
    }
   ],
   "source": [
    "dim(founders)\n",
    "\n",
    "trad_traits <- colnames(founders)[10:20]\n",
    "print(trad_traits)\n",
    "topo_traits <- colnames(founders)[21:ncol(founders)]\n",
    "print(topo_traits[1:10])"
   ]
  },
  {
   "cell_type": "markdown",
   "metadata": {},
   "source": [
    "## Dimension reduction\n",
    "\n",
    "- The ECT produces very high dimensional vectors. When considering 74 directions and 64 thresholds each, we obtain a $74\\times64=4736$-dimensional vector for _each_ seed.\n",
    "- Dimension reduction is performed with kernel PCA, using a Laplacian kernel"
   ]
  },
  {
   "cell_type": "code",
   "execution_count": 29,
   "metadata": {},
   "outputs": [],
   "source": [
    "dims <- 12\n",
    "kernel <- 'laplacedot'\n",
    "kpar <- list(sigma=1)\n",
    "kpc <- kernlab::kpca(~.,data=founders[,topo_traits], kernel=kernel, features=dims, kpar=kpar)"
   ]
  },
  {
   "cell_type": "markdown",
   "metadata": {},
   "source": [
    "## Combine the descriptors\n",
    "\n",
    "- Create a matrix with 23 descriptors per seed: 11 traditional and 12 topological\n",
    "- Center and scale the descriptors so we don't have to repeat this step whenever computing SVMs"
   ]
  },
  {
   "cell_type": "code",
   "execution_count": 43,
   "metadata": {},
   "outputs": [
    {
     "data": {
      "text/html": [
       "<style>\n",
       ".list-inline {list-style: none; margin:0; padding: 0}\n",
       ".list-inline>li {display: inline-block}\n",
       ".list-inline>li:not(:last-child)::after {content: \"\\00b7\"; padding: 0 .5ex}\n",
       "</style>\n",
       "<ol class=list-inline><li>3121</li><li>23</li></ol>\n"
      ],
      "text/latex": [
       "\\begin{enumerate*}\n",
       "\\item 3121\n",
       "\\item 23\n",
       "\\end{enumerate*}\n"
      ],
      "text/markdown": [
       "1. 3121\n",
       "2. 23\n",
       "\n",
       "\n"
      ],
      "text/plain": [
       "[1] 3121   23"
      ]
     },
     "metadata": {},
     "output_type": "display_data"
    },
    {
     "data": {
      "text/html": [
       "<table>\n",
       "<caption>A matrix: 5 × 23 of type dbl</caption>\n",
       "<thead>\n",
       "\t<tr><th></th><th scope=col>Length</th><th scope=col>Width</th><th scope=col>Height</th><th scope=col>HeightMax</th><th scope=col>Shell</th><th scope=col>Area</th><th scope=col>Vol</th><th scope=col>ConvexArea</th><th scope=col>ConvexVol</th><th scope=col>ConvexAreaRatio</th><th scope=col>⋯</th><th scope=col>3</th><th scope=col>4</th><th scope=col>5</th><th scope=col>6</th><th scope=col>7</th><th scope=col>8</th><th scope=col>9</th><th scope=col>10</th><th scope=col>11</th><th scope=col>12</th></tr>\n",
       "</thead>\n",
       "<tbody>\n",
       "\t<tr><th scope=row>1</th><td> 0.33277264</td><td> 2.0880757</td><td>1.3426304</td><td>1.5325907</td><td> 1.25191221</td><td> 1.0868236</td><td>1.3225306</td><td> 1.16746191</td><td>1.3774174</td><td>-0.5391536</td><td>⋯</td><td>-1.104082e-16</td><td>-7.602872e-18</td><td>3.635430e-17</td><td> 1.389261e-17</td><td>-5.599158e-17</td><td> 1.751885e-17</td><td>-3.160703e-17</td><td>-2.095990e-17</td><td> 1.483759e-17</td><td> 1.216598e-17</td></tr>\n",
       "\t<tr><th scope=row>2</th><td>-0.11654863</td><td>-0.3338037</td><td>0.5324128</td><td>0.5326279</td><td>-0.06973813</td><td> 0.1377740</td><td>0.1152911</td><td> 0.07223388</td><td>0.1178263</td><td> 0.7196770</td><td>⋯</td><td> 1.195920e-02</td><td>-2.347649e-02</td><td>1.359711e-02</td><td>-6.626404e-03</td><td> 1.349544e-03</td><td> 5.044467e-02</td><td> 9.555320e-03</td><td> 2.814836e-03</td><td>-1.134730e-02</td><td>-1.324472e-02</td></tr>\n",
       "\t<tr><th scope=row>3</th><td>-0.55052796</td><td> 0.4842395</td><td>0.7308134</td><td>1.2625320</td><td>-0.03514948</td><td>-0.1004895</td><td>0.1157133</td><td>-0.02297631</td><td>0.1316591</td><td>-0.8063126</td><td>⋯</td><td> 4.052952e-03</td><td>-5.354103e-03</td><td>5.251799e-02</td><td> 2.202566e-03</td><td> 1.056209e-02</td><td>-1.742858e-02</td><td> 1.616178e-03</td><td> 2.939675e-03</td><td> 3.601633e-03</td><td>-2.677796e-03</td></tr>\n",
       "\t<tr><th scope=row>4</th><td> 0.04206057</td><td> 0.6770330</td><td>1.3325318</td><td>1.4306697</td><td> 0.74400526</td><td> 0.4371050</td><td>0.7837276</td><td> 0.62186402</td><td>0.7962748</td><td>-1.6617855</td><td>⋯</td><td>-4.079413e-03</td><td> 2.652040e-02</td><td>3.802434e-02</td><td>-7.470408e-03</td><td>-1.141892e-02</td><td>-8.663931e-02</td><td> 1.903914e-02</td><td> 1.561918e-02</td><td>-2.336464e-03</td><td>-3.408520e-03</td></tr>\n",
       "\t<tr><th scope=row>5</th><td> 0.23999612</td><td> 1.9765720</td><td>1.6997866</td><td>2.0690106</td><td> 1.06895648</td><td> 1.1699155</td><td>1.3054713</td><td> 1.09432589</td><td>1.3407883</td><td> 0.8421753</td><td>⋯</td><td> 3.211307e-02</td><td>-1.248039e-02</td><td>3.113082e-02</td><td>-3.945422e-02</td><td>-5.911792e-02</td><td> 5.651528e-02</td><td>-2.331383e-02</td><td> 6.817680e-02</td><td> 5.111699e-02</td><td>-1.086770e-02</td></tr>\n",
       "</tbody>\n",
       "</table>\n"
      ],
      "text/latex": [
       "A matrix: 5 × 23 of type dbl\n",
       "\\begin{tabular}{r|lllllllllllllllllllll}\n",
       "  & Length & Width & Height & HeightMax & Shell & Area & Vol & ConvexArea & ConvexVol & ConvexAreaRatio & ⋯ & 3 & 4 & 5 & 6 & 7 & 8 & 9 & 10 & 11 & 12\\\\\n",
       "\\hline\n",
       "\t1 &  0.33277264 &  2.0880757 & 1.3426304 & 1.5325907 &  1.25191221 &  1.0868236 & 1.3225306 &  1.16746191 & 1.3774174 & -0.5391536 & ⋯ & -1.104082e-16 & -7.602872e-18 & 3.635430e-17 &  1.389261e-17 & -5.599158e-17 &  1.751885e-17 & -3.160703e-17 & -2.095990e-17 &  1.483759e-17 &  1.216598e-17\\\\\n",
       "\t2 & -0.11654863 & -0.3338037 & 0.5324128 & 0.5326279 & -0.06973813 &  0.1377740 & 0.1152911 &  0.07223388 & 0.1178263 &  0.7196770 & ⋯ &  1.195920e-02 & -2.347649e-02 & 1.359711e-02 & -6.626404e-03 &  1.349544e-03 &  5.044467e-02 &  9.555320e-03 &  2.814836e-03 & -1.134730e-02 & -1.324472e-02\\\\\n",
       "\t3 & -0.55052796 &  0.4842395 & 0.7308134 & 1.2625320 & -0.03514948 & -0.1004895 & 0.1157133 & -0.02297631 & 0.1316591 & -0.8063126 & ⋯ &  4.052952e-03 & -5.354103e-03 & 5.251799e-02 &  2.202566e-03 &  1.056209e-02 & -1.742858e-02 &  1.616178e-03 &  2.939675e-03 &  3.601633e-03 & -2.677796e-03\\\\\n",
       "\t4 &  0.04206057 &  0.6770330 & 1.3325318 & 1.4306697 &  0.74400526 &  0.4371050 & 0.7837276 &  0.62186402 & 0.7962748 & -1.6617855 & ⋯ & -4.079413e-03 &  2.652040e-02 & 3.802434e-02 & -7.470408e-03 & -1.141892e-02 & -8.663931e-02 &  1.903914e-02 &  1.561918e-02 & -2.336464e-03 & -3.408520e-03\\\\\n",
       "\t5 &  0.23999612 &  1.9765720 & 1.6997866 & 2.0690106 &  1.06895648 &  1.1699155 & 1.3054713 &  1.09432589 & 1.3407883 &  0.8421753 & ⋯ &  3.211307e-02 & -1.248039e-02 & 3.113082e-02 & -3.945422e-02 & -5.911792e-02 &  5.651528e-02 & -2.331383e-02 &  6.817680e-02 &  5.111699e-02 & -1.086770e-02\\\\\n",
       "\\end{tabular}\n"
      ],
      "text/markdown": [
       "\n",
       "A matrix: 5 × 23 of type dbl\n",
       "\n",
       "| <!--/--> | Length | Width | Height | HeightMax | Shell | Area | Vol | ConvexArea | ConvexVol | ConvexAreaRatio | ⋯ | 3 | 4 | 5 | 6 | 7 | 8 | 9 | 10 | 11 | 12 |\n",
       "|---|---|---|---|---|---|---|---|---|---|---|---|---|---|---|---|---|---|---|---|---|---|\n",
       "| 1 |  0.33277264 |  2.0880757 | 1.3426304 | 1.5325907 |  1.25191221 |  1.0868236 | 1.3225306 |  1.16746191 | 1.3774174 | -0.5391536 | ⋯ | -1.104082e-16 | -7.602872e-18 | 3.635430e-17 |  1.389261e-17 | -5.599158e-17 |  1.751885e-17 | -3.160703e-17 | -2.095990e-17 |  1.483759e-17 |  1.216598e-17 |\n",
       "| 2 | -0.11654863 | -0.3338037 | 0.5324128 | 0.5326279 | -0.06973813 |  0.1377740 | 0.1152911 |  0.07223388 | 0.1178263 |  0.7196770 | ⋯ |  1.195920e-02 | -2.347649e-02 | 1.359711e-02 | -6.626404e-03 |  1.349544e-03 |  5.044467e-02 |  9.555320e-03 |  2.814836e-03 | -1.134730e-02 | -1.324472e-02 |\n",
       "| 3 | -0.55052796 |  0.4842395 | 0.7308134 | 1.2625320 | -0.03514948 | -0.1004895 | 0.1157133 | -0.02297631 | 0.1316591 | -0.8063126 | ⋯ |  4.052952e-03 | -5.354103e-03 | 5.251799e-02 |  2.202566e-03 |  1.056209e-02 | -1.742858e-02 |  1.616178e-03 |  2.939675e-03 |  3.601633e-03 | -2.677796e-03 |\n",
       "| 4 |  0.04206057 |  0.6770330 | 1.3325318 | 1.4306697 |  0.74400526 |  0.4371050 | 0.7837276 |  0.62186402 | 0.7962748 | -1.6617855 | ⋯ | -4.079413e-03 |  2.652040e-02 | 3.802434e-02 | -7.470408e-03 | -1.141892e-02 | -8.663931e-02 |  1.903914e-02 |  1.561918e-02 | -2.336464e-03 | -3.408520e-03 |\n",
       "| 5 |  0.23999612 |  1.9765720 | 1.6997866 | 2.0690106 |  1.06895648 |  1.1699155 | 1.3054713 |  1.09432589 | 1.3407883 |  0.8421753 | ⋯ |  3.211307e-02 | -1.248039e-02 | 3.113082e-02 | -3.945422e-02 | -5.911792e-02 |  5.651528e-02 | -2.331383e-02 |  6.817680e-02 |  5.111699e-02 | -1.086770e-02 |\n",
       "\n"
      ],
      "text/plain": [
       "  Length      Width      Height    HeightMax Shell       Area       Vol      \n",
       "1  0.33277264  2.0880757 1.3426304 1.5325907  1.25191221  1.0868236 1.3225306\n",
       "2 -0.11654863 -0.3338037 0.5324128 0.5326279 -0.06973813  0.1377740 0.1152911\n",
       "3 -0.55052796  0.4842395 0.7308134 1.2625320 -0.03514948 -0.1004895 0.1157133\n",
       "4  0.04206057  0.6770330 1.3325318 1.4306697  0.74400526  0.4371050 0.7837276\n",
       "5  0.23999612  1.9765720 1.6997866 2.0690106  1.06895648  1.1699155 1.3054713\n",
       "  ConvexArea  ConvexVol ConvexAreaRatio ⋯ 3             4            \n",
       "1  1.16746191 1.3774174 -0.5391536      ⋯ -1.104082e-16 -7.602872e-18\n",
       "2  0.07223388 0.1178263  0.7196770      ⋯  1.195920e-02 -2.347649e-02\n",
       "3 -0.02297631 0.1316591 -0.8063126      ⋯  4.052952e-03 -5.354103e-03\n",
       "4  0.62186402 0.7962748 -1.6617855      ⋯ -4.079413e-03  2.652040e-02\n",
       "5  1.09432589 1.3407883  0.8421753      ⋯  3.211307e-02 -1.248039e-02\n",
       "  5            6             7             8             9            \n",
       "1 3.635430e-17  1.389261e-17 -5.599158e-17  1.751885e-17 -3.160703e-17\n",
       "2 1.359711e-02 -6.626404e-03  1.349544e-03  5.044467e-02  9.555320e-03\n",
       "3 5.251799e-02  2.202566e-03  1.056209e-02 -1.742858e-02  1.616178e-03\n",
       "4 3.802434e-02 -7.470408e-03 -1.141892e-02 -8.663931e-02  1.903914e-02\n",
       "5 3.113082e-02 -3.945422e-02 -5.911792e-02  5.651528e-02 -2.331383e-02\n",
       "  10            11            12           \n",
       "1 -2.095990e-17  1.483759e-17  1.216598e-17\n",
       "2  2.814836e-03 -1.134730e-02 -1.324472e-02\n",
       "3  2.939675e-03  3.601633e-03 -2.677796e-03\n",
       "4  1.561918e-02 -2.336464e-03 -3.408520e-03\n",
       "5  6.817680e-02  5.111699e-02 -1.086770e-02"
      ]
     },
     "metadata": {},
     "output_type": "display_data"
    }
   ],
   "source": [
    "info_type <- 'Combined'\n",
    "mixed <- cbind(founders[,trad_traits], kpc@rotated)\n",
    "scaled_data <- base::scale(mixed, center=TRUE, scale=TRUE)\n",
    "dim(scaled_data)\n",
    "scaled_data[1:5, ]"
   ]
  },
  {
   "cell_type": "markdown",
   "metadata": {},
   "source": [
    "## Classify with an SVM\n",
    "\n",
    "- Do a 80/20 split for training/testing\n",
    "- That is, select randomly 80% of the sample for each of the 28 grain varieties\n",
    "- The rest will be used later to test to make sure we're not overfitting the training."
   ]
  },
  {
   "cell_type": "code",
   "execution_count": 56,
   "metadata": {},
   "outputs": [],
   "source": [
    "percent_train <- 0.8\n",
    "train_ids <- c()\n",
    "for(i in 1:length(founders_names_original)){\n",
    "    seed_ids <- which(founders$Founder == founders_names_original[i])\n",
    "    seed_train <- sample(seed_ids, size = floor(length(seed_ids)*percent_train), \n",
    "                         replace=FALSE)\n",
    "    train_ids <- c(train_ids, seed_train)\n",
    "}\n",
    "test_ids <- setdiff(1:nrow(founders), train_ids)\n",
    "train_labs <- founders$Founder[train_ids]\n",
    "test_labs <- founders$Founder[test_ids]"
   ]
  },
  {
   "cell_type": "markdown",
   "metadata": {},
   "source": [
    "- SVM can be sensitive to small parameter changes. \n",
    "- The best combination of parameters was based on a purely empirical approach"
   ]
  },
  {
   "cell_type": "code",
   "execution_count": 57,
   "metadata": {},
   "outputs": [
    {
     "name": "stdout",
     "output_type": "stream",
     "text": [
      "[1] \"Classification accuracy: 71.5 %\"\n"
     ]
    }
   ],
   "source": [
    "model <- e1071::svm(scaled_data[train_ids,], train_labs, type='C-classification',\n",
    "                    kernel='polynomial', coef0=25, degree=2, gamma=0.1, cost=200, scale=FALSE)\n",
    "pred <- stats::predict(model, scaled_data[test_ids,])\n",
    "clasification <- matrix(as.numeric(table(pred, test_labs)),\n",
    "                        length(founders_names), length(founders_names))\n",
    "accuracy <- sum(diag(clasification))/sum(clasification)\n",
    "\n",
    "print(paste('Classification accuracy:', 100*signif(accuracy,3), '%'))"
   ]
  },
  {
   "cell_type": "code",
   "execution_count": 58,
   "metadata": {},
   "outputs": [
    {
     "name": "stdout",
     "output_type": "stream",
     "text": [
      "[1] \"Classification accuracy: 71.5 %\"\n"
     ]
    }
   ],
   "source": [
    "model <- e1071::svm(scaled_data[train_ids,], train_labs, type='C-classification',\n",
    "                    kernel='polynomial', coef0=5, degree=3, gamma=0.01, cost=150, scale=FALSE)\n",
    "pred <- stats::predict(model, scaled_data[test_ids,])\n",
    "clasification <- matrix(as.numeric(table(pred, test_labs)),\n",
    "                        length(founders_names), length(founders_names))\n",
    "accuracy <- sum(diag(clasification))/sum(clasification)\n",
    "\n",
    "print(paste('Classification accuracy:', 100*signif(accuracy,3), '%'))"
   ]
  },
  {
   "cell_type": "code",
   "execution_count": 34,
   "metadata": {},
   "outputs": [
    {
     "name": "stdout",
     "output_type": "stream",
     "text": [
      "[1] \"Classification accuracy: 19.4 %\"\n"
     ]
    }
   ],
   "source": [
    "model <- e1071::svm(scaled_data[train_ids,], train_labs, type='C-classification',\n",
    "                    kernel='radial', gamma=0.01, cost=100, scale=FALSE)\n",
    "pred <- stats::predict(model, scaled_data[test_ids,])\n",
    "clasification <- matrix(as.numeric(table(pred, test_labs)),\n",
    "                        length(founders_names), length(founders_names))\n",
    "accuracy <- sum(diag(clasification))/sum(clasification)\n",
    "\n",
    "print(paste('Classification accuracy:', 100*signif(accuracy,3), '%'))"
   ]
  },
  {
   "cell_type": "markdown",
   "metadata": {},
   "source": [
    "- Once we're satisfied with our SVM parameter choice, run 100 different SVMs\n",
    "- That is, select randomly 80% of the sample and test the rest\n",
    "- Repeat this procedure 100 times\n",
    "- We produce a $28\\times28\\times100$ array with all the results"
   ]
  },
  {
   "cell_type": "code",
   "execution_count": 30,
   "metadata": {},
   "outputs": [],
   "source": [
    "info_type <- 'Combined'\n",
    "mixed <- cbind(founders[,trad_traits], kpc@rotated)\n",
    "scaled_data <- base::scale(mixed, center=TRUE, scale=TRUE)\n",
    "\n",
    "sample_runs <- 100\n",
    "percent_train <- 0.8\n",
    "results <- base::array(0, dim=c(length(founders_names), length(founders_names), sample_runs))\n",
    "\n",
    "for(j in 1:sample_runs){\n",
    "    train_ids <- c()\n",
    "    for(i in 1:length(founders_names_original)){\n",
    "        seed_ids <- which(founders$Founder == founders_names_original[i])\n",
    "        seed_train <- sample(seed_ids, size = floor(length(seed_ids)*percent_train), \n",
    "                             replace=FALSE)\n",
    "        train_ids <- c(train_ids, seed_train)\n",
    "    }\n",
    "    test_ids <- setdiff(1:nrow(founders), train_ids)\n",
    "    train_labs <- founders$Founder[train_ids]\n",
    "    test_labs <- founders$Founder[test_ids]\n",
    "\n",
    "    model <- e1071::svm(scaled_data[train_ids,], train_labs, type='C-classification',\n",
    "                        kernel='polynomial', coef0=5, degree=3, gamma=0.01, cost=50, scale=FALSE)\n",
    "    pred <- stats::predict(model, scaled_data[test_ids,])\n",
    "    results[,,j] <- matrix(as.numeric(table(pred, test_labs)),\n",
    "                            length(founders_names), length(founders_names))\n",
    "}"
   ]
  },
  {
   "cell_type": "markdown",
   "metadata": {},
   "source": [
    "- Save the resulting 3D array as an RDS file"
   ]
  },
  {
   "cell_type": "code",
   "execution_count": 31,
   "metadata": {},
   "outputs": [],
   "source": [
    "filename <- paste('svm_results',tolower(gsub(' ', '_', norm)), \n",
    "                  tolower(info_type), d, TT, kernel, dims, 'founders.rds', sep='_')\n",
    "base::saveRDS(results, filename)"
   ]
  },
  {
   "cell_type": "markdown",
   "metadata": {},
   "source": [
    "## Only Topological + KPCA information\n",
    "\n",
    "- Now use only the topological descriptors"
   ]
  },
  {
   "cell_type": "code",
   "execution_count": 73,
   "metadata": {},
   "outputs": [
    {
     "data": {
      "text/html": [
       "<style>\n",
       ".list-inline {list-style: none; margin:0; padding: 0}\n",
       ".list-inline>li {display: inline-block}\n",
       ".list-inline>li:not(:last-child)::after {content: \"\\00b7\"; padding: 0 .5ex}\n",
       "</style>\n",
       "<ol class=list-inline><li>3121</li><li>12</li></ol>\n"
      ],
      "text/latex": [
       "\\begin{enumerate*}\n",
       "\\item 3121\n",
       "\\item 12\n",
       "\\end{enumerate*}\n"
      ],
      "text/markdown": [
       "1. 3121\n",
       "2. 12\n",
       "\n",
       "\n"
      ],
      "text/plain": [
       "[1] 3121   12"
      ]
     },
     "metadata": {},
     "output_type": "display_data"
    }
   ],
   "source": [
    "info_type <- 'Topological'\n",
    "scaled_data <- base::scale(kpc@rotated, center=TRUE, scale=TRUE)\n",
    "dim(scaled_data)"
   ]
  },
  {
   "cell_type": "code",
   "execution_count": null,
   "metadata": {},
   "outputs": [],
   "source": [
    "percent_train <- 0.8\n",
    "train_ids <- c()\n",
    "for(i in 1:length(founders_names_original)){\n",
    "    seed_ids <- which(founders$Founder == founders_names_original[i])\n",
    "    seed_train <- sample(seed_ids, size = floor(length(seed_ids)*percent_train), \n",
    "                         replace=FALSE)\n",
    "    train_ids <- c(train_ids, seed_train)\n",
    "}\n",
    "test_ids <- setdiff(1:nrow(founders), train_ids)\n",
    "train_labs <- founders$Founder[train_ids]\n",
    "test_labs <- founders$Founder[test_ids]"
   ]
  },
  {
   "cell_type": "code",
   "execution_count": 35,
   "metadata": {},
   "outputs": [
    {
     "name": "stdout",
     "output_type": "stream",
     "text": [
      "[1] \"Classification accuracy: 54.7 %\"\n"
     ]
    }
   ],
   "source": [
    "model <- e1071::svm(scaled_data[train_ids,], train_labs, type='C-classification',\n",
    "                    kernel='polynomial', coef0=10, degree=2, gamma=5, cost=100, scale=FALSE)\n",
    "pred <- stats::predict(model, scaled_data[test_ids,])\n",
    "clasification <- matrix(as.numeric(table(pred, test_labs)),\n",
    "                        length(founders_names), length(founders_names))\n",
    "accuracy <- sum(diag(clasification))/sum(clasification)\n",
    "\n",
    "print(paste('Classification accuracy:', 100*signif(accuracy,3), '%'))"
   ]
  },
  {
   "cell_type": "code",
   "execution_count": 41,
   "metadata": {},
   "outputs": [
    {
     "name": "stdout",
     "output_type": "stream",
     "text": [
      "[1] \"Classification accuracy: 44.8 %\"\n"
     ]
    }
   ],
   "source": [
    "model <- e1071::svm(scaled_data[train_ids,], train_labs, type='C-classification',\n",
    "                    kernel='radial', coef0=10, degree=2, gamma=5, cost=100, scale=FALSE)\n",
    "pred <- stats::predict(model, scaled_data[test_ids,])\n",
    "clasification <- matrix(as.numeric(table(pred, test_labs)),\n",
    "                        length(founders_names), length(founders_names))\n",
    "accuracy <- sum(diag(clasification))/sum(clasification)\n",
    "\n",
    "print(paste('Classification accuracy:', 100*signif(accuracy,3), '%'))"
   ]
  },
  {
   "cell_type": "code",
   "execution_count": 32,
   "metadata": {},
   "outputs": [],
   "source": [
    "info_type <- 'Topological'\n",
    "scaled_data <- base::scale(kpc@rotated, center=TRUE, scale=TRUE)\n",
    "\n",
    "sample_runs <- 100\n",
    "percent_train <- 0.8\n",
    "results <- base::array(0, dim=c(length(founders_names), length(founders_names), sample_runs))\n",
    "\n",
    "for(j in 1:sample_runs){\n",
    "    train_ids <- c()\n",
    "    for(i in 1:length(founders_names_original)){\n",
    "        seed_ids <- which(founders$Founder == founders_names_original[i])\n",
    "        seed_train <- sample(seed_ids, size = floor(length(seed_ids)*percent_train), \n",
    "                             replace=FALSE)\n",
    "        train_ids <- c(train_ids, seed_train)\n",
    "    }\n",
    "    test_ids <- setdiff(1:nrow(founders), train_ids)\n",
    "    train_labs <- founders$Founder[train_ids]\n",
    "    test_labs <- founders$Founder[test_ids]\n",
    "\n",
    "    model <- e1071::svm(scaled_data[train_ids,], train_labs, type='C-classification',\n",
    "                        kernel='polynomial', coef0=10, degree=2, gamma=5, cost=100, scale=FALSE)\n",
    "    pred <- stats::predict(model, scaled_data[test_ids,])\n",
    "    results[,,j] <- matrix(as.numeric(table(pred, test_labs)),\n",
    "                            length(founders_names), length(founders_names))\n",
    "}"
   ]
  },
  {
   "cell_type": "code",
   "execution_count": 33,
   "metadata": {},
   "outputs": [],
   "source": [
    "filename <- paste('svm_results',tolower(gsub(' ', '_', norm)), \n",
    "                  tolower(info_type), d, TT, kernel, dims, 'founders.rds', sep='_')\n",
    "base::saveRDS(results, filename)"
   ]
  },
  {
   "cell_type": "code",
   "execution_count": 60,
   "metadata": {},
   "outputs": [
    {
     "data": {
      "text/html": [
       "<style>\n",
       ".list-inline {list-style: none; margin:0; padding: 0}\n",
       ".list-inline>li {display: inline-block}\n",
       ".list-inline>li:not(:last-child)::after {content: \"\\00b7\"; padding: 0 .5ex}\n",
       "</style>\n",
       "<ol class=list-inline><li>3121</li><li>23</li></ol>\n"
      ],
      "text/latex": [
       "\\begin{enumerate*}\n",
       "\\item 3121\n",
       "\\item 23\n",
       "\\end{enumerate*}\n"
      ],
      "text/markdown": [
       "1. 3121\n",
       "2. 23\n",
       "\n",
       "\n"
      ],
      "text/plain": [
       "[1] 3121   23"
      ]
     },
     "metadata": {},
     "output_type": "display_data"
    },
    {
     "data": {
      "text/html": [
       "<table>\n",
       "<caption>A matrix: 5 × 23 of type dbl</caption>\n",
       "<thead>\n",
       "\t<tr><th></th><th scope=col>Length</th><th scope=col>Width</th><th scope=col>Height</th><th scope=col>HeightMax</th><th scope=col>Shell</th><th scope=col>Area</th><th scope=col>Vol</th><th scope=col>ConvexArea</th><th scope=col>ConvexVol</th><th scope=col>ConvexAreaRatio</th><th scope=col>⋯</th><th scope=col>3</th><th scope=col>4</th><th scope=col>5</th><th scope=col>6</th><th scope=col>7</th><th scope=col>8</th><th scope=col>9</th><th scope=col>10</th><th scope=col>11</th><th scope=col>12</th></tr>\n",
       "</thead>\n",
       "<tbody>\n",
       "\t<tr><th scope=row>1</th><td> 0.33277264</td><td> 2.0880757</td><td>1.3426304</td><td>1.5325907</td><td> 1.25191221</td><td> 1.0868236</td><td>1.3225306</td><td> 1.16746191</td><td>1.3774174</td><td>-0.5391536</td><td>⋯</td><td>-1.104082e-16</td><td>-7.602872e-18</td><td>3.635430e-17</td><td> 1.389261e-17</td><td>-5.599158e-17</td><td> 1.751885e-17</td><td>-3.160703e-17</td><td>-2.095990e-17</td><td> 1.483759e-17</td><td> 1.216598e-17</td></tr>\n",
       "\t<tr><th scope=row>2</th><td>-0.11654863</td><td>-0.3338037</td><td>0.5324128</td><td>0.5326279</td><td>-0.06973813</td><td> 0.1377740</td><td>0.1152911</td><td> 0.07223388</td><td>0.1178263</td><td> 0.7196770</td><td>⋯</td><td> 1.195920e-02</td><td>-2.347649e-02</td><td>1.359711e-02</td><td>-6.626404e-03</td><td> 1.349544e-03</td><td> 5.044467e-02</td><td> 9.555320e-03</td><td> 2.814836e-03</td><td>-1.134730e-02</td><td>-1.324472e-02</td></tr>\n",
       "\t<tr><th scope=row>3</th><td>-0.55052796</td><td> 0.4842395</td><td>0.7308134</td><td>1.2625320</td><td>-0.03514948</td><td>-0.1004895</td><td>0.1157133</td><td>-0.02297631</td><td>0.1316591</td><td>-0.8063126</td><td>⋯</td><td> 4.052952e-03</td><td>-5.354103e-03</td><td>5.251799e-02</td><td> 2.202566e-03</td><td> 1.056209e-02</td><td>-1.742858e-02</td><td> 1.616178e-03</td><td> 2.939675e-03</td><td> 3.601633e-03</td><td>-2.677796e-03</td></tr>\n",
       "\t<tr><th scope=row>4</th><td> 0.04206057</td><td> 0.6770330</td><td>1.3325318</td><td>1.4306697</td><td> 0.74400526</td><td> 0.4371050</td><td>0.7837276</td><td> 0.62186402</td><td>0.7962748</td><td>-1.6617855</td><td>⋯</td><td>-4.079413e-03</td><td> 2.652040e-02</td><td>3.802434e-02</td><td>-7.470408e-03</td><td>-1.141892e-02</td><td>-8.663931e-02</td><td> 1.903914e-02</td><td> 1.561918e-02</td><td>-2.336464e-03</td><td>-3.408520e-03</td></tr>\n",
       "\t<tr><th scope=row>5</th><td> 0.23999612</td><td> 1.9765720</td><td>1.6997866</td><td>2.0690106</td><td> 1.06895648</td><td> 1.1699155</td><td>1.3054713</td><td> 1.09432589</td><td>1.3407883</td><td> 0.8421753</td><td>⋯</td><td> 3.211307e-02</td><td>-1.248039e-02</td><td>3.113082e-02</td><td>-3.945422e-02</td><td>-5.911792e-02</td><td> 5.651528e-02</td><td>-2.331383e-02</td><td> 6.817680e-02</td><td> 5.111699e-02</td><td>-1.086770e-02</td></tr>\n",
       "</tbody>\n",
       "</table>\n"
      ],
      "text/latex": [
       "A matrix: 5 × 23 of type dbl\n",
       "\\begin{tabular}{r|lllllllllllllllllllll}\n",
       "  & Length & Width & Height & HeightMax & Shell & Area & Vol & ConvexArea & ConvexVol & ConvexAreaRatio & ⋯ & 3 & 4 & 5 & 6 & 7 & 8 & 9 & 10 & 11 & 12\\\\\n",
       "\\hline\n",
       "\t1 &  0.33277264 &  2.0880757 & 1.3426304 & 1.5325907 &  1.25191221 &  1.0868236 & 1.3225306 &  1.16746191 & 1.3774174 & -0.5391536 & ⋯ & -1.104082e-16 & -7.602872e-18 & 3.635430e-17 &  1.389261e-17 & -5.599158e-17 &  1.751885e-17 & -3.160703e-17 & -2.095990e-17 &  1.483759e-17 &  1.216598e-17\\\\\n",
       "\t2 & -0.11654863 & -0.3338037 & 0.5324128 & 0.5326279 & -0.06973813 &  0.1377740 & 0.1152911 &  0.07223388 & 0.1178263 &  0.7196770 & ⋯ &  1.195920e-02 & -2.347649e-02 & 1.359711e-02 & -6.626404e-03 &  1.349544e-03 &  5.044467e-02 &  9.555320e-03 &  2.814836e-03 & -1.134730e-02 & -1.324472e-02\\\\\n",
       "\t3 & -0.55052796 &  0.4842395 & 0.7308134 & 1.2625320 & -0.03514948 & -0.1004895 & 0.1157133 & -0.02297631 & 0.1316591 & -0.8063126 & ⋯ &  4.052952e-03 & -5.354103e-03 & 5.251799e-02 &  2.202566e-03 &  1.056209e-02 & -1.742858e-02 &  1.616178e-03 &  2.939675e-03 &  3.601633e-03 & -2.677796e-03\\\\\n",
       "\t4 &  0.04206057 &  0.6770330 & 1.3325318 & 1.4306697 &  0.74400526 &  0.4371050 & 0.7837276 &  0.62186402 & 0.7962748 & -1.6617855 & ⋯ & -4.079413e-03 &  2.652040e-02 & 3.802434e-02 & -7.470408e-03 & -1.141892e-02 & -8.663931e-02 &  1.903914e-02 &  1.561918e-02 & -2.336464e-03 & -3.408520e-03\\\\\n",
       "\t5 &  0.23999612 &  1.9765720 & 1.6997866 & 2.0690106 &  1.06895648 &  1.1699155 & 1.3054713 &  1.09432589 & 1.3407883 &  0.8421753 & ⋯ &  3.211307e-02 & -1.248039e-02 & 3.113082e-02 & -3.945422e-02 & -5.911792e-02 &  5.651528e-02 & -2.331383e-02 &  6.817680e-02 &  5.111699e-02 & -1.086770e-02\\\\\n",
       "\\end{tabular}\n"
      ],
      "text/markdown": [
       "\n",
       "A matrix: 5 × 23 of type dbl\n",
       "\n",
       "| <!--/--> | Length | Width | Height | HeightMax | Shell | Area | Vol | ConvexArea | ConvexVol | ConvexAreaRatio | ⋯ | 3 | 4 | 5 | 6 | 7 | 8 | 9 | 10 | 11 | 12 |\n",
       "|---|---|---|---|---|---|---|---|---|---|---|---|---|---|---|---|---|---|---|---|---|---|\n",
       "| 1 |  0.33277264 |  2.0880757 | 1.3426304 | 1.5325907 |  1.25191221 |  1.0868236 | 1.3225306 |  1.16746191 | 1.3774174 | -0.5391536 | ⋯ | -1.104082e-16 | -7.602872e-18 | 3.635430e-17 |  1.389261e-17 | -5.599158e-17 |  1.751885e-17 | -3.160703e-17 | -2.095990e-17 |  1.483759e-17 |  1.216598e-17 |\n",
       "| 2 | -0.11654863 | -0.3338037 | 0.5324128 | 0.5326279 | -0.06973813 |  0.1377740 | 0.1152911 |  0.07223388 | 0.1178263 |  0.7196770 | ⋯ |  1.195920e-02 | -2.347649e-02 | 1.359711e-02 | -6.626404e-03 |  1.349544e-03 |  5.044467e-02 |  9.555320e-03 |  2.814836e-03 | -1.134730e-02 | -1.324472e-02 |\n",
       "| 3 | -0.55052796 |  0.4842395 | 0.7308134 | 1.2625320 | -0.03514948 | -0.1004895 | 0.1157133 | -0.02297631 | 0.1316591 | -0.8063126 | ⋯ |  4.052952e-03 | -5.354103e-03 | 5.251799e-02 |  2.202566e-03 |  1.056209e-02 | -1.742858e-02 |  1.616178e-03 |  2.939675e-03 |  3.601633e-03 | -2.677796e-03 |\n",
       "| 4 |  0.04206057 |  0.6770330 | 1.3325318 | 1.4306697 |  0.74400526 |  0.4371050 | 0.7837276 |  0.62186402 | 0.7962748 | -1.6617855 | ⋯ | -4.079413e-03 |  2.652040e-02 | 3.802434e-02 | -7.470408e-03 | -1.141892e-02 | -8.663931e-02 |  1.903914e-02 |  1.561918e-02 | -2.336464e-03 | -3.408520e-03 |\n",
       "| 5 |  0.23999612 |  1.9765720 | 1.6997866 | 2.0690106 |  1.06895648 |  1.1699155 | 1.3054713 |  1.09432589 | 1.3407883 |  0.8421753 | ⋯ |  3.211307e-02 | -1.248039e-02 | 3.113082e-02 | -3.945422e-02 | -5.911792e-02 |  5.651528e-02 | -2.331383e-02 |  6.817680e-02 |  5.111699e-02 | -1.086770e-02 |\n",
       "\n"
      ],
      "text/plain": [
       "  Length      Width      Height    HeightMax Shell       Area       Vol      \n",
       "1  0.33277264  2.0880757 1.3426304 1.5325907  1.25191221  1.0868236 1.3225306\n",
       "2 -0.11654863 -0.3338037 0.5324128 0.5326279 -0.06973813  0.1377740 0.1152911\n",
       "3 -0.55052796  0.4842395 0.7308134 1.2625320 -0.03514948 -0.1004895 0.1157133\n",
       "4  0.04206057  0.6770330 1.3325318 1.4306697  0.74400526  0.4371050 0.7837276\n",
       "5  0.23999612  1.9765720 1.6997866 2.0690106  1.06895648  1.1699155 1.3054713\n",
       "  ConvexArea  ConvexVol ConvexAreaRatio ⋯ 3             4            \n",
       "1  1.16746191 1.3774174 -0.5391536      ⋯ -1.104082e-16 -7.602872e-18\n",
       "2  0.07223388 0.1178263  0.7196770      ⋯  1.195920e-02 -2.347649e-02\n",
       "3 -0.02297631 0.1316591 -0.8063126      ⋯  4.052952e-03 -5.354103e-03\n",
       "4  0.62186402 0.7962748 -1.6617855      ⋯ -4.079413e-03  2.652040e-02\n",
       "5  1.09432589 1.3407883  0.8421753      ⋯  3.211307e-02 -1.248039e-02\n",
       "  5            6             7             8             9            \n",
       "1 3.635430e-17  1.389261e-17 -5.599158e-17  1.751885e-17 -3.160703e-17\n",
       "2 1.359711e-02 -6.626404e-03  1.349544e-03  5.044467e-02  9.555320e-03\n",
       "3 5.251799e-02  2.202566e-03  1.056209e-02 -1.742858e-02  1.616178e-03\n",
       "4 3.802434e-02 -7.470408e-03 -1.141892e-02 -8.663931e-02  1.903914e-02\n",
       "5 3.113082e-02 -3.945422e-02 -5.911792e-02  5.651528e-02 -2.331383e-02\n",
       "  10            11            12           \n",
       "1 -2.095990e-17  1.483759e-17  1.216598e-17\n",
       "2  2.814836e-03 -1.134730e-02 -1.324472e-02\n",
       "3  2.939675e-03  3.601633e-03 -2.677796e-03\n",
       "4  1.561918e-02 -2.336464e-03 -3.408520e-03\n",
       "5  6.817680e-02  5.111699e-02 -1.086770e-02"
      ]
     },
     "metadata": {},
     "output_type": "display_data"
    },
    {
     "name": "stderr",
     "output_type": "stream",
     "text": [
      "Warning message in write.csv(scaled_data, filename, row.names = FALSE, col.names = TRUE):\n",
      "“attempt to set 'col.names' ignored”\n"
     ]
    }
   ],
   "source": [
    "info_type <- 'Combined'\n",
    "mixed <- cbind(founders[,trad_traits], kpc@rotated)\n",
    "scaled_data <- base::scale(mixed, center=TRUE, scale=TRUE)\n",
    "dim(scaled_data)\n",
    "scaled_data[1:5, ]\n",
    "\n",
    "filename <- paste('kpca',tolower(gsub(' ', '_', norm)), \n",
    "                  tolower(info_type), d, TT, kernel, dims, 'founders.csv', sep='_')\n",
    "\n",
    "utils::write.csv(scaled_data, filename, row.names=FALSE, col.names=TRUE)"
   ]
  },
  {
   "cell_type": "code",
   "execution_count": 72,
   "metadata": {},
   "outputs": [],
   "source": [
    "pca <- stats::prcomp(t(founders[,trad_traits]), scale=TRUE)"
   ]
  },
  {
   "cell_type": "code",
   "execution_count": 76,
   "metadata": {},
   "outputs": [
    {
     "data": {
      "text/html": [
       "<style>\n",
       ".list-inline {list-style: none; margin:0; padding: 0}\n",
       ".list-inline>li {display: inline-block}\n",
       ".list-inline>li:not(:last-child)::after {content: \"\\00b7\"; padding: 0 .5ex}\n",
       "</style>\n",
       "<ol class=list-inline><li>55.8525680945642</li><li>1.14139801805561</li><li>0.39772311351099</li><li>0.168764248847498</li><li>0.0341588435764172</li><li>0.00345072914298738</li><li>0.00151849040703738</li><li>0.00115696920840252</li><li>0.00061724350817114</li><li>1.48981991710141e-05</li><li>3.75309482660009e-14</li></ol>\n"
      ],
      "text/latex": [
       "\\begin{enumerate*}\n",
       "\\item 55.8525680945642\n",
       "\\item 1.14139801805561\n",
       "\\item 0.39772311351099\n",
       "\\item 0.168764248847498\n",
       "\\item 0.0341588435764172\n",
       "\\item 0.00345072914298738\n",
       "\\item 0.00151849040703738\n",
       "\\item 0.00115696920840252\n",
       "\\item 0.00061724350817114\n",
       "\\item 1.48981991710141e-05\n",
       "\\item 3.75309482660009e-14\n",
       "\\end{enumerate*}\n"
      ],
      "text/markdown": [
       "1. 55.8525680945642\n",
       "2. 1.14139801805561\n",
       "3. 0.39772311351099\n",
       "4. 0.168764248847498\n",
       "5. 0.0341588435764172\n",
       "6. 0.00345072914298738\n",
       "7. 0.00151849040703738\n",
       "8. 0.00115696920840252\n",
       "9. 0.00061724350817114\n",
       "10. 1.48981991710141e-05\n",
       "11. 3.75309482660009e-14\n",
       "\n",
       "\n"
      ],
      "text/plain": [
       " [1] 5.585257e+01 1.141398e+00 3.977231e-01 1.687642e-01 3.415884e-02\n",
       " [6] 3.450729e-03 1.518490e-03 1.156969e-03 6.172435e-04 1.489820e-05\n",
       "[11] 3.753095e-14"
      ]
     },
     "metadata": {},
     "output_type": "display_data"
    }
   ],
   "source": [
    "pca$sdev"
   ]
  },
  {
   "cell_type": "code",
   "execution_count": 73,
   "metadata": {},
   "outputs": [
    {
     "data": {
      "image/png": "[encoded data removed]",
      "text/plain": [
       "plot without title"
      ]
     },
     "metadata": {
      "image/png": {
       "height": 420,
       "width": 420
      }
     },
     "output_type": "display_data"
    }
   ],
   "source": [
    "plot(pca$rotation[,1:3])"
   ]
  },
  {
   "cell_type": "markdown",
   "metadata": {},
   "source": [
    "## Using only traditional measures\n",
    "\n",
    "- Repeat the same procedure as before, except this time we use only the traditional descriptors\n",
    "- **We are not affected by the KPCA step, and these results are independent of the parameters selected for the ECT**"
   ]
  },
  {
   "cell_type": "code",
   "execution_count": 85,
   "metadata": {},
   "outputs": [
    {
     "data": {
      "text/html": [
       "<style>\n",
       ".list-inline {list-style: none; margin:0; padding: 0}\n",
       ".list-inline>li {display: inline-block}\n",
       ".list-inline>li:not(:last-child)::after {content: \"\\00b7\"; padding: 0 .5ex}\n",
       "</style>\n",
       "<ol class=list-inline><li>3121</li><li>11</li></ol>\n"
      ],
      "text/latex": [
       "\\begin{enumerate*}\n",
       "\\item 3121\n",
       "\\item 11\n",
       "\\end{enumerate*}\n"
      ],
      "text/markdown": [
       "1. 3121\n",
       "2. 11\n",
       "\n",
       "\n"
      ],
      "text/plain": [
       "[1] 3121   11"
      ]
     },
     "metadata": {},
     "output_type": "display_data"
    }
   ],
   "source": [
    "info_type <- 'Traditional'\n",
    "scaled_data <- base::scale(founders[,trad_traits], center=TRUE, scale=TRUE)\n",
    "dim(scaled_data)"
   ]
  },
  {
   "cell_type": "code",
   "execution_count": 93,
   "metadata": {},
   "outputs": [
    {
     "data": {
      "text/html": [
       "<style>\n",
       ".list-inline {list-style: none; margin:0; padding: 0}\n",
       ".list-inline>li {display: inline-block}\n",
       ".list-inline>li:not(:last-child)::after {content: \"\\00b7\"; padding: 0 .5ex}\n",
       "</style>\n",
       "<ol class=list-inline><li>3121</li><li>9</li></ol>\n"
      ],
      "text/latex": [
       "\\begin{enumerate*}\n",
       "\\item 3121\n",
       "\\item 9\n",
       "\\end{enumerate*}\n"
      ],
      "text/markdown": [
       "1. 3121\n",
       "2. 9\n",
       "\n",
       "\n"
      ],
      "text/plain": [
       "[1] 3121    9"
      ]
     },
     "metadata": {},
     "output_type": "display_data"
    }
   ],
   "source": [
    "info_type <- 'Traditional'\n",
    "scaled_data <- base::scale(pca$rotation[,1:9], center=TRUE, scale=TRUE)\n",
    "dim(scaled_data)"
   ]
  },
  {
   "cell_type": "code",
   "execution_count": 103,
   "metadata": {},
   "outputs": [],
   "source": [
    "mixed <- cbind(pca$rotation[,1:3], kpc@rotated)\n",
    "scaled_data <- base::scale(mixed, center=TRUE, scale=TRUE)"
   ]
  },
  {
   "cell_type": "code",
   "execution_count": 104,
   "metadata": {},
   "outputs": [],
   "source": [
    "percent_train <- 0.8\n",
    "train_ids <- c()\n",
    "for(i in 1:length(founders_names_original)){\n",
    "    seed_ids <- which(founders$Founder == founders_names_original[i])\n",
    "    seed_train <- sample(seed_ids, size = floor(length(seed_ids)*percent_train), \n",
    "                         replace=FALSE)\n",
    "    train_ids <- c(train_ids, seed_train)\n",
    "}\n",
    "test_ids <- setdiff(1:nrow(founders), train_ids)\n",
    "train_labs <- founders$Founder[train_ids]\n",
    "test_labs <- founders$Founder[test_ids]"
   ]
  },
  {
   "cell_type": "code",
   "execution_count": 105,
   "metadata": {},
   "outputs": [
    {
     "name": "stdout",
     "output_type": "stream",
     "text": [
      "[1] \"Classification accuracy: 41.8 %\"\n"
     ]
    }
   ],
   "source": [
    "model <- e1071::svm(scaled_data[train_ids,], train_labs, type='C-classification',\n",
    "                    kernel='polynomial', coef0=5, degree=3, gamma=0.01, cost=50, scale=FALSE)\n",
    "pred <- stats::predict(model, scaled_data[test_ids,])\n",
    "clasification <- matrix(as.numeric(table(pred, test_labs)),\n",
    "                        length(founders_names), length(founders_names))\n",
    "accuracy <- sum(diag(clasification))/sum(clasification)\n",
    "\n",
    "print(paste('Classification accuracy:', 100*signif(accuracy,3), '%'))"
   ]
  },
  {
   "cell_type": "code",
   "execution_count": 106,
   "metadata": {},
   "outputs": [
    {
     "name": "stdout",
     "output_type": "stream",
     "text": [
      "[1] \"Classification accuracy: 38.8 %\"\n"
     ]
    }
   ],
   "source": [
    "model <- e1071::svm(scaled_data[train_ids,], train_labs, type='C-classification',\n",
    "                    kernel='radial', coef0=10, degree=2, gamma=0.1, cost=10, scale=FALSE)\n",
    "pred <- stats::predict(model, scaled_data[test_ids,])\n",
    "clasification <- matrix(as.numeric(table(pred, test_labs)),\n",
    "                        length(founders_names), length(founders_names))\n",
    "accuracy <- sum(diag(clasification))/sum(clasification)\n",
    "\n",
    "print(paste('Classification accuracy:', 100*signif(accuracy,3), '%'))"
   ]
  },
  {
   "cell_type": "code",
   "execution_count": 102,
   "metadata": {},
   "outputs": [
    {
     "name": "stdout",
     "output_type": "stream",
     "text": [
      "[1] \"Classification accuracy: 64.8 %\"\n"
     ]
    }
   ],
   "source": [
    "model <- e1071::svm(scaled_data[train_ids,], train_labs, type='C-classification',\n",
    "                    kernel='linear', coef0=10, degree=2, gamma=0.1, cost=10, scale=FALSE)\n",
    "pred <- stats::predict(model, scaled_data[test_ids,])\n",
    "clasification <- matrix(as.numeric(table(pred, test_labs)),\n",
    "                        length(founders_names), length(founders_names))\n",
    "accuracy <- sum(diag(clasification))/sum(clasification)\n",
    "\n",
    "print(paste('Classification accuracy:', 100*signif(accuracy,3), '%'))"
   ]
  },
  {
   "cell_type": "code",
   "execution_count": 210,
   "metadata": {},
   "outputs": [],
   "source": [
    "sample_runs <- 100\n",
    "percent_train <- 0.8\n",
    "results <- base::array(0, dim=c(length(founders_names), length(founders_names), sample_runs))\n",
    "\n",
    "for(j in 1:sample_runs){\n",
    "    train_ids <- c()\n",
    "    for(i in 1:length(founders_names_original)){\n",
    "        seed_ids <- which(founders$Founder == founders_names_original[i])\n",
    "        seed_train <- sample(seed_ids, size = floor(length(seed_ids)*percent_train), \n",
    "                             replace=FALSE)\n",
    "        train_ids <- c(train_ids, seed_train)\n",
    "    }\n",
    "    test_ids <- setdiff(1:nrow(founders), train_ids)\n",
    "    train_labs <- founders$Founder[train_ids]\n",
    "    test_labs <- founders$Founder[test_ids]\n",
    "\n",
    "    model <- e1071::svm(scaled_data[train_ids,], train_labs, type='C-classification',\n",
    "                        kernel='polynomial', coef0=10, degree=2, gamma=0.1, cost=10, scale=FALSE)\n",
    "    pred <- stats::predict(model, scaled_data[test_ids,])\n",
    "    results[,,j] <- matrix(as.numeric(table(pred, test_labs)),\n",
    "                            length(founders_names), length(founders_names))\n",
    "}"
   ]
  },
  {
   "cell_type": "code",
   "execution_count": 212,
   "metadata": {},
   "outputs": [],
   "source": [
    "filename <- paste('svm_results',tolower(gsub(' ', '_', norm)), \n",
    "                  tolower(info_type), d, TT, kernel, dims, 'founders.rds', sep='_')\n",
    "base::saveRDS(results, filename)"
   ]
  }
 ],
 "metadata": {
  "kernelspec": {
   "display_name": "R",
   "language": "R",
   "name": "ir"
  },
  "language_info": {
   "codemirror_mode": "r",
   "file_extension": ".r",
   "mimetype": "text/x-r-source",
   "name": "R",
   "pygments_lexer": "r",
   "version": "4.1.0"
  }
 },
 "nbformat": 4,
 "nbformat_minor": 4
}
